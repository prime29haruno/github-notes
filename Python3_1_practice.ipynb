{
  "nbformat": 4,
  "nbformat_minor": 0,
  "metadata": {
    "colab": {
      "provenance": [],
      "authorship_tag": "ABX9TyOrqAlEq00g+pdAsaO+Bhfi",
      "include_colab_link": true
    },
    "kernelspec": {
      "name": "python3",
      "display_name": "Python 3"
    },
    "language_info": {
      "name": "python"
    }
  },
  "cells": [
    {
      "cell_type": "markdown",
      "metadata": {
        "id": "view-in-github",
        "colab_type": "text"
      },
      "source": [
        "<a href=\"https://colab.research.google.com/github/prime29haruno/github-notes/blob/main/Python3_1_practice.ipynb\" target=\"_parent\"><img src=\"https://colab.research.google.com/assets/colab-badge.svg\" alt=\"Open In Colab\"/></a>"
      ]
    },
    {
      "cell_type": "markdown",
      "source": [
        "①リスト list1 が引数として与えられたとき、list1 の各要素 value をキー、value の list1 におけるインデックスをキーに対応する値とした辞書を返す関数 reverse_lookup を作成してください。\n",
        "\n",
        "以下のセルの ... のところを書き換えて reverse_lookup(list1) を作成してください。"
      ],
      "metadata": {
        "id": "-2QLaEifNPDZ"
      }
    },
    {
      "cell_type": "code",
      "execution_count": null,
      "metadata": {
        "id": "s0SU3X-9NJC1"
      },
      "outputs": [],
      "source": [
        "def reverse_lookup(list1):\n",
        "    ..."
      ]
    },
    {
      "cell_type": "markdown",
      "source": [
        "上のセルで解答を作成した後、以下のセルを実行し、実行結果が True になることを確認してください。"
      ],
      "metadata": {
        "id": "6VQF16vLNTKf"
      }
    },
    {
      "cell_type": "code",
      "source": [
        "def reverse_lookup(list1):\n",
        "  dic1 = {}\n",
        "  for value in list1:\n",
        "    dic1[value] = list1.index(value)\n",
        "  return dic1\n",
        "\n",
        "print(reverse_lookup(['apple', 'pen', 'orange']) == {'apple': 0, 'orange': 2, 'pen': 1})"
      ],
      "metadata": {
        "colab": {
          "base_uri": "https://localhost:8080/"
        },
        "id": "nX9B09JsNVlt",
        "outputId": "68220607-bc3f-4b67-d33b-b8f512a57617"
      },
      "execution_count": 2,
      "outputs": [
        {
          "output_type": "stream",
          "name": "stdout",
          "text": [
            "True\n"
          ]
        }
      ]
    },
    {
      "cell_type": "markdown",
      "source": [
        "②辞書 dic1 と文字列 str1 が引数として与えられたとき、 以下のように dic1 を変更する関数 handle_collision を作成してください。 ただし、dic1 のキーは整数、キーに対応する値は文字列を要素とするリストとします。\n",
        "\n",
        "dic1 に str1 の長さ n がキーとして登録されていない場合、str1 のみを要素とするリスト ls を作成し、 dic1 にキー n、n に対応する値 ls を登録します。\n",
        "dic1 に str1 の長さ n がキーとして登録されている場合、そのキーに対応する値（リスト）に str1 を追加します。\n",
        "以下のセルの ... のところを書き換えて handle_collision(dic1, str1) を作成してください。"
      ],
      "metadata": {
        "id": "Yg_mUPyAO91C"
      }
    },
    {
      "cell_type": "code",
      "source": [
        "def handle_collision(dic1, str1):\n",
        "    ..."
      ],
      "metadata": {
        "id": "RqCzYG_BN6_P"
      },
      "execution_count": null,
      "outputs": []
    },
    {
      "cell_type": "markdown",
      "source": [
        "上のセルで解答を作成した後、以下のセルを実行し、実行結果が True になることを確認してください。"
      ],
      "metadata": {
        "id": "3hx7cvlZPHFI"
      }
    },
    {
      "cell_type": "code",
      "source": [
        "def handle_collision(dic1, str1):\n",
        "  if dic1.get(len(str1)) is None:\n",
        "    ls = [str1]\n",
        "  else:\n",
        "    ls = dic1[len(str1)]\n",
        "    ls.append(str1)\n",
        "  dic1[len(str1)] = ls\n",
        "\n",
        "dic1_orig = {3: ['ham', 'egg'], 6: ['coffee', 'brandy'], 9: ['port wine'], 15: ['curried chicken']}\n",
        "dic1_result = {3: ['ham', 'egg', 'tea'], 6: ['coffee', 'brandy'], 9: ['port wine'], 15: ['curried chicken']}\n",
        "handle_collision(dic1_orig, 'tea')\n",
        "print(dic1_orig == dic1_result)"
      ],
      "metadata": {
        "colab": {
          "base_uri": "https://localhost:8080/"
        },
        "id": "-icDARdMPK-V",
        "outputId": "fc3a1147-fe35-404a-a1d4-3a3023a1d7a8"
      },
      "execution_count": 3,
      "outputs": [
        {
          "output_type": "stream",
          "name": "stdout",
          "text": [
            "True\n"
          ]
        }
      ]
    },
    {
      "cell_type": "code",
      "source": [],
      "metadata": {
        "id": "I7SrynKwP1pv"
      },
      "execution_count": null,
      "outputs": []
    }
  ]
}