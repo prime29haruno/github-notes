{
  "nbformat": 4,
  "nbformat_minor": 0,
  "metadata": {
    "colab": {
      "provenance": [],
      "authorship_tag": "ABX9TyPv/fzOjFM7VZaBzZsm0B/T",
      "include_colab_link": true
    },
    "kernelspec": {
      "name": "python3",
      "display_name": "Python 3"
    },
    "language_info": {
      "name": "python"
    }
  },
  "cells": [
    {
      "cell_type": "markdown",
      "metadata": {
        "id": "view-in-github",
        "colab_type": "text"
      },
      "source": [
        "<a href=\"https://colab.research.google.com/github/prime29haruno/github-notes/blob/main/Python1_1%EF%BD%9E3_1practice_re.ipynb\" target=\"_parent\"><img src=\"https://colab.research.google.com/assets/colab-badge.svg\" alt=\"Open In Colab\"/></a>"
      ]
    },
    {
      "cell_type": "markdown",
      "source": [
        "1-0\n",
        "\n",
        "①次のCodeセルを選択して 10/3 と入力して実行してください。"
      ],
      "metadata": {
        "id": "ars4ofgZjliu"
      }
    },
    {
      "cell_type": "code",
      "execution_count": 1,
      "metadata": {
        "colab": {
          "base_uri": "https://localhost:8080/"
        },
        "id": "x9DfFke2jVeu",
        "outputId": "1faeb5c2-eb6b-41b5-a7df-0ba83bee47ff"
      },
      "outputs": [
        {
          "output_type": "execute_result",
          "data": {
            "text/plain": [
              "3.3333333333333335"
            ]
          },
          "metadata": {},
          "execution_count": 1
        }
      ],
      "source": [
        "10/3"
      ]
    },
    {
      "cell_type": "markdown",
      "source": [
        "1-1\n",
        "\n",
        "①黄金比を求めてください。黄金比とは、5 の平方根に 1 を加えて 2 で割ったものです。約 1.618 になるはずです。"
      ],
      "metadata": {
        "id": "pG8dJoe2j6BV"
      }
    },
    {
      "cell_type": "code",
      "source": [
        "(5 ** 0.5 + 1) / 2"
      ],
      "metadata": {
        "colab": {
          "base_uri": "https://localhost:8080/"
        },
        "id": "tYivXm6zjq9j",
        "outputId": "31fc6b1b-ea8c-49ac-bd72-b721e248f8fe"
      },
      "execution_count": 3,
      "outputs": [
        {
          "output_type": "execute_result",
          "data": {
            "text/plain": [
              "1.618033988749895"
            ]
          },
          "metadata": {},
          "execution_count": 3
        }
      ]
    },
    {
      "cell_type": "markdown",
      "source": [
        "1-2\n",
        "\n",
        "①f フィート i インチをセンチメートルに変換する関数 ft_to_cm(f,i) を定義してください。 ただし、1 フィート = 12 インチ = 30.48 cm としてよい。"
      ],
      "metadata": {
        "id": "h1kqsxPfkSL2"
      }
    },
    {
      "cell_type": "code",
      "source": [
        "def ft_to_cm(f, i):\n",
        "    ..."
      ],
      "metadata": {
        "id": "FYzB30l6kFer"
      },
      "execution_count": null,
      "outputs": []
    },
    {
      "cell_type": "markdown",
      "source": [
        "定義ができたら、次のセルを実行して、エラーがでないことを確認してください。"
      ],
      "metadata": {
        "id": "ycIdy2EjkmKU"
      }
    },
    {
      "cell_type": "code",
      "source": [
        "def ft_to_cm(f, i):\n",
        "  result = f * 30.48 + i * (30.48 / 12)\n",
        "  return result\n",
        "\n",
        "assert round(ft_to_cm(5, 2) - 157.48, 6) == 0\n",
        "assert round(ft_to_cm(6, 5) - 195.58, 6) == 0"
      ],
      "metadata": {
        "id": "0pH1yc77kuvm"
      },
      "execution_count": 5,
      "outputs": []
    },
    {
      "cell_type": "markdown",
      "source": [
        "②二次関数 ax^2+bx+c\n",
        " の値を求める quadratic(a,b,c,x) *を定義してください。*"
      ],
      "metadata": {
        "id": "HwrCLniXlNky"
      }
    },
    {
      "cell_type": "code",
      "source": [
        "def quadratic(a, b, c, x):\n",
        "    ..."
      ],
      "metadata": {
        "id": "CJVrfPeNlJU1"
      },
      "execution_count": null,
      "outputs": []
    },
    {
      "cell_type": "markdown",
      "source": [
        "定義ができたら、次のセルを実行して、エラーがでないことを確認してください。"
      ],
      "metadata": {
        "id": "K_jPdNsjlc7r"
      }
    },
    {
      "cell_type": "code",
      "source": [
        "def quadratic(a, b, c, x):\n",
        "  result = a * (x ** 2) + b * x + c\n",
        "  return result\n",
        "\n",
        "assert quadratic(1, 2, 1, 3) == 16\n",
        "assert quadratic(1, -5, -2, 7) == 12"
      ],
      "metadata": {
        "id": "BBRrhl7VlgVP"
      },
      "execution_count": 6,
      "outputs": []
    },
    {
      "cell_type": "markdown",
      "source": [
        "③二次方程式 ax^2+bx+c=0\n",
        " に関して以下のような関数を定義してください。\n",
        "\n",
        "1. 判別式 b^2-4ac\n",
        " を求める qe_disc(a,b,c)\n",
        "\n",
        "2. 解のうち、大きくない方を求める qe_solution1(a,b,c)\n",
        "\n",
        "3. 解のうち、小さくない方を求める qe_solution2(a,b,c)\n",
        "\n",
        "ただし、qe_solution1 と qe_solution2 は qe_disc を使って定義してください。 二次方程式が実数解を持つと仮定してよいです。"
      ],
      "metadata": {
        "id": "UtaHJvgbl306"
      }
    },
    {
      "cell_type": "code",
      "source": [
        "import math\n",
        "\n",
        "def qe_disc(a, b, c):\n",
        "    ...\n",
        "\n",
        "def qe_solution1(a, b, c):\n",
        "    ...\n",
        "\n",
        "def qe_solution2(a, b, c):\n",
        "    ..."
      ],
      "metadata": {
        "id": "afMCTAD5lwEq"
      },
      "execution_count": null,
      "outputs": []
    },
    {
      "cell_type": "markdown",
      "source": [
        "定義ができたら、次のセルを実行して、エラーがでないことを確認してください。"
      ],
      "metadata": {
        "id": "YLa9ezu1mM6d"
      }
    },
    {
      "cell_type": "code",
      "source": [
        "import math\n",
        "\n",
        "def qe_disc(a, b, c):\n",
        "    result = b ** 2 - 4 * a * c\n",
        "    return result\n",
        "\n",
        "def qe_solution1(a, b, c):\n",
        "    result = (-b + (b ** 2 - 4 * a * c) ** 0.5) / (2 * a)\n",
        "    return result\n",
        "\n",
        "def qe_solution2(a, b, c):\n",
        "    result = (-b - (b ** 2 - 4 * a * c) ** 0.5) / (2 * a)\n",
        "\n",
        "assert qe_disc(1, -2, 1) == 0\n",
        "assert qe_disc(1, -5, 6) == 1\n",
        "assert round(qe_solution1(1, -2, 1) - 1, 6) == 0\n",
        "assert round(qe_solution2(1, -2, 1) - 1, 6) == 0\n",
        "assert round(qe_solution1(1, -5, 6) - 2, 6) == 0\n",
        "assert round(qe_solution2(1, -5, 6) - 3, 6) == 0"
      ],
      "metadata": {
        "colab": {
          "base_uri": "https://localhost:8080/",
          "height": 219
        },
        "id": "255mVBljmPFl",
        "outputId": "0dc9255f-703e-42bc-e7af-4eeb30042889"
      },
      "execution_count": 7,
      "outputs": [
        {
          "output_type": "error",
          "ename": "TypeError",
          "evalue": "unsupported operand type(s) for -: 'NoneType' and 'int'",
          "traceback": [
            "\u001b[0;31m---------------------------------------------------------------------------\u001b[0m",
            "\u001b[0;31mTypeError\u001b[0m                                 Traceback (most recent call last)",
            "\u001b[0;32m/tmp/ipython-input-503160310.py\u001b[0m in \u001b[0;36m<cell line: 0>\u001b[0;34m()\u001b[0m\n\u001b[1;32m     15\u001b[0m \u001b[0;32massert\u001b[0m \u001b[0mqe_disc\u001b[0m\u001b[0;34m(\u001b[0m\u001b[0;36m1\u001b[0m\u001b[0;34m,\u001b[0m \u001b[0;34m-\u001b[0m\u001b[0;36m5\u001b[0m\u001b[0;34m,\u001b[0m \u001b[0;36m6\u001b[0m\u001b[0;34m)\u001b[0m \u001b[0;34m==\u001b[0m \u001b[0;36m1\u001b[0m\u001b[0;34m\u001b[0m\u001b[0;34m\u001b[0m\u001b[0m\n\u001b[1;32m     16\u001b[0m \u001b[0;32massert\u001b[0m \u001b[0mround\u001b[0m\u001b[0;34m(\u001b[0m\u001b[0mqe_solution1\u001b[0m\u001b[0;34m(\u001b[0m\u001b[0;36m1\u001b[0m\u001b[0;34m,\u001b[0m \u001b[0;34m-\u001b[0m\u001b[0;36m2\u001b[0m\u001b[0;34m,\u001b[0m \u001b[0;36m1\u001b[0m\u001b[0;34m)\u001b[0m \u001b[0;34m-\u001b[0m \u001b[0;36m1\u001b[0m\u001b[0;34m,\u001b[0m \u001b[0;36m6\u001b[0m\u001b[0;34m)\u001b[0m \u001b[0;34m==\u001b[0m \u001b[0;36m0\u001b[0m\u001b[0;34m\u001b[0m\u001b[0;34m\u001b[0m\u001b[0m\n\u001b[0;32m---> 17\u001b[0;31m \u001b[0;32massert\u001b[0m \u001b[0mround\u001b[0m\u001b[0;34m(\u001b[0m\u001b[0mqe_solution2\u001b[0m\u001b[0;34m(\u001b[0m\u001b[0;36m1\u001b[0m\u001b[0;34m,\u001b[0m \u001b[0;34m-\u001b[0m\u001b[0;36m2\u001b[0m\u001b[0;34m,\u001b[0m \u001b[0;36m1\u001b[0m\u001b[0;34m)\u001b[0m \u001b[0;34m-\u001b[0m \u001b[0;36m1\u001b[0m\u001b[0;34m,\u001b[0m \u001b[0;36m6\u001b[0m\u001b[0;34m)\u001b[0m \u001b[0;34m==\u001b[0m \u001b[0;36m0\u001b[0m\u001b[0;34m\u001b[0m\u001b[0;34m\u001b[0m\u001b[0m\n\u001b[0m\u001b[1;32m     18\u001b[0m \u001b[0;32massert\u001b[0m \u001b[0mround\u001b[0m\u001b[0;34m(\u001b[0m\u001b[0mqe_solution1\u001b[0m\u001b[0;34m(\u001b[0m\u001b[0;36m1\u001b[0m\u001b[0;34m,\u001b[0m \u001b[0;34m-\u001b[0m\u001b[0;36m5\u001b[0m\u001b[0;34m,\u001b[0m \u001b[0;36m6\u001b[0m\u001b[0;34m)\u001b[0m \u001b[0;34m-\u001b[0m \u001b[0;36m2\u001b[0m\u001b[0;34m,\u001b[0m \u001b[0;36m6\u001b[0m\u001b[0;34m)\u001b[0m \u001b[0;34m==\u001b[0m \u001b[0;36m0\u001b[0m\u001b[0;34m\u001b[0m\u001b[0;34m\u001b[0m\u001b[0m\n\u001b[1;32m     19\u001b[0m \u001b[0;32massert\u001b[0m \u001b[0mround\u001b[0m\u001b[0;34m(\u001b[0m\u001b[0mqe_solution2\u001b[0m\u001b[0;34m(\u001b[0m\u001b[0;36m1\u001b[0m\u001b[0;34m,\u001b[0m \u001b[0;34m-\u001b[0m\u001b[0;36m5\u001b[0m\u001b[0;34m,\u001b[0m \u001b[0;36m6\u001b[0m\u001b[0;34m)\u001b[0m \u001b[0;34m-\u001b[0m \u001b[0;36m3\u001b[0m\u001b[0;34m,\u001b[0m \u001b[0;36m6\u001b[0m\u001b[0;34m)\u001b[0m \u001b[0;34m==\u001b[0m \u001b[0;36m0\u001b[0m\u001b[0;34m\u001b[0m\u001b[0;34m\u001b[0m\u001b[0m\n",
            "\u001b[0;31mTypeError\u001b[0m: unsupported operand type(s) for -: 'NoneType' and 'int'"
          ]
        }
      ]
    },
    {
      "cell_type": "code",
      "source": [
        "#模範解答\n",
        "\n",
        "import math\n",
        "\n",
        "def qe_disc(a, b, c):\n",
        "    return b*b - 4*a*c\n",
        "\n",
        "def qe_solution1(a, b, c):\n",
        "    return (-b - math.sqrt(qe_disc(a, b, c))) / (2*a) #1.の関数を利用、math.sqrt\n",
        "\n",
        "def qe_solution2(a, b, c):\n",
        "    return (-b + math.sqrt(qe_disc(a, b, c))) / (2*a)"
      ],
      "metadata": {
        "id": "LqHRiVuQm42-"
      },
      "execution_count": null,
      "outputs": []
    },
    {
      "cell_type": "markdown",
      "source": [
        "1-3\n",
        "\n",
        "①数値 x の絶対値を求める関数 absolute(x) を定義してください。 Pythonには abs という絶対値を求める組み込み関数が用意されていますが、それを使わずに定義してください。"
      ],
      "metadata": {
        "id": "67TaesjRntbX"
      }
    },
    {
      "cell_type": "code",
      "source": [
        "def absolute(x):\n",
        "    ..."
      ],
      "metadata": {
        "id": "K3B6DX0Mn6Sb"
      },
      "execution_count": null,
      "outputs": []
    },
    {
      "cell_type": "markdown",
      "source": [
        "定義ができたら、次のセルを実行して、エラーがでないことを確認してください。"
      ],
      "metadata": {
        "id": "ZLVRDAH-nzl0"
      }
    },
    {
      "cell_type": "code",
      "source": [
        "def absolute(x):\n",
        "  if x >= 0:\n",
        "    return x\n",
        "  else:\n",
        "    return -x\n",
        "\n",
        "assert absolute(5) == 5\n",
        "assert absolute(-5) == 5\n",
        "assert absolute(0) == 0"
      ],
      "metadata": {
        "id": "bxI2BQNGn2A8"
      },
      "execution_count": 9,
      "outputs": []
    },
    {
      "cell_type": "markdown",
      "source": [
        "②x が正ならば 1、負ならば -1、ゼロならば 0 を返す関数 sign(x) を定義してください。"
      ],
      "metadata": {
        "id": "rCJJH0aLoTfH"
      }
    },
    {
      "cell_type": "code",
      "source": [
        "def sign(x):\n",
        "    ..."
      ],
      "metadata": {
        "id": "4nemJZ9GoIlG"
      },
      "execution_count": null,
      "outputs": []
    },
    {
      "cell_type": "markdown",
      "source": [
        "定義ができたら、次のセルを実行して、エラーがでないことを確認してください。"
      ],
      "metadata": {
        "id": "TbpbdDUYoaF8"
      }
    },
    {
      "cell_type": "code",
      "source": [
        "def sign(x):\n",
        "  if x > 0:\n",
        "    return 1\n",
        "  elif x == 0:\n",
        "    return 0\n",
        "  else:\n",
        "    return -1\n",
        "\n",
        "assert sign(5) == 1\n",
        "assert sign(-5) == -1\n",
        "assert sign(0) == 0"
      ],
      "metadata": {
        "id": "0B1nySCFodpR"
      },
      "execution_count": 11,
      "outputs": []
    },
    {
      "cell_type": "markdown",
      "source": [
        "2-1\n",
        "\n",
        "①英語の文章からなる文字列 str_engsentences が引数として与えられたとき、str_engsentences 中に含まれる全ての句読点（., ,, :, ;, !, ?）を削除した文字列を返す関数 remove_punctuations を作成してください。 （練習の解答はこのノートブックの一番最後にあります。）\n",
        "\n",
        "次のセルの ... のところを書き換えて remove_punctuations(str_engsentences) を作成してください。"
      ],
      "metadata": {
        "id": "CiU-IY0Lp6wo"
      }
    },
    {
      "cell_type": "code",
      "source": [
        "#2-1 ①\n",
        "def remove_punctuations(str_engsentences):\n",
        ""
      ],
      "metadata": {
        "id": "mEtEtUlEoqvZ"
      },
      "execution_count": null,
      "outputs": []
    },
    {
      "cell_type": "markdown",
      "source": [
        "上のセルで解答を作成した後、以下のセルを実行し、実行結果が True になることを確認してください。"
      ],
      "metadata": {
        "id": "WzgUbBRAp_0a"
      }
    },
    {
      "cell_type": "code",
      "source": [
        "def remove_punctuations(str_engsentences):\n",
        "  str1 = str_engsentences.replace('.', '')\n",
        "  str1 = str1.replace(',', '')\n",
        "  str1 = str1.replace(':', '')\n",
        "  str1 = str1.replace(';', '')\n",
        "  str1 = str1.replace('!', '')\n",
        "  str1 = str1.replace('?', '')\n",
        "  return str1\n",
        "\n",
        "print(remove_punctuations('Quiet, uh, donations, you want me to make a donation to the coast guard youth auxiliary?') == 'Quiet uh donations you want me to make a donation to the coast guard youth auxiliary')"
      ],
      "metadata": {
        "colab": {
          "base_uri": "https://localhost:8080/"
        },
        "id": "6xB7vh6lqCm0",
        "outputId": "8a275b74-0d3e-4664-a78b-abc54ecf5c6f"
      },
      "execution_count": 12,
      "outputs": [
        {
          "output_type": "stream",
          "name": "stdout",
          "text": [
            "True\n"
          ]
        }
      ]
    },
    {
      "cell_type": "markdown",
      "source": [
        "②ATGCの4種類の文字から成る文字列 str_atgc が引数として与えられたとき、文字列 str_pair を返す関数 atgc_bppair を作成してください。ただし、str_pair は、str_atgc 中の各文字列に対して、 A を T に、T を A に、G を C に、C を G に置き換えたものです。\n",
        "\n",
        "次のセルの ... のところを書き換えて atgc_bppair(str_atgc) を作成してください。"
      ],
      "metadata": {
        "id": "tAHrqA8Kr87t"
      }
    },
    {
      "cell_type": "code",
      "source": [
        "def atgc_bppair(str_atgc):\n",
        "    ..."
      ],
      "metadata": {
        "id": "vTLgbEi_r1fN"
      },
      "execution_count": null,
      "outputs": []
    },
    {
      "cell_type": "markdown",
      "source": [
        "上のセルで解答を作成した後、以下のセルを実行し、実行結果が True になることを確認してください。"
      ],
      "metadata": {
        "id": "KOqySMeysCj3"
      }
    },
    {
      "cell_type": "code",
      "source": [
        "def atgc_bppair(str_atgc):\n",
        "    str1 = str_atgc.replace(\"T\", \"t\")\n",
        "    str1 = str1.replace(\"A\", \"T\")\n",
        "    str1 = str1.replace(\"t\", \"A\")\n",
        "    str1 = str1.replace(\"C\", \"c\")\n",
        "    str1 = str1.replace(\"G\", \"C\")\n",
        "    str1 = str1.replace(\"c\", \"G\")\n",
        "    return str1\n",
        "\n",
        "print(atgc_bppair('AAGCCCCATGGTAA') == 'TTCGGGGTACCATT')"
      ],
      "metadata": {
        "colab": {
          "base_uri": "https://localhost:8080/"
        },
        "id": "dithkHd7sEhH",
        "outputId": "d59e8563-ef07-463e-b064-248038275279"
      },
      "execution_count": 13,
      "outputs": [
        {
          "output_type": "stream",
          "name": "stdout",
          "text": [
            "True\n"
          ]
        }
      ]
    },
    {
      "cell_type": "markdown",
      "source": [
        "③コロン (:) を1つだけ含む文字列 str1 を引数として与えると、コロンの左右に存在する文字列を入れ替えた文字列を返す関数 swap_colon(str1) を作成してください。\n",
        "\n",
        "次のセルの ... のところを書き換えて swap_colon(str1) を作成してください。"
      ],
      "metadata": {
        "id": "iqIfy13xs_zC"
      }
    },
    {
      "cell_type": "code",
      "source": [
        "def swap_colon(str1):\n",
        "    ..."
      ],
      "metadata": {
        "id": "KO4-Y-61s5Nn"
      },
      "execution_count": null,
      "outputs": []
    },
    {
      "cell_type": "markdown",
      "source": [
        "上のセルで解答を作成した後、以下のセルを実行し、実行結果が True になることを確認してください。"
      ],
      "metadata": {
        "id": "RL4sIbGatEK5"
      }
    },
    {
      "cell_type": "code",
      "source": [
        "def swap_colon(str1):\n",
        "  colon_index = str1.index(\":\")\n",
        "  str2 = str1[:colon_index]\n",
        "  str3 = str1[colon_index+1:]\n",
        "  str4 = str3 + \":\" + str2\n",
        "  return str4\n",
        "\n",
        "print(swap_colon('hello:world') == 'world:hello')"
      ],
      "metadata": {
        "colab": {
          "base_uri": "https://localhost:8080/"
        },
        "id": "EYv5qY8LtGs_",
        "outputId": "8ac49fcd-c50d-47fa-d61b-40ea7a3540f9"
      },
      "execution_count": 18,
      "outputs": [
        {
          "output_type": "stream",
          "name": "stdout",
          "text": [
            "True\n"
          ]
        }
      ]
    },
    {
      "cell_type": "markdown",
      "source": [
        "④ATGCの4種類の文字から成る文字列 str_atgc と塩基名（A, T, G, C のいずれか）を指定する文字列 str_bpname が引数として与えられたとき、str_atgc 中に含まれる塩基 str_bpname の数を返す関数 atgc_count を作成してください。\n",
        "\n",
        "次のセルの ... のところを書き換えて atgc_count(str_atgc, str_bpname) を作成してください。"
      ],
      "metadata": {
        "id": "e_JpFawuu6yG"
      }
    },
    {
      "cell_type": "code",
      "source": [
        "def atgc_count(str_atgc, str_bpname):\n",
        "    ..."
      ],
      "metadata": {
        "id": "C9-K7xcntybP"
      },
      "execution_count": null,
      "outputs": []
    },
    {
      "cell_type": "markdown",
      "source": [
        "上のセルで解答を作成した後、以下のセルを実行し、実行結果が True になることを確認してください。"
      ],
      "metadata": {
        "id": "oJcKsMC0vCfH"
      }
    },
    {
      "cell_type": "code",
      "source": [
        "def atgc_count(str_atgc, str_bpname):\n",
        "    return str_atgc.count(str_bpname)\n",
        "\n",
        "print(atgc_count('AAGCCCCATGGTAA', 'A') == 5)"
      ],
      "metadata": {
        "colab": {
          "base_uri": "https://localhost:8080/"
        },
        "id": "B0t9MaGavDTp",
        "outputId": "5fd23981-6dca-4123-a27f-17af4d24345b"
      },
      "execution_count": 20,
      "outputs": [
        {
          "output_type": "stream",
          "name": "stdout",
          "text": [
            "True\n"
          ]
        }
      ]
    },
    {
      "cell_type": "markdown",
      "source": [
        "⑤英語の文字列 str_engsentences が引数として与えられたとき、それが全て小文字である場合、True を返し、そうでない場合、 False を返す関数 check_lower を作成してください。\n",
        "\n",
        "次のセルの ... のところを書き換えて check_lower(str_engsentences) を作成してください。"
      ],
      "metadata": {
        "id": "2OGd3Vufv7u6"
      }
    },
    {
      "cell_type": "code",
      "source": [
        "def check_lower(str_engsentences):\n",
        "    ..."
      ],
      "metadata": {
        "id": "1fCAyV9pvWJl"
      },
      "execution_count": null,
      "outputs": []
    },
    {
      "cell_type": "markdown",
      "source": [
        "上のセルで解答を作成した後、以下のセルを実行し、実行結果が全て True になることを確認してください。"
      ],
      "metadata": {
        "id": "pP8-b4RFwCgW"
      }
    },
    {
      "cell_type": "code",
      "source": [
        "def check_lower(str_engsentences):\n",
        "    if str_engsentences == str_engsentences.lower():\n",
        "      return True\n",
        "    return False\n",
        "\n",
        "print(check_lower('down down down') == True)\n",
        "print(check_lower('There were doors all round the hall, but they were all locked') == False)"
      ],
      "metadata": {
        "id": "yU7P2avZwDUn"
      },
      "execution_count": null,
      "outputs": []
    },
    {
      "cell_type": "markdown",
      "source": [
        "⑥コンマ (,) を含む英語の文章からなる文字列 str_engsentences が引数として与えられたとき、str_engsentences 中の一番最初のコンマより後の文章のみかならなる文字列 str_res を返す関数 remove_clause を作成してください。ただし、 str_res の先頭は大文字のアルファベットとしてください。\n",
        "\n",
        "次のセルの ... のところを書き換えて remove_clause(str_engsentences) を作成してください。"
      ],
      "metadata": {
        "id": "goVkM_69w00l"
      }
    },
    {
      "cell_type": "code",
      "source": [
        "def remove_clause(str_engsentences):\n",
        "    ..."
      ],
      "metadata": {
        "id": "jSVeBj9Tw6Dq"
      },
      "execution_count": null,
      "outputs": []
    },
    {
      "cell_type": "markdown",
      "source": [
        "上のセルで解答を作成した後、以下のセルを実行し、実行結果が True になることを確認してください。"
      ],
      "metadata": {
        "id": "nYy14eG4w8Ia"
      }
    },
    {
      "cell_type": "code",
      "source": [
        "def remove_clause(str_engsentences):\n",
        "  str1 = str_engsentences\n",
        "  comma_index = str1.index(\",\")\n",
        "  str_res = str1[comma_index+2:]\n",
        "  return str_res.capitalize()\n",
        "\n",
        "print(remove_clause(\"It's being seen, but you aren't observing.\") == \"But you aren't observing.\")"
      ],
      "metadata": {
        "colab": {
          "base_uri": "https://localhost:8080/"
        },
        "id": "uhtdiEcTw8z-",
        "outputId": "2381d0d4-714f-465e-9740-2e0a90e5b5c2"
      },
      "execution_count": 24,
      "outputs": [
        {
          "output_type": "stream",
          "name": "stdout",
          "text": [
            "True\n"
          ]
        }
      ]
    },
    {
      "cell_type": "markdown",
      "source": [
        "2-2\n",
        "\n",
        "①リスト ln を引数として取り、ln の偶数番目のインデックスの値を削除したリストを返す関数 remove_evenindex を作成してください（ただし、0 は偶数として扱うものとします）。\n",
        "\n",
        "ヒント：スライスを使います。\n",
        "\n",
        "以下のセルの ... のところを書き換えて remove_evenindex(ln) を作成してください。"
      ],
      "metadata": {
        "id": "s4evF22XylZF"
      }
    },
    {
      "cell_type": "code",
      "source": [
        "def remove_evenindex(ln):\n",
        "    ..."
      ],
      "metadata": {
        "id": "pX85FavKxhV1"
      },
      "execution_count": null,
      "outputs": []
    },
    {
      "cell_type": "markdown",
      "source": [
        "上のセルで解答を作成した後、以下のセルを実行し、実行結果が全て True になることを確認してください。"
      ],
      "metadata": {
        "id": "HR9f5ND5oY5t"
      }
    },
    {
      "cell_type": "code",
      "source": [
        "def remove_evenindex(ln):\n",
        "  ln2 = ln[1::2]\n",
        "  return ln2\n",
        "\n",
        "print(remove_evenindex(['a', 'b', 'c', 'd', 'e', 'f', 'g']) == ['b', 'd', 'f'] )\n",
        "print(remove_evenindex([1, 2, 3, 4, 5]) == [2, 4])"
      ],
      "metadata": {
        "colab": {
          "base_uri": "https://localhost:8080/"
        },
        "id": "pLqZ-iPlobDZ",
        "outputId": "a30e54fd-edc9-4a73-e66d-a514c504651f"
      },
      "execution_count": 2,
      "outputs": [
        {
          "output_type": "stream",
          "name": "stdout",
          "text": [
            "True\n",
            "True\n"
          ]
        }
      ]
    },
    {
      "cell_type": "markdown",
      "source": [
        "②emailアドレス email とドメイン名 domain を引数に取って、email のドメイン名を domain に置き換える関数 change_domain(email, domain) を作成してください。 なお、emailアドレスのドメイン名とは、 '@' で区切られた右側の部分を意味します。\n",
        "\n",
        "次のセルの ... のところを書き換えて change_domain(email, domain) を完成させてください。"
      ],
      "metadata": {
        "id": "DBuR9fSjqOEQ"
      }
    },
    {
      "cell_type": "code",
      "source": [
        "def change_domain(email, domain):\n",
        "    ..."
      ],
      "metadata": {
        "id": "xtz0_eECpWnc"
      },
      "execution_count": null,
      "outputs": []
    },
    {
      "cell_type": "markdown",
      "source": [
        "上のセルで解答を作成した後、以下のセルを実行し、実行結果が True になることを確認してください。"
      ],
      "metadata": {
        "id": "TkakxRIZqVf8"
      }
    },
    {
      "cell_type": "code",
      "source": [
        "def change_domain(email, domain):\n",
        "  atmark_index = email.index(\"@\")\n",
        "  address = email[0:atmark_index]\n",
        "  return address + \"@\" + domain\n",
        "\n",
        "print(change_domain('spam@utokyo-ipp.org', 'ipp.u-tokyo.ac.jp') == 'spam@ipp.u-tokyo.ac.jp')"
      ],
      "metadata": {
        "colab": {
          "base_uri": "https://localhost:8080/"
        },
        "id": "ZQ1u6U6LqXs2",
        "outputId": "ae02b4d2-8d50-4d63-ab52-d3a1a13f66a7"
      },
      "execution_count": 4,
      "outputs": [
        {
          "output_type": "stream",
          "name": "stdout",
          "text": [
            "True\n"
          ]
        }
      ]
    },
    {
      "cell_type": "code",
      "source": [
        "#模範解答\n",
        "def change_domain(email, domain):\n",
        "    return '@'.join([email.split('@')[0], domain])"
      ],
      "metadata": {
        "id": "dyzLmQXprRRT"
      },
      "execution_count": null,
      "outputs": []
    },
    {
      "cell_type": "markdown",
      "source": [
        "③整数の要素からなるリスト ln を引数として取り、 ln に含まれる要素を逆順に格納したタプルを返す関数 reverse_totuple を作成してください。\n",
        "\n",
        "以下のセルの ... のところを書き換えて reverse_totuple(ln) を作成してください。"
      ],
      "metadata": {
        "id": "vyvLn6MjsgG5"
      }
    },
    {
      "cell_type": "code",
      "source": [
        "def reverse_totuple(ln):\n",
        "    ..."
      ],
      "metadata": {
        "id": "sEPpl-84sh6d"
      },
      "execution_count": null,
      "outputs": []
    },
    {
      "cell_type": "markdown",
      "source": [
        "上のセルで解答を作成した後、以下のセルを実行し、実行結果が True になることを確認してください。"
      ],
      "metadata": {
        "id": "XinsJb-fskTG"
      }
    },
    {
      "cell_type": "code",
      "source": [
        "def reverse_totuple(ln):\n",
        "  ln.reverse()\n",
        "  tup = tuple(ln)\n",
        "  return tup\n",
        "\n",
        "print(reverse_totuple([1, 2, 3, 4, 5]) == (5, 4, 3, 2, 1))"
      ],
      "metadata": {
        "colab": {
          "base_uri": "https://localhost:8080/"
        },
        "id": "JlBLQintsmNF",
        "outputId": "561e0b34-944b-432c-87c2-33927dc17f99"
      },
      "execution_count": 5,
      "outputs": [
        {
          "output_type": "stream",
          "name": "stdout",
          "text": [
            "True\n"
          ]
        }
      ]
    },
    {
      "cell_type": "markdown",
      "source": [
        "④整数の要素からなるリスト ln を引数として取り、ln の要素の総和を返す関数 sum_list を作成してください。\n",
        "\n",
        "以下のセルの ... のところを書き換えて sum_list(ln) を作成してください。"
      ],
      "metadata": {
        "id": "KzGv3BeRukfC"
      }
    },
    {
      "cell_type": "code",
      "source": [
        "def sum_list(ln):\n",
        "    ..."
      ],
      "metadata": {
        "id": "A2wKH4P9s_xC"
      },
      "execution_count": null,
      "outputs": []
    },
    {
      "cell_type": "markdown",
      "source": [
        "上のセルで解答を作成した後、以下のセルを実行し、実行結果が全て True になることを確認してください。"
      ],
      "metadata": {
        "id": "bs7MXDVPutnV"
      }
    },
    {
      "cell_type": "code",
      "source": [
        "def sum_list(ln):\n",
        "  sum = 0\n",
        "  for i in ln:\n",
        "    sum += i\n",
        "  return sum\n",
        "\n",
        "print(sum_list([10, 20, 30]) == 60)\n",
        "print(sum_list([-1, 2, -3, 4, -5]) == -3)"
      ],
      "metadata": {
        "colab": {
          "base_uri": "https://localhost:8080/"
        },
        "id": "wgOwhHyJuw0D",
        "outputId": "b6a088f3-8a36-4d49-ade5-30a1bf5423e8"
      },
      "execution_count": 7,
      "outputs": [
        {
          "output_type": "stream",
          "name": "stdout",
          "text": [
            "True\n",
            "True\n"
          ]
        }
      ]
    },
    {
      "cell_type": "markdown",
      "source": [
        "⑤ATGCの4種類の文字から成る文字列 str_atgc が引数として与えられたとき、次のようなリスト list_count を返す関数 atgc_countlist を作成してください。ただし、 list_count の要素は、各塩基 bp に対して str_atgc 中の bp の出現回数と bp の名前を格納した（長さ2の）リストとします。\n",
        "\n",
        "ヒント：文字列 'ATGC' に対する繰り返しを用いることができます。\n",
        "\n",
        "以下のセルの ... のところを書き換えて atgc_countlist(str_atgc) を作成してください。"
      ],
      "metadata": {
        "id": "01tHnVzkvKt8"
      }
    },
    {
      "cell_type": "code",
      "source": [
        "def atgc_countlist(str_atgc):\n",
        "    ..."
      ],
      "metadata": {
        "id": "MchawTDMvFVO"
      },
      "execution_count": null,
      "outputs": []
    },
    {
      "cell_type": "markdown",
      "source": [
        "上のセルで解答を作成した後、以下のセルを実行し、実行結果が True になることを確認してください。"
      ],
      "metadata": {
        "id": "WsRjW8rOvPpG"
      }
    },
    {
      "cell_type": "code",
      "source": [
        "def atgc_countlist(str_atgc):\n",
        "  list_count = []\n",
        "  for value in \"ATGC\":\n",
        "    int_bpcnt = str_atgc.count(value)\n",
        "    list_count.append([int_bpcnt, value])\n",
        "  return list_count\n",
        "\n",
        "print(sorted(atgc_countlist('AAGCCCCATGGTAA')) == sorted([[5, 'A'], [2, 'T'], [3, 'G'], [4, 'C']]))"
      ],
      "metadata": {
        "colab": {
          "base_uri": "https://localhost:8080/"
        },
        "id": "onesMTN4vRT1",
        "outputId": "39137088-fe8c-4887-c453-e3d736f3791c"
      },
      "execution_count": 8,
      "outputs": [
        {
          "output_type": "stream",
          "name": "stdout",
          "text": [
            "True\n"
          ]
        }
      ]
    },
    {
      "cell_type": "markdown",
      "source": [
        "3-1\n",
        "\n",
        "①リスト list1 が引数として与えられたとき、list1 の各要素 value をキー、value の list1 におけるインデックスをキーに対応する値とした辞書を返す関数 reverse_lookup を作成してください。\n",
        "\n",
        "以下のセルの ... のところを書き換えて reverse_lookup(list1) を作成してください。"
      ],
      "metadata": {
        "id": "2_Dnzc_9Imc9"
      }
    },
    {
      "cell_type": "code",
      "source": [
        "def reverse_lookup(list1):\n",
        "    ..."
      ],
      "metadata": {
        "id": "VB4Be3wYv9Di"
      },
      "execution_count": null,
      "outputs": []
    },
    {
      "cell_type": "markdown",
      "source": [
        "上のセルで解答を作成した後、以下のセルを実行し、実行結果が True になることを確認してください。"
      ],
      "metadata": {
        "id": "ufE3LYlrItR2"
      }
    },
    {
      "cell_type": "code",
      "source": [
        "def reverse_lookup(list1):\n",
        "  dic1 = {}\n",
        "  for value in list1:\n",
        "    dic1[value] = list1.index(value)\n",
        "  return dic1\n",
        "\n",
        "print(reverse_lookup(['apple', 'pen', 'orange']) == {'apple': 0, 'orange': 2, 'pen': 1})"
      ],
      "metadata": {
        "colab": {
          "base_uri": "https://localhost:8080/"
        },
        "id": "2VgE3_IvIu4k",
        "outputId": "7d1e21a6-d21e-48b5-d605-af01d28fbd82"
      },
      "execution_count": 1,
      "outputs": [
        {
          "output_type": "stream",
          "name": "stdout",
          "text": [
            "True\n"
          ]
        }
      ]
    },
    {
      "cell_type": "markdown",
      "source": [
        "②辞書 dic1 と文字列 str1 が引数として与えられたとき、 以下のように dic1 を変更する関数 handle_collision を作成してください。 ただし、dic1 のキーは整数、キーに対応する値は文字列を要素とするリストとします。\n",
        "\n",
        "1. dic1 に str1 の長さ n がキーとして登録されていない場合、str1 のみを要素とするリスト ls を作成し、 dic1 にキー n、n に対応する値 ls を登録します。\n",
        "\n",
        "2. dic1 に str1 の長さ n がキーとして登録されている場合、そのキーに対応する値（リスト）に str1 を追加します。\n",
        "\n",
        "以下のセルの ... のところを書き換えて handle_collision(dic1, str1) を作成してください"
      ],
      "metadata": {
        "id": "squLKZRRJ4nV"
      }
    },
    {
      "cell_type": "code",
      "source": [
        "def handle_collision(dic1, str1):\n",
        "    ..."
      ],
      "metadata": {
        "id": "OsuoazHlJPZF"
      },
      "execution_count": null,
      "outputs": []
    },
    {
      "cell_type": "markdown",
      "source": [
        "上のセルで解答を作成した後、以下のセルを実行し、実行結果が True になることを確認してください。"
      ],
      "metadata": {
        "id": "0PRIq9tVKEdp"
      }
    },
    {
      "cell_type": "code",
      "source": [
        "def handle_collision(dic1, str1):\n",
        "  if dic1.get(len(str1)) is None:\n",
        "    ls = [str1]\n",
        "  else:\n",
        "    ls = dic1[len(str1)]\n",
        "    ls.append(str1)\n",
        "  dic1[len(str1)] = ls\n",
        "\n",
        "dic1_orig = {3: ['ham', 'egg'], 6: ['coffee', 'brandy'], 9: ['port wine'], 15: ['curried chicken']}\n",
        "dic1_result = {3: ['ham', 'egg', 'tea'], 6: ['coffee', 'brandy'], 9: ['port wine'], 15: ['curried chicken']}\n",
        "handle_collision(dic1_orig, 'tea')\n",
        "print(dic1_orig == dic1_result)"
      ],
      "metadata": {
        "colab": {
          "base_uri": "https://localhost:8080/"
        },
        "id": "M5ilocb0KGcA",
        "outputId": "452237e5-b6ad-44a3-8d5d-c5f56670ba3d"
      },
      "execution_count": 2,
      "outputs": [
        {
          "output_type": "stream",
          "name": "stdout",
          "text": [
            "True\n"
          ]
        }
      ]
    },
    {
      "cell_type": "code",
      "source": [],
      "metadata": {
        "id": "X-IRJpaSKuAy"
      },
      "execution_count": null,
      "outputs": []
    }
  ]
}
