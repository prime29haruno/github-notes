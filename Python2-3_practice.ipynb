{
  "nbformat": 4,
  "nbformat_minor": 0,
  "metadata": {
    "colab": {
      "provenance": [],
      "authorship_tag": "ABX9TyNfVtilA1QVcXpwnrOZylsO",
      "include_colab_link": true
    },
    "kernelspec": {
      "name": "python3",
      "display_name": "Python 3"
    },
    "language_info": {
      "name": "python"
    }
  },
  "cells": [
    {
      "cell_type": "markdown",
      "metadata": {
        "id": "view-in-github",
        "colab_type": "text"
      },
      "source": [
        "<a href=\"https://colab.research.google.com/github/prime29haruno/github-notes/blob/main/Python2-3_practice.ipynb\" target=\"_parent\"><img src=\"https://colab.research.google.com/assets/colab-badge.svg\" alt=\"Open In Colab\"/></a>"
      ]
    },
    {
      "cell_type": "markdown",
      "source": [
        "①関数 exception3(x,y,z) の引数は以下の条件を満たすとします。\n",
        "\n",
        "x と y と z の値は整数です。\n",
        "x と y と z のうち、2つの値は同じで、もう1つの値は他の2つの値とは異なるとします。\n",
        "その異なる値を返すように、以下のセルの ... のところを書き換えて exception3(x,y,z) を定義してください。"
      ],
      "metadata": {
        "id": "kamMfcq5TRe_"
      }
    },
    {
      "cell_type": "code",
      "source": [
        "def exception3(x,y,z):\n",
        " ・・・"
      ],
      "metadata": {
        "id": "KjaW79FFTXXk"
      },
      "execution_count": null,
      "outputs": []
    },
    {
      "cell_type": "markdown",
      "source": [
        "次のセルで動作を確認してください。"
      ],
      "metadata": {
        "id": "hItakCUnTcfT"
      }
    },
    {
      "cell_type": "code",
      "source": [
        "def exception3(x,y,z):\n",
        "    if x == y:\n",
        "      return z\n",
        "    else:\n",
        "      if x == z:\n",
        "        return y\n",
        "      else:\n",
        "        return x\n",
        "\n",
        "print(exception3(1,2,2))\n",
        "print(exception3(4,2,4))\n",
        "print(exception3(9,3,9))"
      ],
      "metadata": {
        "colab": {
          "base_uri": "https://localhost:8080/"
        },
        "id": "Yl5AZxCHTavl",
        "outputId": "22cb4872-9ef4-40ed-ef1b-e41fd310ceb4"
      },
      "execution_count": null,
      "outputs": [
        {
          "output_type": "stream",
          "name": "stdout",
          "text": [
            "1\n",
            "2\n",
            "3\n"
          ]
        }
      ]
    },
    {
      "cell_type": "markdown",
      "source": [
        "②関数 exception9(a) の引数は以下の条件を満たすとします。\n",
        "\n",
        "引数 a には、長さが9のリストが渡されます。\n",
        "このリストの要素は整数ですが、1つの要素を除いて、残りは要素の値は全て同じとします。\n",
        "その1つの要素の値を返すように、以下のセルの ... のところを書き換えて exception9(a) を定義してください。\n",
        "\n"
      ],
      "metadata": {
        "id": "wOShoYZ1UKAE"
      }
    },
    {
      "cell_type": "code",
      "source": [
        "def exception9(a):\n",
        " ・・・"
      ],
      "metadata": {
        "id": "gSHbXYBrUR09"
      },
      "execution_count": null,
      "outputs": []
    },
    {
      "cell_type": "markdown",
      "source": [
        "次のセルで動作を確認してください。"
      ],
      "metadata": {
        "id": "jfQskj7qUVyq"
      }
    },
    {
      "cell_type": "code",
      "source": [
        "def exception9(a):\n",
        "    x = a[0]\n",
        "    if a[1] != x:\n",
        "      if a[1] == a[2]:\n",
        "        return x\n",
        "      else:\n",
        "        return a[1]\n",
        "    elif a[2] != x:\n",
        "      return a[2]\n",
        "    elif a[3] != x:\n",
        "      return a[3]\n",
        "    elif a[4] != x:\n",
        "      return a[4]\n",
        "    elif a[5] != x:\n",
        "      return a[5]\n",
        "    elif a[6] != x:\n",
        "      return a[6]\n",
        "    elif a[7] != x:\n",
        "      return a[7]\n",
        "    else:\n",
        "      return a[8]\n",
        "\n",
        "print(exception9([1,2,2,2,2,2,2,2,2]))\n",
        "print(exception9([4,4,4,4,4,2,4,4,4]))\n",
        "print(exception9([9,9,9,9,9,9,9,9,3]))"
      ],
      "metadata": {
        "colab": {
          "base_uri": "https://localhost:8080/"
        },
        "id": "g5nZbna-UYB_",
        "outputId": "7df2c1ec-6387-4ea3-a316-83c6a5191f59"
      },
      "execution_count": null,
      "outputs": [
        {
          "output_type": "stream",
          "name": "stdout",
          "text": [
            "1\n",
            "2\n",
            "3\n"
          ]
        }
      ]
    },
    {
      "cell_type": "code",
      "source": [
        "#solution\n",
        "\n",
        "def exception9(a):\n",
        "    x = a[0] + a[1] + a[2]\n",
        "    y = a[3] + a[4] + a[5]\n",
        "    z = a[6] + a[7] + a[8]\n",
        "    if x==y:\n",
        "        return exception3(a[6], a[7], a[8])\n",
        "    elif x==z:\n",
        "        return exception3(a[3], a[4], a[5])\n",
        "    else:\n",
        "        return exception3(a[0], a[1], a[2])"
      ],
      "metadata": {
        "id": "tDSPlwZcYt_f"
      },
      "execution_count": null,
      "outputs": []
    },
    {
      "cell_type": "markdown",
      "source": [
        "③以下のプログラムはプログラマの意図どおりに動作しません。 print の出力内容から意図を判断して条件分岐を書き換えてください。"
      ],
      "metadata": {
        "id": "yiYcX3hAW77D"
      }
    },
    {
      "cell_type": "code",
      "source": [
        "x = -1\n",
        "if x < 3:\n",
        "    print('x is larger than or equal to 2, and less than 3')\n",
        "elif x < 2:\n",
        "    print('x is larger than or equal to 1, and less than 2')\n",
        "elif x < 1:\n",
        "    print('x is less than 1')\n",
        "else:\n",
        "    print('x is larger or equal to 3')"
      ],
      "metadata": {
        "id": "YHlDP-MYVNKJ"
      },
      "execution_count": null,
      "outputs": []
    },
    {
      "cell_type": "code",
      "source": [
        "#rewrite\n",
        "x = -1\n",
        "if x >= 3:\n",
        "  print('x is larger or equal to 3')\n",
        "elif x < 1:\n",
        "  print('x is less than 1')\n",
        "elif x < 2:\n",
        "  print('x is larger than or equal to 1, and less than 2')\n",
        "else:\n",
        "  print('x is larger than or equal to 2, and less than 3')"
      ],
      "metadata": {
        "colab": {
          "base_uri": "https://localhost:8080/"
        },
        "id": "hKR4MKgIXGlS",
        "outputId": "6b8a8541-635b-4a6e-f585-92b6b67519f7"
      },
      "execution_count": null,
      "outputs": [
        {
          "output_type": "stream",
          "name": "stdout",
          "text": [
            "x is larger than or equal to 1, and less than 2\n"
          ]
        }
      ]
    }
  ]
}