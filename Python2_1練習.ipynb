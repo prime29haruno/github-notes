{
  "nbformat": 4,
  "nbformat_minor": 0,
  "metadata": {
    "colab": {
      "provenance": [],
      "authorship_tag": "ABX9TyPxv3MsVVVqt4bKFHztAHWa",
      "include_colab_link": true
    },
    "kernelspec": {
      "name": "python3",
      "display_name": "Python 3"
    },
    "language_info": {
      "name": "python"
    }
  },
  "cells": [
    {
      "cell_type": "markdown",
      "metadata": {
        "id": "view-in-github",
        "colab_type": "text"
      },
      "source": [
        "<a href=\"https://colab.research.google.com/github/prime29haruno/github-notes/blob/main/Python2_1%E7%B7%B4%E7%BF%92.ipynb\" target=\"_parent\"><img src=\"https://colab.research.google.com/assets/colab-badge.svg\" alt=\"Open In Colab\"/></a>"
      ]
    },
    {
      "cell_type": "markdown",
      "source": [
        "①英語の文章からなる文字列 str_engsentences が引数として与えられたとき、str_engsentences 中に含まれる全ての句読点（., ,, :, ;, !, ?）を削除した文字列を返す関数 remove_punctuations を作成してください。 （練習の解答はこのノートブックの一番最後にあります。）\n",
        "\n",
        "次のセルの ... のところを書き換えて remove_punctuations(str_engsentences) を作成してください。"
      ],
      "metadata": {
        "id": "DLddNo4bFWJo"
      }
    },
    {
      "cell_type": "code",
      "source": [
        "def remove_punctuations(str_engsentences):"
      ],
      "metadata": {
        "id": "KYIbC1mLFjzh"
      },
      "execution_count": null,
      "outputs": []
    },
    {
      "cell_type": "markdown",
      "source": [
        "上のセルで解答を作成した後、以下のセルを実行し、実行結果が True になることを確認してください。"
      ],
      "metadata": {
        "id": "ZmjlDP-IFnDM"
      }
    },
    {
      "cell_type": "code",
      "source": [
        "print(remove_punctuations('Quiet, uh, donations, you want me to make a donation to the coast guard youth auxiliary?') == 'Quiet uh donations you want me to make a donation to the coast guard youth auxiliary')"
      ],
      "metadata": {
        "id": "7KL25QzXFvEN"
      },
      "execution_count": null,
      "outputs": []
    },
    {
      "cell_type": "markdown",
      "source": [
        "②ATGCの4種類の文字から成る文字列 str_atgc が引数として与えられたとき、文字列 str_pair を返す関数 atgc_bppair を作成してください。ただし、str_pair は、str_atgc 中の各文字列に対して、 A を T に、T を A に、G を C に、C を G に置き換えたものです。\n",
        "\n",
        "次のセルの ... のところを書き換えて atgc_bppair(str_atgc) を作成してください。"
      ],
      "metadata": {
        "id": "j1FaHpM3CQXm"
      }
    },
    {
      "cell_type": "code",
      "source": [
        "def atgc_bppair(str_atgc):"
      ],
      "metadata": {
        "id": "w3YoMz7TCgNK"
      },
      "execution_count": null,
      "outputs": []
    },
    {
      "cell_type": "markdown",
      "source": [
        "上のセルで解答を作成した後、以下のセルを実行し、実行結果が True になることを確認してください。"
      ],
      "metadata": {
        "id": "hfel05YuCh6B"
      }
    },
    {
      "cell_type": "code",
      "source": [
        "print(atgc_bppair('AAGCCCCATGGTAA') == 'TTCGGGGTACCATT')"
      ],
      "metadata": {
        "id": "qfboCQt8CstC"
      },
      "execution_count": null,
      "outputs": []
    },
    {
      "cell_type": "markdown",
      "source": [
        "③コロン (:) を1つだけ含む文字列 str1 を引数として与えると、コロンの左右に存在する文字列を入れ替えた文字列を返す関数 swap_colon(str1) を作成してください。\n",
        "\n",
        "次のセルの ... のところを書き換えて swap_colon(str1) を作成してください。"
      ],
      "metadata": {
        "id": "SGKrDK9nCxmx"
      }
    },
    {
      "cell_type": "code",
      "source": [
        "def swap_colon(str1):"
      ],
      "metadata": {
        "id": "s4OIBEQODF_R"
      },
      "execution_count": null,
      "outputs": []
    },
    {
      "cell_type": "markdown",
      "source": [
        "上のセルで解答を作成した後、以下のセルを実行し、実行結果が True になることを確認してください。"
      ],
      "metadata": {
        "id": "lXIAOIOgDMZB"
      }
    },
    {
      "cell_type": "code",
      "source": [
        "print(swap_colon('hello:world') == 'world:hello')"
      ],
      "metadata": {
        "id": "Oyr0XNQFDRYs"
      },
      "execution_count": null,
      "outputs": []
    },
    {
      "cell_type": "markdown",
      "source": [
        "④ATGCの4種類の文字から成る文字列 str_atgc と塩基名（A, T, G, C のいずれか）を指定する文字列 str_bpname が引数として与えられたとき、str_atgc 中に含まれる塩基 str_bpname の数を返す関数 atgc_count を作成してください。\n",
        "\n",
        "次のセルの ... のところを書き換えて atgc_count(str_atgc, str_bpname) を作成してください。"
      ],
      "metadata": {
        "id": "xTDuzZZ0DSgE"
      }
    },
    {
      "cell_type": "code",
      "source": [
        "def atgc_count(str_atgc, str_bpname):"
      ],
      "metadata": {
        "id": "xhm_Zy_uDfBM"
      },
      "execution_count": null,
      "outputs": []
    },
    {
      "cell_type": "markdown",
      "source": [
        "上のセルで解答を作成した後、以下のセルを実行し、実行結果が True になることを確認してください。"
      ],
      "metadata": {
        "id": "B1FH-rGgDxIs"
      }
    },
    {
      "cell_type": "code",
      "source": [
        "print(atgc_count('AAGCCCCATGGTAA', 'A') == 5)"
      ],
      "metadata": {
        "id": "w1m0DSa2D6tv"
      },
      "execution_count": null,
      "outputs": []
    },
    {
      "cell_type": "markdown",
      "source": [
        "⑤英語の文字列 `str_engsentences` が引数として与えられたとき、それが全て小文字である場合、`True` を返し、そうでない場合、 `False` を返す関数 `check_lower` を作成してください。\n",
        "\n",
        "次のセルの `...` のところを書き換えて `check_lower(str_engsentences)` を作成してください。"
      ],
      "metadata": {
        "id": "mJyJNoekEJjY"
      }
    },
    {
      "cell_type": "code",
      "source": [
        "def check_lower(str_engsentences):\n",
        "    ..."
      ],
      "metadata": {
        "id": "ToxCePYtER63"
      },
      "execution_count": null,
      "outputs": []
    },
    {
      "cell_type": "markdown",
      "source": [
        "上のセルで解答を作成した後、以下のセルを実行し、実行結果が全て True になることを確認してください。"
      ],
      "metadata": {
        "id": "TCkamR8_EU7w"
      }
    },
    {
      "cell_type": "code",
      "source": [
        "print(check_lower('down down down') == True)\n",
        "print(check_lower('There were doors all round the hall, but they were all locked') == False)"
      ],
      "metadata": {
        "id": "k56RqHHdEb5-"
      },
      "execution_count": null,
      "outputs": []
    },
    {
      "cell_type": "markdown",
      "source": [
        "⑥コンマ (,) を含む英語の文章からなる文字列 str_engsentences が引数として与えられたとき、str_engsentences 中の一番最初のコンマより後の文章のみかならなる文字列 str_res を返す関数 remove_clause を作成してください。ただし、 str_res の先頭は大文字のアルファベットとしてください。\n",
        "\n",
        "次のセルの ... のところを書き換えて remove_clause(str_engsentences) を作成してください。"
      ],
      "metadata": {
        "id": "n8U_vzd8EqI-"
      }
    },
    {
      "cell_type": "code",
      "source": [
        "def remove_clause(str_engsentences):\n",
        "    ..."
      ],
      "metadata": {
        "id": "ZtPzqpvrEveb"
      },
      "execution_count": null,
      "outputs": []
    },
    {
      "cell_type": "markdown",
      "source": [
        "上のセルで解答を作成した後、以下のセルを実行し、実行結果が True になることを確認してください。"
      ],
      "metadata": {
        "id": "0jDrSPFDEy2u"
      }
    },
    {
      "cell_type": "code",
      "source": [
        "print(remove_clause(\"It's being seen, but you aren't observing.\") == \"But you aren't observing.\")"
      ],
      "metadata": {
        "id": "04jOxIjYE4Li"
      },
      "execution_count": null,
      "outputs": []
    }
  ]
}