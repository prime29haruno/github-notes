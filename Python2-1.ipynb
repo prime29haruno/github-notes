{
  "cells": [
    {
      "cell_type": "markdown",
      "metadata": {
        "id": "view-in-github",
        "colab_type": "text"
      },
      "source": [
        "<a href=\"https://colab.research.google.com/github/prime29haruno/github-notes/blob/main/2_1.ipynb\" target=\"_parent\"><img src=\"https://colab.research.google.com/assets/colab-badge.svg\" alt=\"Open In Colab\"/></a>"
      ]
    },
    {
      "cell_type": "markdown",
      "metadata": {
        "id": "BL0YSH4hkZ4t"
      },
      "source": [
        "# 2-1. 文字列 (string)\n",
        "\n",
        "文書処理などに必要な文字列について説明します。\n",
        "\n",
        "参考\n",
        "\n",
        "- https://docs.python.org/ja/3/tutorial/introduction.html#strings\n",
        "\n",
        "Pythonが扱うデータには様々な種類がありますが、**文字列**はいくつかの文字の並びから構成されるデータです。\n",
        "Pythonは標準で多言語に対応しており、\n",
        "英語アルファベットだけではなく日本語をはじめとする多くの言語を取り扱えます。\n",
        "\n",
        "文字列は、文字の並びをシングルクォート `'...'`、もしくはダブルクォート `\"...\"` で囲んで記述します。\n",
        "\n",
        "以下の例では文字列をそれぞれ、変数 `word1`, `word2` に代入しています。"
      ]
    },
    {
      "cell_type": "code",
      "execution_count": null,
      "metadata": {
        "id": "bLS0BXM-kZ4x"
      },
      "outputs": [],
      "source": [
        "word1 = 'hello'\n",
        "word1"
      ]
    },
    {
      "cell_type": "code",
      "execution_count": null,
      "metadata": {
        "id": "_EhDUdbikZ4z"
      },
      "outputs": [],
      "source": [
        "word2 = 'Hello'\n",
        "word2"
      ]
    },
    {
      "cell_type": "markdown",
      "metadata": {
        "id": "Qkexgw9nkZ40"
      },
      "source": [
        "上の変数の値が確かに文字列であることは、組み込み関数 **`type`** によって確認できます。\n",
        "`type` は、任意のデータを引数として、そのデータの種類を返します。\n",
        "データの種類は、**データ型**もしくは**型**と呼ばれます。"
      ]
    },
    {
      "cell_type": "code",
      "execution_count": null,
      "metadata": {
        "colab": {
          "base_uri": "https://localhost:8080/"
        },
        "id": "M7aF5KqFkZ40",
        "outputId": "e6debe77-a50f-4d04-a086-3bb245f9ab49"
      },
      "outputs": [
        {
          "output_type": "execute_result",
          "data": {
            "text/plain": [
              "str"
            ]
          },
          "metadata": {},
          "execution_count": 2
        }
      ],
      "source": [
        "word1 = \"hello\"\n",
        "type(word1)"
      ]
    },
    {
      "cell_type": "markdown",
      "metadata": {
        "id": "m3UkSiWNkZ40"
      },
      "source": [
        "**`str`** は文字列のデータ型を意味します。"
      ]
    },
    {
      "cell_type": "code",
      "execution_count": null,
      "metadata": {
        "colab": {
          "base_uri": "https://localhost:8080/"
        },
        "id": "u6IOiXEbkZ41",
        "outputId": "efb56fa0-2ef6-42d8-cb34-1a44c18cc3b6"
      },
      "outputs": [
        {
          "output_type": "execute_result",
          "data": {
            "text/plain": [
              "str"
            ]
          },
          "metadata": {},
          "execution_count": 3
        }
      ],
      "source": [
        "word2 = \"Hello\"\n",
        "type(word2)"
      ]
    },
    {
      "cell_type": "markdown",
      "metadata": {
        "id": "iKSNwqJDkZ41"
      },
      "source": [
        "`str` は組み込み関数としても用いられます。\n",
        "組み込み関数 **`str`** を使えば、任意のデータを文字列に変換できます。\n",
        "一般に、データ型は、そのデータ型への変換を行う関数として用いられることが多いです。\n",
        "\n",
        "1-1で学んだ数値を文字列に変換したい場合、次のように行います。"
      ]
    },
    {
      "cell_type": "code",
      "execution_count": null,
      "metadata": {
        "colab": {
          "base_uri": "https://localhost:8080/",
          "height": 35
        },
        "id": "YNYdAJ4HkZ43",
        "outputId": "75b159cd-3472-4fb6-de05-4b0b928c5675"
      },
      "outputs": [
        {
          "output_type": "execute_result",
          "data": {
            "text/plain": [
              "'123'"
            ],
            "application/vnd.google.colaboratory.intrinsic+json": {
              "type": "string"
            }
          },
          "metadata": {},
          "execution_count": 4
        }
      ],
      "source": [
        "word3 = str(123)\n",
        "word3"
      ]
    },
    {
      "cell_type": "markdown",
      "metadata": {
        "id": "wfU5IFO-kZ44"
      },
      "source": [
        "逆に、`'123'` という文字列を整数に変換するには、1-1で述べた **`int`** という関数を用いることができます。\n",
        "（実は `int` は整数の型でもあります。）"
      ]
    },
    {
      "cell_type": "code",
      "execution_count": null,
      "metadata": {
        "colab": {
          "base_uri": "https://localhost:8080/"
        },
        "id": "hIYvEfY4kZ44",
        "outputId": "a8705861-6b32-44e0-feb7-c431d1d1bc93"
      },
      "outputs": [
        {
          "output_type": "execute_result",
          "data": {
            "text/plain": [
              "123"
            ]
          },
          "metadata": {},
          "execution_count": 5
        }
      ],
      "source": [
        "i = int('123')\n",
        "i"
      ]
    },
    {
      "cell_type": "markdown",
      "metadata": {
        "id": "sgC9IcuykZ44"
      },
      "source": [
        "関数 **`float`** を用いれば文字列を実数に変換できます。"
      ]
    },
    {
      "cell_type": "code",
      "execution_count": null,
      "metadata": {
        "colab": {
          "base_uri": "https://localhost:8080/"
        },
        "id": "iObupzmlkZ44",
        "outputId": "7a8dd502-30bd-46c9-ecee-b554860204ad"
      },
      "outputs": [
        {
          "output_type": "execute_result",
          "data": {
            "text/plain": [
              "123.4"
            ]
          },
          "metadata": {},
          "execution_count": 6
        }
      ],
      "source": [
        "f = float('123.4')\n",
        "f"
      ]
    },
    {
      "cell_type": "markdown",
      "metadata": {
        "id": "qrhcIBJZkZ45"
      },
      "source": [
        "文字列の長さは、組み込み関数 **`len`** を用いて次のようにして求めます。"
      ]
    },
    {
      "cell_type": "code",
      "execution_count": null,
      "metadata": {
        "colab": {
          "base_uri": "https://localhost:8080/"
        },
        "id": "2a4LK6k-kZ45",
        "outputId": "a490df43-3407-43ab-9dce-9b18a8062ee0"
      },
      "outputs": [
        {
          "output_type": "execute_result",
          "data": {
            "text/plain": [
              "5"
            ]
          },
          "metadata": {},
          "execution_count": 7
        }
      ],
      "source": [
        "word1 = \"hello\"\n",
        "len(word1)"
      ]
    },
    {
      "cell_type": "markdown",
      "metadata": {
        "id": "5PNLAWa-kZ45"
      },
      "source": [
        "複数行にわたる文字列を記述するには、トリプルクォート（`'''...'''` もしくは `\"\"\"...\"\"\"`）を用いることができます。\n",
        "上記の参考URLを参照してください。\n",
        "トリプルクォートはコメントとしても用いられます。\n",
        "なお、1-4 のコーディングスタイルのところで紹介したスタイルガイドのPEP8では、\n",
        "トリプルクォートには `\"\"\"...\"\"\"` を使うのが適切と定められています。"
      ]
    },
    {
      "cell_type": "markdown",
      "metadata": {
        "id": "N5ljTBoykZ45"
      },
      "source": [
        "## 文字列とインデックス\n",
        "\n",
        "文字列はいくつかの文字によって構成されています。\n",
        "\n",
        "文字列 `'hello'` の3番目の文字を得たい場合は、以下のような記法を用います。"
      ]
    },
    {
      "cell_type": "code",
      "execution_count": null,
      "metadata": {
        "colab": {
          "base_uri": "https://localhost:8080/",
          "height": 35
        },
        "id": "jQ9SGB7jkZ46",
        "outputId": "6b42082c-ac1f-494c-9518-35c8b9026009"
      },
      "outputs": [
        {
          "output_type": "execute_result",
          "data": {
            "text/plain": [
              "'l'"
            ],
            "application/vnd.google.colaboratory.intrinsic+json": {
              "type": "string"
            }
          },
          "metadata": {},
          "execution_count": 8
        }
      ],
      "source": [
        "'hello'[2]"
      ]
    },
    {
      "cell_type": "markdown",
      "metadata": {
        "id": "IMBmnfIgkZ46"
      },
      "source": [
        "文字列を値とする変数に対しても同様の記法を用います。多くの場合は変数に対してこの記法を用います。"
      ]
    },
    {
      "cell_type": "code",
      "execution_count": null,
      "metadata": {
        "colab": {
          "base_uri": "https://localhost:8080/",
          "height": 35
        },
        "id": "_QC18vPqkZ46",
        "outputId": "de9ca555-3035-4fdc-ea45-669a39bb30d1"
      },
      "outputs": [
        {
          "output_type": "execute_result",
          "data": {
            "text/plain": [
              "'l'"
            ],
            "application/vnd.google.colaboratory.intrinsic+json": {
              "type": "string"
            }
          },
          "metadata": {},
          "execution_count": 9
        }
      ],
      "source": [
        "word1 = 'hello'\n",
        "word1[2]"
      ]
    },
    {
      "cell_type": "markdown",
      "metadata": {
        "id": "rdf04CuokZ46"
      },
      "source": [
        "この括弧内の数値のことを**インデックス**と呼びます。インデックスは `0` から始まるので、\n",
        "ある文字列の `x` 番目の要素を得るには、インデックスとして `x-1` を指定する必要があります。\n",
        "\n",
        "こうして取得した文字は、Pythonでは長さが 1 の文字列として扱われます。\n",
        "（プログラミング言語によっては、文字列ではなく別の型のデータとして扱われるものもありますので注意してください。）"
      ]
    },
    {
      "cell_type": "markdown",
      "metadata": {
        "id": "ef90tFjnkZ47"
      },
      "source": [
        "文字列に対して、インデックスを指定してその要素を変更することはできません。（次のセルはエラーとなります）\n",
        "Pythonのデータは、大きく、変更可能なものと変更不可能なものに分類できますが、\n",
        "文字列は変更不可能なデータです。\n",
        "したがって、文字列を加工する場合は、新たに別の文字列を作成します。"
      ]
    },
    {
      "cell_type": "code",
      "execution_count": null,
      "metadata": {
        "tags": [
          "raises-exception"
        ],
        "colab": {
          "base_uri": "https://localhost:8080/",
          "height": 164
        },
        "id": "oIXvF3ogkZ47",
        "outputId": "fcdbb192-c362-41c7-a19e-3723b4b58968"
      },
      "outputs": [
        {
          "output_type": "error",
          "ename": "TypeError",
          "evalue": "'str' object does not support item assignment",
          "traceback": [
            "\u001b[0;31m---------------------------------------------------------------------------\u001b[0m",
            "\u001b[0;31mTypeError\u001b[0m                                 Traceback (most recent call last)",
            "\u001b[0;32m/tmp/ipython-input-1689567903.py\u001b[0m in \u001b[0;36m<cell line: 0>\u001b[0;34m()\u001b[0m\n\u001b[1;32m      1\u001b[0m \u001b[0mword1\u001b[0m \u001b[0;34m=\u001b[0m \u001b[0;34m'hello'\u001b[0m\u001b[0;34m\u001b[0m\u001b[0;34m\u001b[0m\u001b[0m\n\u001b[0;32m----> 2\u001b[0;31m \u001b[0mword1\u001b[0m\u001b[0;34m[\u001b[0m\u001b[0;36m0\u001b[0m\u001b[0;34m]\u001b[0m \u001b[0;34m=\u001b[0m \u001b[0;34m'H'\u001b[0m\u001b[0;34m\u001b[0m\u001b[0;34m\u001b[0m\u001b[0m\n\u001b[0m",
            "\u001b[0;31mTypeError\u001b[0m: 'str' object does not support item assignment"
          ]
        }
      ],
      "source": [
        "word1 = 'hello'\n",
        "word1[0] = 'H'"
      ]
    },
    {
      "cell_type": "markdown",
      "metadata": {
        "id": "MSjSChySkZ47"
      },
      "source": [
        "また、文字列の長さ以上のインデックスを指定することはできません。（次はエラーとなります）"
      ]
    },
    {
      "cell_type": "code",
      "execution_count": null,
      "metadata": {
        "tags": [
          "raises-exception"
        ],
        "id": "33WMT10ukZ47"
      },
      "outputs": [],
      "source": [
        "word1[100]"
      ]
    },
    {
      "cell_type": "markdown",
      "metadata": {
        "id": "inotQsiXkZ47"
      },
      "source": [
        "インデックスに負数を指定すると、\n",
        "文字列を後ろから数えた順序に従って文字列を構成する文字を得ます。\n",
        "たとえば、文字列の最後の文字を取得するには、`-1` を指定します。"
      ]
    },
    {
      "cell_type": "code",
      "execution_count": null,
      "metadata": {
        "colab": {
          "base_uri": "https://localhost:8080/",
          "height": 35
        },
        "id": "7HHm0G99kZ47",
        "outputId": "50886437-8e18-4add-e062-77a0f40ff10b"
      },
      "outputs": [
        {
          "output_type": "execute_result",
          "data": {
            "text/plain": [
              "'o'"
            ],
            "application/vnd.google.colaboratory.intrinsic+json": {
              "type": "string"
            }
          },
          "metadata": {},
          "execution_count": 11
        }
      ],
      "source": [
        "word1 = \"hello\"\n",
        "word1[-1]"
      ]
    },
    {
      "cell_type": "markdown",
      "metadata": {
        "id": "f-UGaMGqkZ47"
      },
      "source": [
        "まとめると文字列 `hello` の正負のインデックスは以下の表の関係になります。  \n",
        "\n",
        "|インデックス|h|e|l|l|o|\n",
        "|-|--|--|--|--|--|\n",
        "|0か正|0|1|2|3|4|\n",
        "|負|-5|-4|-3|-2|-1|"
      ]
    },
    {
      "cell_type": "markdown",
      "metadata": {
        "id": "7o8zxceokZ48"
      },
      "source": [
        "## 文字列とスライス\n",
        "**スライス**と呼ばれる機能を利用して、文字列の一部（部分文字列）を取得できます。\n",
        "\n",
        "具体的には、取得したい部分文字列の先頭の文字のインデックスと最後の文字のインデックスに\n",
        "`1` を加えた値を指定します。\n",
        "たとえば、ある文字列の2番目の文字から4番目までの文字の部分文字列を得るには次のようにします。"
      ]
    },
    {
      "cell_type": "code",
      "execution_count": null,
      "metadata": {
        "id": "C44LQ5VskZ48"
      },
      "outputs": [],
      "source": [
        "digits1='0123456789'\n",
        "digits1[1:4]"
      ]
    },
    {
      "cell_type": "markdown",
      "metadata": {
        "id": "QHul326ZkZ48"
      },
      "source": [
        "文字列の先頭（すなわち、インデックスが `0` の文字）を指定する場合、次のように行えます。"
      ]
    },
    {
      "cell_type": "code",
      "execution_count": null,
      "metadata": {
        "colab": {
          "base_uri": "https://localhost:8080/",
          "height": 35
        },
        "id": "6ggbnA53kZ48",
        "outputId": "ab45e732-c48e-476f-d6e6-0bc467ba8a08"
      },
      "outputs": [
        {
          "output_type": "execute_result",
          "data": {
            "text/plain": [
              "'012'"
            ],
            "application/vnd.google.colaboratory.intrinsic+json": {
              "type": "string"
            }
          },
          "metadata": {},
          "execution_count": 12
        }
      ],
      "source": [
        "digits1='0123456789'\n",
        "digits1[0:3]"
      ]
    },
    {
      "cell_type": "markdown",
      "metadata": {
        "id": "82_MxadXkZ49"
      },
      "source": [
        "しかし、最初の `0` は省略しても同じ結果となります。"
      ]
    },
    {
      "cell_type": "code",
      "execution_count": null,
      "metadata": {
        "colab": {
          "base_uri": "https://localhost:8080/",
          "height": 35
        },
        "id": "QhkTL0A4kZ49",
        "outputId": "b05f670c-fd28-4441-b568-6681bbde68e6"
      },
      "outputs": [
        {
          "output_type": "execute_result",
          "data": {
            "text/plain": [
              "'012'"
            ],
            "application/vnd.google.colaboratory.intrinsic+json": {
              "type": "string"
            }
          },
          "metadata": {},
          "execution_count": 13
        }
      ],
      "source": [
        "digits1='0123456789'\n",
        "digits1[:3]"
      ]
    },
    {
      "cell_type": "markdown",
      "metadata": {
        "id": "UbOss8P0kZ49"
      },
      "source": [
        "同様に、最後尾の文字のインデックスも、値を省略することもできます。"
      ]
    },
    {
      "cell_type": "code",
      "execution_count": null,
      "metadata": {
        "colab": {
          "base_uri": "https://localhost:8080/",
          "height": 35
        },
        "id": "AFgvh6rwkZ49",
        "outputId": "26d5eca4-d740-4545-a129-86d2862c57dc"
      },
      "outputs": [
        {
          "output_type": "execute_result",
          "data": {
            "text/plain": [
              "'3456789'"
            ],
            "application/vnd.google.colaboratory.intrinsic+json": {
              "type": "string"
            }
          },
          "metadata": {},
          "execution_count": 14
        }
      ],
      "source": [
        "digits1='0123456789'\n",
        "digits1[3:]"
      ]
    },
    {
      "cell_type": "code",
      "execution_count": null,
      "metadata": {
        "colab": {
          "base_uri": "https://localhost:8080/",
          "height": 35
        },
        "id": "mI-MM3vpkZ4-",
        "outputId": "ea5750dc-6e27-4226-e37b-78ef57c2f88d"
      },
      "outputs": [
        {
          "output_type": "execute_result",
          "data": {
            "text/plain": [
              "'34'"
            ],
            "application/vnd.google.colaboratory.intrinsic+json": {
              "type": "string"
            }
          },
          "metadata": {},
          "execution_count": 15
        }
      ],
      "source": [
        "digits1='0123456789'\n",
        "digits1[3:5]"
      ]
    },
    {
      "cell_type": "markdown",
      "metadata": {
        "id": "TJzFzzgUkZ4-"
      },
      "source": [
        "スライスにおいても負数を指定して、\n",
        "文字列の最後の方から部分文字列を取得できます。"
      ]
    },
    {
      "cell_type": "code",
      "execution_count": null,
      "metadata": {
        "colab": {
          "base_uri": "https://localhost:8080/",
          "height": 35
        },
        "id": "qWH01WpVkZ4-",
        "outputId": "99d8798c-8387-440e-9f98-8a2248a47216"
      },
      "outputs": [
        {
          "output_type": "execute_result",
          "data": {
            "text/plain": [
              "'678'"
            ],
            "application/vnd.google.colaboratory.intrinsic+json": {
              "type": "string"
            }
          },
          "metadata": {},
          "execution_count": 16
        }
      ],
      "source": [
        "digits1='0123456789'\n",
        "digits1[-4:-1]"
      ]
    },
    {
      "cell_type": "markdown",
      "metadata": {
        "id": "WG3opp1DkZ5D"
      },
      "source": [
        "スライスでは3番目の値を指定することで、とびとびの文字を指定できます。次のように `digits1[3:9:2]` と指定すると、インデックス `3` から2文字おきにインデックス `9` より小さい文字を並べた部分文字列を得ます。"
      ]
    },
    {
      "cell_type": "code",
      "execution_count": null,
      "metadata": {
        "colab": {
          "base_uri": "https://localhost:8080/",
          "height": 35
        },
        "id": "Xu8n0wmhkZ5E",
        "outputId": "efedb6da-61a3-4b0d-efe8-1ed6745e7ca2"
      },
      "outputs": [
        {
          "output_type": "execute_result",
          "data": {
            "text/plain": [
              "'357'"
            ],
            "application/vnd.google.colaboratory.intrinsic+json": {
              "type": "string"
            }
          },
          "metadata": {},
          "execution_count": 17
        }
      ],
      "source": [
        "digits1='0123456789'\n",
        "digits1[3:9:2]"
      ]
    },
    {
      "cell_type": "markdown",
      "metadata": {
        "id": "04gQFOjXkZ5E"
      },
      "source": [
        "3番目の値に `-1` を指定することもできます。これを使えば元の文字列の逆向きの文字列を得ることができます。"
      ]
    },
    {
      "cell_type": "code",
      "execution_count": null,
      "metadata": {
        "colab": {
          "base_uri": "https://localhost:8080/",
          "height": 35
        },
        "id": "9AP2vZEqkZ5E",
        "outputId": "3d197e45-4431-4109-c40b-0994dd9bf40e"
      },
      "outputs": [
        {
          "output_type": "execute_result",
          "data": {
            "text/plain": [
              "'8765'"
            ],
            "application/vnd.google.colaboratory.intrinsic+json": {
              "type": "string"
            }
          },
          "metadata": {},
          "execution_count": 18
        }
      ],
      "source": [
        "digits1='0123456789'\n",
        "digits1[8:4:-1]"
      ]
    },
    {
      "cell_type": "markdown",
      "metadata": {
        "id": "plDrmikHkZ5E"
      },
      "source": [
        "## 空文字列\n",
        "シングルクォート（もしくはダブルクォート）で、何も囲まない場合、長さ 0 の文字列（**空文字列**（くうもじれつ）もしくは、**空列**（くうれつ））となります。\n",
        "具体的には、下記のように使用します。\n",
        "\n",
        "---\n",
        "```Python\n",
        "blank = ''\n",
        "```\n",
        "---\n",
        "\n",
        "空文字列は、次のように、たとえば文字列中からある部分文字列を取り除くのに使用します。\n",
        "（`replace` は後で説明します。）"
      ]
    },
    {
      "cell_type": "code",
      "execution_count": null,
      "metadata": {
        "colab": {
          "base_uri": "https://localhost:8080/",
          "height": 35
        },
        "id": "WWeyAIZHkZ5E",
        "outputId": "24ee09e5-b045-4b2c-d0f1-b4219a9c76c7"
      },
      "outputs": [
        {
          "output_type": "execute_result",
          "data": {
            "text/plain": [
              "'2980円'"
            ],
            "application/vnd.google.colaboratory.intrinsic+json": {
              "type": "string"
            }
          },
          "metadata": {},
          "execution_count": 19
        }
      ],
      "source": [
        "price = '2,980円'\n",
        "price.replace(',', '')"
      ]
    },
    {
      "cell_type": "markdown",
      "metadata": {
        "id": "MnX1c4fSkZ5E"
      },
      "source": [
        "文字列のスライスにおいて、指定したインデックスの範囲に文字列が存在しない場合、\n",
        "たとえば、最初に指定したインデックス `x` に対して、\n",
        "2番目のインデックスの値に `x` 以下のインデックスの値を指定するとどうなるでしょうか？\n",
        "（ただし、2つのインデックスは同じ符号を持つとし、スライスの3番目の値は用いないとします。）\n",
        "このような場合、結果は次のように空文字列となります（エラーが出たり、結果が `None` にはならないことに注意してください）。"
      ]
    },
    {
      "cell_type": "code",
      "execution_count": null,
      "metadata": {
        "colab": {
          "base_uri": "https://localhost:8080/"
        },
        "id": "M6F7LI17kZ5E",
        "outputId": "fe6d46cc-943b-4b69-9acf-b146886aa177"
      },
      "outputs": [
        {
          "output_type": "stream",
          "name": "stdout",
          "text": [
            "空文字列1 =  \n",
            "空文字列2 =  \n",
            "空文字列3 =  \n",
            "空文字列ではない =  345678\n"
          ]
        }
      ],
      "source": [
        "digits1='0123456789'\n",
        "print('空文字列1 = ', digits1[4:2])\n",
        "print('空文字列2 = ', digits1[-1:-4])\n",
        "print('空文字列3 = ', digits1[3:3])\n",
        "print('空文字列ではない = ', digits1[3:-1])"
      ]
    },
    {
      "cell_type": "markdown",
      "metadata": {
        "id": "3WVMimPakZ5F"
      },
      "source": [
        "## 文字列の検索\n",
        "\n",
        "`文字列A` が `文字列B` を含むかどうかを調べるには、**`in`** 演算子を使います。\n",
        "具体的には、次のように使用します。\n",
        "\n",
        "---\n",
        "```Python\n",
        "文字列B in 文字列A\n",
        "```\n",
        "---\n",
        "\n",
        "調べたい `文字列B` が含まれていれば `True` が、そうでなければ `False` が返ります。"
      ]
    },
    {
      "cell_type": "code",
      "execution_count": null,
      "metadata": {
        "colab": {
          "base_uri": "https://localhost:8080/"
        },
        "id": "vGjXzVPakZ5F",
        "outputId": "ad18016e-8a46-4629-bdad-7758008b6361"
      },
      "outputs": [
        {
          "output_type": "execute_result",
          "data": {
            "text/plain": [
              "True"
            ]
          },
          "metadata": {},
          "execution_count": 21
        }
      ],
      "source": [
        "'lo' in 'hello'"
      ]
    },
    {
      "cell_type": "code",
      "execution_count": null,
      "metadata": {
        "colab": {
          "base_uri": "https://localhost:8080/"
        },
        "id": "sIt0TfuWkZ5F",
        "outputId": "d34e62ac-9b77-427c-bc59-0fc9403da775"
      },
      "outputs": [
        {
          "output_type": "execute_result",
          "data": {
            "text/plain": [
              "False"
            ]
          },
          "metadata": {},
          "execution_count": 22
        }
      ],
      "source": [
        "'z' in 'hello'"
      ]
    },
    {
      "cell_type": "markdown",
      "metadata": {
        "id": "5uTUkS1xkZ5F"
      },
      "source": [
        "実際のプログラムでは文字列を値とする変数を用いることが多いでしょう。"
      ]
    },
    {
      "cell_type": "code",
      "execution_count": null,
      "metadata": {
        "colab": {
          "base_uri": "https://localhost:8080/"
        },
        "id": "Taldryg6kZ5F",
        "outputId": "58f0c89b-e86f-4924-e4a9-143e73756105"
      },
      "outputs": [
        {
          "output_type": "execute_result",
          "data": {
            "text/plain": [
              "True"
            ]
          },
          "metadata": {},
          "execution_count": 23
        }
      ],
      "source": [
        "word1 =  'hello'\n",
        "substr1 = 'lo'\n",
        "substr1 in word1"
      ]
    },
    {
      "cell_type": "code",
      "execution_count": null,
      "metadata": {
        "colab": {
          "base_uri": "https://localhost:8080/"
        },
        "id": "yJDJux-FkZ5F",
        "outputId": "6679d74b-440d-4519-b3aa-1e2f9e2730d6"
      },
      "outputs": [
        {
          "output_type": "execute_result",
          "data": {
            "text/plain": [
              "False"
            ]
          },
          "metadata": {},
          "execution_count": 24
        }
      ],
      "source": [
        "substr2 = 'z'\n",
        "substr2 in word1"
      ]
    },
    {
      "cell_type": "markdown",
      "metadata": {
        "id": "G0a5eB4QkZ5G"
      },
      "source": [
        "**`not in`** 演算子は、`in` 演算子の逆を意味します。"
      ]
    },
    {
      "cell_type": "code",
      "execution_count": null,
      "metadata": {
        "colab": {
          "base_uri": "https://localhost:8080/"
        },
        "id": "cS_AOxt6kZ5G",
        "outputId": "6baf909d-bcfc-435a-9f0f-422a4d94bdff"
      },
      "outputs": [
        {
          "output_type": "execute_result",
          "data": {
            "text/plain": [
              "True"
            ]
          },
          "metadata": {},
          "execution_count": 25
        }
      ],
      "source": [
        "word1 =  'hello'\n",
        "substr2 = 'z'\n",
        "substr2 not in word1"
      ]
    },
    {
      "cell_type": "markdown",
      "metadata": {
        "id": "d5WE56ZlkZ5G"
      },
      "source": [
        "## ▲エスケープシーケンス\n",
        "文字列を作成するにはシングル `'` あるいはダブルクォート `\"` で囲むと説明しました。\n",
        "これらの文字を含む文字列を作成するには、**エスケープシーケンス**と呼ばれる特殊な文字列を使う必要があります。\n",
        "\n",
        "たとえば、下のように文字列に `'` を含む文字列を `'` で囲むと文字列の範囲がずれてエラーとなります。"
      ]
    },
    {
      "cell_type": "code",
      "execution_count": null,
      "metadata": {
        "tags": [
          "raises-exception"
        ],
        "colab": {
          "base_uri": "https://localhost:8080/",
          "height": 110
        },
        "id": "ghp_MgLUkZ5G",
        "outputId": "3740d47e-b7bf-4188-8007-b8e55ff54ef8"
      },
      "outputs": [
        {
          "output_type": "error",
          "ename": "SyntaxError",
          "evalue": "invalid syntax (ipython-input-1163335816.py, line 1)",
          "traceback": [
            "\u001b[0;36m  File \u001b[0;32m\"/tmp/ipython-input-1163335816.py\"\u001b[0;36m, line \u001b[0;32m1\u001b[0m\n\u001b[0;31m    non_escaped = 'This is 'MINE''\u001b[0m\n\u001b[0m                            ^\u001b[0m\n\u001b[0;31mSyntaxError\u001b[0m\u001b[0;31m:\u001b[0m invalid syntax\n"
          ]
        }
      ],
      "source": [
        "non_escaped = 'This is 'MINE''\n",
        "non_escaped"
      ]
    },
    {
      "cell_type": "markdown",
      "metadata": {
        "id": "-_xO0v8-kZ5G"
      },
      "source": [
        "エラーを避けるには、エスケープシーケンスで `'` を記述します、具体的には `'` の前に `\\` と記述すると、`'` を含む文字列を作成できます。"
      ]
    },
    {
      "cell_type": "code",
      "execution_count": null,
      "metadata": {
        "colab": {
          "base_uri": "https://localhost:8080/",
          "height": 35
        },
        "id": "HNpOauQQkZ5H",
        "outputId": "9a2ac20f-1f7d-475c-fbc2-f8197a9bbb12"
      },
      "outputs": [
        {
          "output_type": "execute_result",
          "data": {
            "text/plain": [
              "\"This is 'MINE'\""
            ],
            "application/vnd.google.colaboratory.intrinsic+json": {
              "type": "string"
            }
          },
          "metadata": {},
          "execution_count": 27
        }
      ],
      "source": [
        "escaped1 = 'This is \\'MINE\\''\n",
        "escaped1"
      ]
    },
    {
      "cell_type": "markdown",
      "metadata": {
        "id": "P9cRG8HFkZ5H"
      },
      "source": [
        "実は、シングルクォートで囲む代わりにダブルクォートを使えばエスケープシーケンスを使わずに記述できます。"
      ]
    },
    {
      "cell_type": "code",
      "execution_count": null,
      "metadata": {
        "colab": {
          "base_uri": "https://localhost:8080/",
          "height": 35
        },
        "id": "1FQbObiQkZ5H",
        "outputId": "cb820a0a-98ce-4169-95ef-76a3239e4164"
      },
      "outputs": [
        {
          "output_type": "execute_result",
          "data": {
            "text/plain": [
              "\"This is 'MINE'\""
            ],
            "application/vnd.google.colaboratory.intrinsic+json": {
              "type": "string"
            }
          },
          "metadata": {},
          "execution_count": 28
        }
      ],
      "source": [
        "doublequated = \"This is 'MINE'\"\n",
        "doublequated"
      ]
    },
    {
      "cell_type": "markdown",
      "metadata": {
        "id": "MvL9ZK4EkZ5H"
      },
      "source": [
        "他にも、ダブルクォートを表す `\\\"`、`\\` を表す `\\\\` 、改行を表す `\\n` など、様々なエスケープシーケンスがあります。"
      ]
    },
    {
      "cell_type": "code",
      "execution_count": null,
      "metadata": {
        "colab": {
          "base_uri": "https://localhost:8080/"
        },
        "id": "y-Uby-mRkZ5I",
        "outputId": "3dfa538b-552c-46bd-b5ad-d5fa9eb19486"
      },
      "outputs": [
        {
          "output_type": "stream",
          "name": "stdout",
          "text": [
            "時は金なり\n",
            "\"Time is money\"\n",
            "Time is \\\n"
          ]
        }
      ],
      "source": [
        "escaped2 = \"時は金なり\\n\\\"Time is money\\\"\\nTime is \\\\\"\n",
        "print(escaped2)"
      ]
    },
    {
      "cell_type": "markdown",
      "metadata": {
        "id": "DBBsRGL0kZ5I"
      },
      "source": [
        "3連のシングルクォート、もしくはダブルクォートを利用すれば、 `\\\"` や `\\n` を使わずに記述できます。"
      ]
    },
    {
      "cell_type": "code",
      "execution_count": null,
      "metadata": {
        "colab": {
          "base_uri": "https://localhost:8080/"
        },
        "id": "egQY7FlvkZ5I",
        "outputId": "039f4c39-df73-4054-a88c-16a212c8b184"
      },
      "outputs": [
        {
          "output_type": "stream",
          "name": "stdout",
          "text": [
            "時は金なり\n",
            "'Time is money'\n",
            "Time is \\\n"
          ]
        }
      ],
      "source": [
        "triple_single_quated = '''時は金なり\n",
        "'Time is money'\n",
        "Time is \\\\'''\n",
        "print(triple_single_quated)"
      ]
    },
    {
      "cell_type": "code",
      "execution_count": null,
      "metadata": {
        "colab": {
          "base_uri": "https://localhost:8080/"
        },
        "id": "eIPPf94YkZ5I",
        "outputId": "37fb57eb-804f-484f-e379-2b79b1faeb1e"
      },
      "outputs": [
        {
          "output_type": "stream",
          "name": "stdout",
          "text": [
            "時は金なり\n",
            "'Time is money'\n",
            "Time is \\\n"
          ]
        }
      ],
      "source": [
        "triple_double_quated = \"\"\"時は金なり\n",
        "'Time is money'\n",
        "Time is \\\\\"\"\"\n",
        "print(triple_single_quated)"
      ]
    },
    {
      "cell_type": "markdown",
      "metadata": {
        "id": "By7-ljkPkZ5I"
      },
      "source": [
        "なお、プログラムの一部を無効に（コメントアウト）したいとき、\n",
        "3連のクォートで囲んで文字列にしてしまうことがあります。"
      ]
    },
    {
      "cell_type": "markdown",
      "metadata": {
        "id": "Lau6tmfBkZ5I"
      },
      "source": [
        "## バックスラッシュの表示と入力\n",
        "\n",
        "エスケープシーケンスの先頭にある文字は、バックスラッシュ `\\`（Unicode `U+005C`）です。\n",
        "これはPythonに限った話ではないですが、バックスラッシュは環境（正確にはフォント）によって見え方が異なります。\n",
        "Windows上のフォントでは、円記号 `¥` として見えることが多いです。\n",
        "macOS上のフォントでは、そのままバックスラッシュとして見えることが多いです。\n",
        "\n",
        "JIS配列キーボードでは、バックスラッシュキーがないことがあります。\n",
        "Windows上では、円記号 `¥` キーでバックスラッシュが入力できます。\n",
        "macOS上では、`Alt` + `¥` キーでバックスラッシュが入力できます。\n",
        "ただし、IME設定によっても入力方法は変わるので注意してください。"
      ]
    },
    {
      "cell_type": "code",
      "execution_count": null,
      "metadata": {
        "colab": {
          "base_uri": "https://localhost:8080/"
        },
        "id": "bAiFmdaXkZ5J",
        "outputId": "f7f8586b-bb54-4c8d-e9b9-5e62baa69f52"
      },
      "outputs": [
        {
          "output_type": "stream",
          "name": "stdout",
          "text": [
            "\n",
            "\n",
            "¥n\n",
            "⧵n\n"
          ]
        }
      ],
      "source": [
        "print('\\n') # 改行文字（バックスラッシュ + n）\n",
        "print('¥n') # 改行文字でない（円記号 + n）\n",
        "print('⧵n') # 改行文字でない（Unicode U+29F5 のバックスラッシュ演算子 + n）"
      ]
    },
    {
      "cell_type": "markdown",
      "metadata": {
        "id": "sKkVNeDrkZ5J"
      },
      "source": [
        "## 文字列の連結\n",
        "**`+`** 演算子を用いれば文字列同士を**連結**できます。\n",
        "この演算では新しい文字列が作られ、元の文字列は変化しません。"
      ]
    },
    {
      "cell_type": "code",
      "execution_count": null,
      "metadata": {
        "colab": {
          "base_uri": "https://localhost:8080/",
          "height": 35
        },
        "id": "6V0aSkIBkZ5J",
        "outputId": "2dc48205-4cfd-42ac-d29c-d21733c2fc79"
      },
      "outputs": [
        {
          "output_type": "execute_result",
          "data": {
            "text/plain": [
              "'hello world'"
            ],
            "application/vnd.google.colaboratory.intrinsic+json": {
              "type": "string"
            }
          },
          "metadata": {},
          "execution_count": 33
        }
      ],
      "source": [
        "word1 = 'hello'\n",
        "word2 = ' world'\n",
        "text1 = word1 + word2\n",
        "text1"
      ]
    },
    {
      "cell_type": "markdown",
      "metadata": {
        "id": "2Zi4t36JkZ5J"
      },
      "source": [
        "**`*`** 演算子で文字列の繰り返し回数を指定できます。"
      ]
    },
    {
      "cell_type": "code",
      "execution_count": null,
      "metadata": {
        "colab": {
          "base_uri": "https://localhost:8080/",
          "height": 35
        },
        "id": "uK7VeiCzkZ5J",
        "outputId": "08a640ef-473c-4900-9262-99c54b23f902"
      },
      "outputs": [
        {
          "output_type": "execute_result",
          "data": {
            "text/plain": [
              "'hellohellohello'"
            ],
            "application/vnd.google.colaboratory.intrinsic+json": {
              "type": "string"
            }
          },
          "metadata": {},
          "execution_count": 34
        }
      ],
      "source": [
        "word1 = 'hello'\n",
        "word1 * 3"
      ]
    },
    {
      "cell_type": "markdown",
      "metadata": {
        "id": "GytY-TAOkZ5J"
      },
      "source": [
        "## 文字列とメソッド\n",
        "文字列に対する操作を行うため、様々な**メソッド**（関数のようなもの）が用意されています。\n",
        "\n",
        "メソッドは必要に応じて `(...)` 内に引数を与え、以下のように使用します。\n",
        "\n",
        "---\n",
        "```Python\n",
        "文字列.メソッド名(式, ...)\n",
        "# あるいは\n",
        "文字列変数.メソッド名(式, ...)\n",
        "```\n",
        "---\n",
        "\n",
        "文字列には以下のようなメソッドが用意されています。"
      ]
    },
    {
      "cell_type": "markdown",
      "metadata": {
        "id": "bNJCrXxikZ5K"
      },
      "source": [
        "### **置換**\n",
        "\n",
        "**`replace`** メソッドは、指定した `部分文字列A` を、別に指定した `文字列B` で置き換えた文字列を作成します。\n",
        "この操作では、元の文字列は変化しません。具体的には、次のように使用します。\n",
        "\n",
        "---\n",
        "```Python\n",
        "文字列.replace(部分文字列A, 文字列B)\n",
        "```\n",
        "---"
      ]
    },
    {
      "cell_type": "code",
      "execution_count": null,
      "metadata": {
        "colab": {
          "base_uri": "https://localhost:8080/",
          "height": 35
        },
        "id": "EY2zw5F6kZ5K",
        "outputId": "839ad7c4-4ca4-4dd0-cd2a-200f73ecc1b8"
      },
      "outputs": [
        {
          "output_type": "execute_result",
          "data": {
            "text/plain": [
              "'he123123o'"
            ],
            "application/vnd.google.colaboratory.intrinsic+json": {
              "type": "string"
            }
          },
          "metadata": {},
          "execution_count": 35
        }
      ],
      "source": [
        "word1 = 'hello'\n",
        "word1.replace('l', '123')"
      ]
    },
    {
      "cell_type": "code",
      "execution_count": null,
      "metadata": {
        "id": "v8U8DYuGkZ5K"
      },
      "outputs": [],
      "source": [
        "word1"
      ]
    },
    {
      "cell_type": "markdown",
      "metadata": {
        "id": "0-Wf8wqykZ5L"
      },
      "source": [
        "### 練習\n",
        "\n",
        "英語の文章からなる文字列 `str_engsentences` が引数として与えられたとき、`str_engsentences` 中に含まれる全ての句読点（`.`, `,`, `:`, `;`, `!`, `?`）を削除した文字列を返す関数 `remove_punctuations` を作成してください。\n",
        "（練習の解答はこのノートブックの一番最後にあります。）\n",
        "\n",
        "次のセルの `...` のところを書き換えて `remove_punctuations(str_engsentences)` を作成してください。"
      ]
    },
    {
      "cell_type": "code",
      "execution_count": null,
      "metadata": {
        "id": "GOiS5GaCkZ5L"
      },
      "outputs": [],
      "source": [
        "def remove_punctuations(str_engsentences):\n",
        "    ..."
      ]
    },
    {
      "cell_type": "markdown",
      "metadata": {
        "id": "VihrLhgMkZ5L"
      },
      "source": [
        "上のセルで解答を作成した後、以下のセルを実行し、実行結果が `True` になることを確認してください。"
      ]
    },
    {
      "cell_type": "code",
      "execution_count": null,
      "metadata": {
        "tags": [
          "raises-exception"
        ],
        "colab": {
          "base_uri": "https://localhost:8080/"
        },
        "id": "RILLD8jSkZ5M",
        "outputId": "b3fabc75-d8ec-4bd8-eb62-8b968e758850"
      },
      "outputs": [
        {
          "output_type": "stream",
          "name": "stdout",
          "text": [
            "True\n"
          ]
        }
      ],
      "source": [
        "def remove_punctuations(str_engsentences):\n",
        "    str1 = str_engsentences.replace(\".\", \"\")\n",
        "    str1 = str1.replace(\",\", \"\")\n",
        "    str1 = str1.replace(\":\", \"\")\n",
        "    str1 = str1.replace(\";\", \"\")\n",
        "    str1 = str1.replace(\"!\", \"\")\n",
        "    str1 = str1.replace(\"?\", \"\")\n",
        "    return str1\n",
        "\n",
        "print(remove_punctuations('Quiet, uh, donations, you want me to make a donation to the coast guard youth auxiliary?') == 'Quiet uh donations you want me to make a donation to the coast guard youth auxiliary')"
      ]
    },
    {
      "cell_type": "markdown",
      "metadata": {
        "id": "T0oOjoUbkZ5M"
      },
      "source": [
        "### 練習\n",
        "\n",
        "ATGCの4種類の文字から成る文字列 `str_atgc` が引数として与えられたとき、文字列 `str_pair` を返す関数 `atgc_bppair` を作成してください。ただし、`str_pair` は、`str_atgc` 中の各文字列に対して、\n",
        "`A` を `T` に、`T` を `A` に、`G` を `C` に、`C` を `G` に置き換えたものです。\n",
        "\n",
        "次のセルの `...` のところを書き換えて `atgc_bppair(str_atgc)` を作成してください。"
      ]
    },
    {
      "cell_type": "code",
      "execution_count": null,
      "metadata": {
        "colab": {
          "base_uri": "https://localhost:8080/"
        },
        "id": "8Za0U2g7kZ5M",
        "outputId": "669c537b-5cd8-419c-d604-cb5b0c5231d4"
      },
      "outputs": [
        {
          "output_type": "stream",
          "name": "stdout",
          "text": [
            "AAGGGGGATGGTAA\n"
          ]
        }
      ],
      "source": [
        "def atgc_bppair(str_atgc):\n",
        "    str = str_atgc\n",
        "    str = str.replace(\"A\", \"t\")\n",
        "    str = str.replace(\"T\", \"a\")\n",
        "    str = str.replace(\"G\", \"c\")\n",
        "    str = str.replace(\"C\", \"g\")\n",
        "    str = str.upper()\n",
        "    return str"
      ]
    },
    {
      "cell_type": "markdown",
      "metadata": {
        "id": "_X6n2jZzkZ5M"
      },
      "source": [
        "上のセルで解答を作成した後、以下のセルを実行し、実行結果が `True` になることを確認してください。"
      ]
    },
    {
      "cell_type": "code",
      "execution_count": null,
      "metadata": {
        "tags": [
          "raises-exception"
        ],
        "colab": {
          "base_uri": "https://localhost:8080/"
        },
        "id": "M_oeFHT0kZ5M",
        "outputId": "bc4237e5-3a49-4b2b-cbc8-af629faadb17"
      },
      "outputs": [
        {
          "output_type": "stream",
          "name": "stdout",
          "text": [
            "True\n"
          ]
        }
      ],
      "source": [
        "def atgc_bppair(str_atgc):\n",
        "    str = str_atgc\n",
        "    str = str.replace(\"A\", \"t\")\n",
        "    str = str.replace(\"T\", \"a\")\n",
        "    str = str.replace(\"G\", \"c\")\n",
        "    str = str.replace(\"C\", \"g\")\n",
        "    str = str.upper()\n",
        "    return str\n",
        "\n",
        "print(atgc_bppair('AAGCCCCATGGTAA') == 'TTCGGGGTACCATT')"
      ]
    },
    {
      "cell_type": "markdown",
      "metadata": {
        "id": "B2TyvCA0kZ5N"
      },
      "source": [
        "### **検索**\n",
        "\n",
        "**`index`** メソッドにより、指定した `部分文字列B` が `文字列A` のどこに存在するか調べることができます。具体的には、次のように使用します。\n",
        "\n",
        "---\n",
        "```Python\n",
        "文字列A.index(部分文字列B)\n",
        "```\n",
        "---\n",
        "\n",
        "ただし、指定した部分文字列が文字列に複数回含まれる場合、最初のインデックスが返されます。また、指定した部分文字列が文字列に含まれない場合は、エラーとなります。"
      ]
    },
    {
      "cell_type": "code",
      "execution_count": null,
      "metadata": {
        "colab": {
          "base_uri": "https://localhost:8080/"
        },
        "id": "X4HM9rrLkZ5N",
        "outputId": "e95bac3a-d3c7-4c5e-a02a-38d2fab37788"
      },
      "outputs": [
        {
          "output_type": "execute_result",
          "data": {
            "text/plain": [
              "3"
            ]
          },
          "metadata": {},
          "execution_count": 43
        }
      ],
      "source": [
        "word1 = 'hello'\n",
        "word1.index('lo')"
      ]
    },
    {
      "cell_type": "code",
      "execution_count": null,
      "metadata": {
        "colab": {
          "base_uri": "https://localhost:8080/"
        },
        "id": "2nr-OJSEkZ5N",
        "outputId": "2517aec0-cae6-419c-f680-c689ae197f2d"
      },
      "outputs": [
        {
          "output_type": "execute_result",
          "data": {
            "text/plain": [
              "2"
            ]
          },
          "metadata": {},
          "execution_count": 44
        }
      ],
      "source": [
        "word1 = \"hello\"\n",
        "word1.index('l')"
      ]
    },
    {
      "cell_type": "markdown",
      "metadata": {
        "id": "fpCb7gSYkZ5O"
      },
      "source": [
        "以下はエラーとなります。"
      ]
    },
    {
      "cell_type": "code",
      "execution_count": null,
      "metadata": {
        "tags": [
          "raises-exception"
        ],
        "id": "110w-HPFkZ5O"
      },
      "outputs": [],
      "source": [
        "word1.index('a')"
      ]
    },
    {
      "cell_type": "markdown",
      "metadata": {
        "id": "1uf2ipzvkZ5O"
      },
      "source": [
        "**`find`** メソッドも `index` と同様に部分文字列を検索し、最初に出現するインデックスを返します。\n",
        "\n",
        "`index` との違いは、部分文字列が含まれない場合エラーとはならず `-1` が返されることです。"
      ]
    },
    {
      "cell_type": "code",
      "execution_count": null,
      "metadata": {
        "colab": {
          "base_uri": "https://localhost:8080/"
        },
        "id": "u2VHJI4tkZ5O",
        "outputId": "9c54564d-81a2-402d-c960-bda32504c17d"
      },
      "outputs": [
        {
          "output_type": "execute_result",
          "data": {
            "text/plain": [
              "-1"
            ]
          },
          "metadata": {},
          "execution_count": 45
        }
      ],
      "source": [
        "word1 = 'hello'\n",
        "word1.find('a')"
      ]
    },
    {
      "cell_type": "markdown",
      "metadata": {
        "id": "bSmAd2WTkZ5O"
      },
      "source": [
        "### 練習\n",
        "\n",
        "コロン (`:`) を1つだけ含む文字列 `str1` を引数として与えると、コロンの左右に存在する文字列を入れ替えた文字列を返す関数 `swap_colon(str1)` を作成してください。\n",
        "\n",
        "次のセルの `...` のところを書き換えて `swap_colon(str1)` を作成してください。"
      ]
    },
    {
      "cell_type": "code",
      "execution_count": null,
      "metadata": {
        "id": "KPWNMor5kZ5O"
      },
      "outputs": [],
      "source": [
        "def swap_colon(str1):\n",
        "    ..."
      ]
    },
    {
      "cell_type": "markdown",
      "metadata": {
        "id": "z1GKWfXokZ5O"
      },
      "source": [
        "上のセルで解答を作成した後、以下のセルを実行し、実行結果が `True` になることを確認してください。"
      ]
    },
    {
      "cell_type": "code",
      "execution_count": null,
      "metadata": {
        "tags": [
          "raises-exception"
        ],
        "colab": {
          "base_uri": "https://localhost:8080/"
        },
        "id": "i6PmYbJqkZ5O",
        "outputId": "1cc6e7a3-fd5e-4ce9-bd78-58b7c66c3760"
      },
      "outputs": [
        {
          "output_type": "stream",
          "name": "stdout",
          "text": [
            "True\n"
          ]
        }
      ],
      "source": [
        "def swap_colon(str1):\n",
        "    colon_index = str1.index(\":\")\n",
        "    str2 = str1[:colon_index]\n",
        "    str3 = str1[colon_index+1:]\n",
        "    str = str3 + \":\" + str2\n",
        "    return str\n",
        "\n",
        "print(swap_colon('hello:world') == 'world:hello')"
      ]
    },
    {
      "cell_type": "markdown",
      "metadata": {
        "id": "15FK654lkZ5O"
      },
      "source": [
        "### **数え上げ**\n",
        "\n",
        "**`count`** メソッドにより、指定した `部分文字列B` が `文字列A` にいくつ存在するか調べることができます。\n",
        "\n",
        "---\n",
        "```Python\n",
        "文字列A.count(部分文字列B)\n",
        "```\n",
        "---"
      ]
    },
    {
      "cell_type": "code",
      "execution_count": null,
      "metadata": {
        "id": "_BQx5Hk7kZ5P"
      },
      "outputs": [],
      "source": [
        "word1 = 'hello'\n",
        "word1.count('l')"
      ]
    },
    {
      "cell_type": "code",
      "execution_count": null,
      "metadata": {
        "id": "tWSHmCUDkZ5P"
      },
      "outputs": [],
      "source": [
        "'aaaaaaa'.count('aa')"
      ]
    },
    {
      "cell_type": "markdown",
      "metadata": {
        "id": "vQvKqkgnkZ5P"
      },
      "source": [
        "### 練習\n",
        "\n",
        "ATGCの4種類の文字から成る文字列 `str_atgc` と塩基名（`A`, `T`, `G`, `C` のいずれか）を指定する文字列 `str_bpname` が引数として与えられたとき、`str_atgc` 中に含まれる塩基 `str_bpname` の数を返す関数 `atgc_count` を作成してください。\n",
        "\n",
        "次のセルの `...` のところを書き換えて `atgc_count(str_atgc, str_bpname)` を作成してください。"
      ]
    },
    {
      "cell_type": "code",
      "execution_count": null,
      "metadata": {
        "id": "CDWHd6G0kZ5P"
      },
      "outputs": [],
      "source": [
        "def atgc_count(str_atgc, str_bpname):"
      ]
    },
    {
      "cell_type": "markdown",
      "metadata": {
        "id": "LtcVssAQkZ5P"
      },
      "source": [
        "上のセルで解答を作成した後、以下のセルを実行し、実行結果が `True` になることを確認してください。"
      ]
    },
    {
      "cell_type": "code",
      "execution_count": null,
      "metadata": {
        "tags": [
          "raises-exception"
        ],
        "colab": {
          "base_uri": "https://localhost:8080/"
        },
        "id": "sMIPhO03kZ5P",
        "outputId": "af535222-98b3-458d-97c0-d1be29967976"
      },
      "outputs": [
        {
          "output_type": "stream",
          "name": "stdout",
          "text": [
            "True\n"
          ]
        }
      ],
      "source": [
        "def atgc_count(str_atgc, str_bpname):\n",
        "    return str_atgc.count(str_bpname)\n",
        "\n",
        "print(atgc_count('AAGCCCCATGGTAA', 'A') == 5)"
      ]
    },
    {
      "cell_type": "markdown",
      "metadata": {
        "id": "iswGw4SEkZ5P"
      },
      "source": [
        "### **大文字**・**小文字**\n",
        "**`lower`**, **`capitalize`**, **`upper`** メソッドを用いると、文字列の中の英文字を小文字に変換したり、大文字に変換したりすることができます。\n",
        "\n",
        "これらの操作では、元の文字列は変化しません。"
      ]
    },
    {
      "cell_type": "code",
      "execution_count": null,
      "metadata": {
        "id": "FLKpywpBkZ5P"
      },
      "outputs": [],
      "source": [
        "upper_dna = 'DNA'\n",
        "upper_dna.lower() # 全ての文字を小文字にする"
      ]
    },
    {
      "cell_type": "code",
      "execution_count": null,
      "metadata": {
        "id": "3IdPUTHBkZ5Q"
      },
      "outputs": [],
      "source": [
        "upper_dna"
      ]
    },
    {
      "cell_type": "code",
      "execution_count": null,
      "metadata": {
        "id": "wfFliEFukZ5Q"
      },
      "outputs": [],
      "source": [
        "lower_text = 'hello world!'\n",
        "lower_text.capitalize() # 先頭文字を大文字にする"
      ]
    },
    {
      "cell_type": "code",
      "execution_count": null,
      "metadata": {
        "id": "3IhCrpJEkZ5Q"
      },
      "outputs": [],
      "source": [
        "lower_text"
      ]
    },
    {
      "cell_type": "code",
      "execution_count": null,
      "metadata": {
        "id": "XuKLjs40kZ5Q"
      },
      "outputs": [],
      "source": [
        "lower_text.upper() #全ての文字を大文字にする"
      ]
    },
    {
      "cell_type": "code",
      "execution_count": null,
      "metadata": {
        "id": "I7jSM4kWkZ5Q"
      },
      "outputs": [],
      "source": [
        "lower_text"
      ]
    },
    {
      "cell_type": "markdown",
      "metadata": {
        "id": "L-68PN73kZ5R"
      },
      "source": [
        "### ▲空白文字の削除\n",
        "\n",
        "半角スペース `' '`・改行文字 `'\\n'`・タブ文字 `'\\t'`・全角スペース `'　'` などを総称して**空白文字**と呼びます。\n",
        "\n",
        "`strip` メソッドを用いると、文字列の前後にある連続した空白文字を削除した文字列を取得できます。"
      ]
    },
    {
      "cell_type": "code",
      "execution_count": null,
      "metadata": {
        "id": "3PE9PJltkZ5T"
      },
      "outputs": [],
      "source": [
        "'  abc\\n'.strip()"
      ]
    },
    {
      "cell_type": "code",
      "execution_count": null,
      "metadata": {
        "id": "j3dhHX2VkZ5T"
      },
      "outputs": [],
      "source": [
        "'　a b c　\\n'.strip()"
      ]
    },
    {
      "cell_type": "markdown",
      "metadata": {
        "id": "j286KLdQkZ5T"
      },
      "source": [
        "左側の空白だけ削除する `lstrip` と右側の空白だけ削除する `rstrip` もあります。"
      ]
    },
    {
      "cell_type": "code",
      "execution_count": null,
      "metadata": {
        "id": "_pqUg3DPkZ5T"
      },
      "outputs": [],
      "source": [
        "'  abc\\n'.lstrip()"
      ]
    },
    {
      "cell_type": "code",
      "execution_count": null,
      "metadata": {
        "id": "1bfP4CJzkZ5U"
      },
      "outputs": [],
      "source": [
        "'  abc\\n'.rstrip()"
      ]
    },
    {
      "cell_type": "markdown",
      "metadata": {
        "id": "eD9K1fH-kZ5U"
      },
      "source": [
        "## **文字列の比較演算**\n",
        "\n",
        "比較演算子、`==`, `<`, `>` などを用いて、2つの文字列を比較することもできます。"
      ]
    },
    {
      "cell_type": "code",
      "execution_count": null,
      "metadata": {
        "id": "ih3antxqkZ5U"
      },
      "outputs": [],
      "source": [
        "print('abc' == 'abc')\n",
        "print('ab' == 'abc')"
      ]
    },
    {
      "cell_type": "code",
      "execution_count": null,
      "metadata": {
        "id": "HEQdsr-DkZ5U"
      },
      "outputs": [],
      "source": [
        "print('abc' != 'abc')\n",
        "print('ab' != 'abc')"
      ]
    },
    {
      "cell_type": "markdown",
      "metadata": {
        "id": "nulKn2AIkZ5U"
      },
      "source": [
        "文字列の大小の比較は、いわゆる辞書式による比較で、文字列の最初の文字から順に比較して大小を決めます。\n",
        "片方がもう片方を拡張したものであれば、拡張した方を大きいとします。"
      ]
    },
    {
      "cell_type": "code",
      "execution_count": null,
      "metadata": {
        "id": "SRuRJRyCkZ5U"
      },
      "outputs": [],
      "source": [
        "print('abc' <= 'abc')\n",
        "print('abc' < 'abc')\n",
        "print('abc' < 'abd')\n",
        "print('ab' < 'abc')"
      ]
    },
    {
      "cell_type": "markdown",
      "metadata": {
        "id": "TnankV3ykZ5U"
      },
      "source": [
        "## 練習\n",
        "\n",
        "英語の文字列 `str_engsentences` が引数として与えられたとき、それが全て小文字である場合、`True` を返し、そうでない場合、 `False` を返す関数 `check_lower` を作成してください。\n",
        "\n",
        "次のセルの `...` のところを書き換えて `check_lower(str_engsentences)` を作成してください。"
      ]
    },
    {
      "cell_type": "code",
      "execution_count": null,
      "metadata": {
        "id": "etr9iFe5kZ5V"
      },
      "outputs": [],
      "source": [
        "def check_lower(str_engsentences):\n",
        "  ..."
      ]
    },
    {
      "cell_type": "markdown",
      "metadata": {
        "id": "nE_LcdEhkZ5V"
      },
      "source": [
        "上のセルで解答を作成した後、以下のセルを実行し、実行結果が全て `True` になることを確認してください。"
      ]
    },
    {
      "cell_type": "code",
      "execution_count": null,
      "metadata": {
        "tags": [
          "raises-exception"
        ],
        "colab": {
          "base_uri": "https://localhost:8080/"
        },
        "id": "6wK5oyVAkZ5V",
        "outputId": "cb921de7-31df-44a7-f809-f024a437a7fa"
      },
      "outputs": [
        {
          "output_type": "stream",
          "name": "stdout",
          "text": [
            "True\n",
            "True\n"
          ]
        }
      ],
      "source": [
        "def check_lower(str_engsentences):\n",
        "    if str_engsentences == str_engsentences.lower():\n",
        "        return True\n",
        "    return False\n",
        "\n",
        "\n",
        "print(check_lower('down down down') == True)\n",
        "print(check_lower('There were doors all round the hall, but they were all locked') == False)"
      ]
    },
    {
      "cell_type": "markdown",
      "metadata": {
        "id": "MOgkTVZkkZ5V"
      },
      "source": [
        "## 初心者によくある誤解 --- **変数**と**文字列**の混乱\n",
        "\n",
        "初心者によくある誤解として、変数と文字列を混乱する例が見られます。たとえば、文字列を引数に取る次のような関数 `func` を考えます（ `func` は引数として与えられた文字列を大文字にして返す関数です）。"
      ]
    },
    {
      "cell_type": "code",
      "execution_count": null,
      "metadata": {
        "id": "ERIalunvkZ5V"
      },
      "outputs": [],
      "source": [
        "def func(str1):\n",
        "    return str1.upper()"
      ]
    },
    {
      "cell_type": "markdown",
      "metadata": {
        "id": "XDcVUO-EkZ5W"
      },
      "source": [
        "ここで変数 `str2` を引数として `func` を呼ぶと、`str2` に格納されている文字列が大文字になって返ってきます。"
      ]
    },
    {
      "cell_type": "code",
      "execution_count": null,
      "metadata": {
        "id": "sxHZW6OHkZ5W"
      },
      "outputs": [],
      "source": [
        "str2 = 'abc'\n",
        "func(str2)"
      ]
    },
    {
      "cell_type": "markdown",
      "metadata": {
        "id": "UvlrI6HxkZ5W"
      },
      "source": [
        "次のように `func` を呼ぶと上とは結果が異なります。次の例では変数 `str2` （に格納されている文字列 `abc`）ではなく、文字列 `'str2'` を引数として `func` を呼び出しています。"
      ]
    },
    {
      "cell_type": "code",
      "execution_count": null,
      "metadata": {
        "id": "hD8jCxJSkZ5W"
      },
      "outputs": [],
      "source": [
        "str2 = 'abc'\n",
        "func('str2')"
      ]
    },
    {
      "cell_type": "markdown",
      "metadata": {
        "id": "o3Z_0L3kkZ5W"
      },
      "source": [
        "## 練習\n",
        "\n",
        "コンマ (`,`) を含む英語の文章からなる文字列 `str_engsentences` が引数として与えられたとき、`str_engsentences` 中の一番最初のコンマより後の文章のみかならなる文字列 `str_res` を返す関数 `remove_clause` を作成してください。ただし、 `str_res` の先頭は大文字のアルファベットとしてください。\n",
        "\n",
        "次のセルの `...` のところを書き換えて `remove_clause(str_engsentences)` を作成してください。"
      ]
    },
    {
      "cell_type": "code",
      "execution_count": null,
      "metadata": {
        "id": "MeV8AQMqkZ5W"
      },
      "outputs": [],
      "source": [
        "def remove_clause(str_engsentences):\n",
        "    ..."
      ]
    },
    {
      "cell_type": "markdown",
      "metadata": {
        "id": "I6KLvt4wkZ5X"
      },
      "source": [
        "上のセルで解答を作成した後、以下のセルを実行し、実行結果が `True` になることを確認してください。"
      ]
    },
    {
      "cell_type": "code",
      "execution_count": null,
      "metadata": {
        "tags": [
          "raises-exception"
        ],
        "colab": {
          "base_uri": "https://localhost:8080/"
        },
        "id": "4vYLxVTokZ5X",
        "outputId": "bd7ec99a-251b-4cf0-bdd0-606b7017ebc3"
      },
      "outputs": [
        {
          "output_type": "stream",
          "name": "stdout",
          "text": [
            "True\n"
          ]
        }
      ],
      "source": [
        "def remove_clause(str_engsentences):\n",
        "    comma_index = str_engsentences.index(\",\")\n",
        "    str1 = str_engsentences[comma_index+2:]\n",
        "    return str1.capitalize()\n",
        "\n",
        "print(remove_clause(\"It's being seen, but you aren't observing.\") == \"But you aren't observing.\")"
      ]
    },
    {
      "cell_type": "markdown",
      "metadata": {
        "id": "xUG3gVbSkZ5X"
      },
      "source": [
        "## 練習の解答"
      ]
    },
    {
      "cell_type": "code",
      "execution_count": null,
      "metadata": {
        "id": "o52lQGbkkZ5X"
      },
      "outputs": [],
      "source": [
        "def remove_punctuations(str_engsentences):\n",
        "    str1 = str_engsentences.replace('.', '') # 指定の文字を空文字に置換\n",
        "    str1 = str1.replace(',', '')\n",
        "    str1 = str1.replace(':', '')\n",
        "    str1 = str1.replace(';', '')\n",
        "    str1 = str1.replace('!', '')\n",
        "    str1 = str1.replace('?', '')\n",
        "    return str1\n",
        "#remove_punctuations('Quiet, uh, donations, you want me to make a donation to the coast guard youth auxiliary?')"
      ]
    },
    {
      "cell_type": "code",
      "execution_count": null,
      "metadata": {
        "id": "GGVajGVRkZ5X"
      },
      "outputs": [],
      "source": [
        "def atgc_bppair(str_atgc):\n",
        "    str_pair = str_atgc.replace('A', 't')# 指定の文字に置換。ただし全て小文字\n",
        "    str_pair = str_pair.replace('T', 'a')\n",
        "    str_pair = str_pair.replace('G', 'c')\n",
        "    str_pair = str_pair.replace('C', 'g')\n",
        "    str_pair = str_pair.upper() # 置換済みの小文字の列を大文字に変換\n",
        "    return str_pair\n",
        "#atgc_bppair('AAGCCCCATGGTAA')"
      ]
    },
    {
      "cell_type": "code",
      "execution_count": null,
      "metadata": {
        "id": "Fs-DDyvukZ5Y"
      },
      "outputs": [],
      "source": [
        "def swap_colon(str1):\n",
        "    #コロンの位置を取得する # findでもOK\n",
        "    col_index = str1.index(':')\n",
        "    #コロンの位置を基準に前半と後半の部分文字列を取得する\n",
        "    str2, str3 = str1[:col_index], str1[col_index+1:]\n",
        "    #部分文字列の順序を入れ替えて結合する\n",
        "    str4 = str3 + ':' + str2\n",
        "    return str4\n",
        "#swap_colon('hello:world')"
      ]
    },
    {
      "cell_type": "code",
      "execution_count": null,
      "metadata": {
        "id": "pI-Z3W3ZkZ5Y"
      },
      "outputs": [],
      "source": [
        "def atgc_count(str_atgc, str_bpname):\n",
        "    return str_atgc.count(str_bpname)\n",
        "#atgc_count('AAGCCCCATGGTAA', 'A')"
      ]
    },
    {
      "cell_type": "code",
      "execution_count": null,
      "metadata": {
        "id": "5F0mLk4YkZ5Y"
      },
      "outputs": [],
      "source": [
        "def check_lower(str_engsentences):\n",
        "    if str_engsentences == str_engsentences.lower():#元の文字列と小文字に変換した文字列を比較する\n",
        "        return True\n",
        "    return False\n",
        "#check_lower('down down down')\n",
        "#check_lower('There were doors all round the hall, but they were all locked')"
      ]
    },
    {
      "cell_type": "code",
      "execution_count": null,
      "metadata": {
        "id": "xa2tfa8KkZ5Z"
      },
      "outputs": [],
      "source": [
        "def remove_clause(str_engsentences):\n",
        "    int_index = str_engsentences.find(',')\n",
        "    str1 = str_engsentences[int_index+2:]\n",
        "    return str1.capitalize()\n",
        "#remove_clause(\"It's being seen, but you aren't observing.\")"
      ]
    },
    {
      "cell_type": "code",
      "execution_count": null,
      "metadata": {
        "id": "Hb5gAVv5kZ5Z"
      },
      "outputs": [],
      "source": []
    }
  ],
  "metadata": {
    "kernelspec": {
      "display_name": "Python 3",
      "language": "python",
      "name": "python3"
    },
    "language_info": {
      "name": "python"
    },
    "colab": {
      "provenance": [],
      "include_colab_link": true
    }
  },
  "nbformat": 4,
  "nbformat_minor": 0
}
