{
  "cells": [
    {
      "cell_type": "markdown",
      "metadata": {
        "id": "view-in-github",
        "colab_type": "text"
      },
      "source": [
        "<a href=\"https://colab.research.google.com/github/prime29haruno/github-notes/blob/main/Python1_1.ipynb\" target=\"_parent\"><img src=\"https://colab.research.google.com/assets/colab-badge.svg\" alt=\"Open In Colab\"/></a>"
      ]
    },
    {
      "cell_type": "markdown",
      "metadata": {
        "id": "Uo4razfY9uyE"
      },
      "source": [
        "# 1-1. 数値演算\n",
        "数値演算について説明します。\n",
        "\n",
        "参考\n",
        "\n",
        "- https://docs.python.org/ja/3/tutorial/introduction.html#using-python-as-a-calculator\n",
        "- https://docs.python.org/ja/3/tutorial/modules.html\n",
        "- https://docs.python.org/ja/3/library/numeric.html\n",
        "- https://docs.python.org/ja/3/library/math.html"
      ]
    },
    {
      "cell_type": "markdown",
      "metadata": {
        "id": "QYEWEx-69uyF"
      },
      "source": [
        "## 簡単な算術計算\n",
        "\n",
        "CodeセルにPythonの式を入力して、プレイボタンを押すか、\n",
        "Shiftを押しながらEnterを押すと、式が評価され、その結果の値がセルの下に挿入されます。\n",
        "\n",
        "1+1 の計算をしてみましょう。次のセルに `1+1` と入力して、\n",
        "Shiftを押しながらEnterを押してください。"
      ]
    },
    {
      "cell_type": "code",
      "execution_count": null,
      "metadata": {
        "colab": {
          "base_uri": "https://localhost:8080/"
        },
        "id": "PlXPsXTL9uyG",
        "outputId": "3b105499-18fb-4ddc-9181-cd20fb7ea6cf"
      },
      "outputs": [
        {
          "output_type": "execute_result",
          "data": {
            "text/plain": [
              "2"
            ]
          },
          "metadata": {},
          "execution_count": 1
        }
      ],
      "source": [
        "1 + 1"
      ]
    },
    {
      "cell_type": "markdown",
      "metadata": {
        "id": "sBCa8JkL9uyG"
      },
      "source": [
        "このようにして、電卓の代わりにPythonを使うことができます。**`+`** は言うまでもなく**足し算**を表しています。"
      ]
    },
    {
      "cell_type": "code",
      "execution_count": null,
      "metadata": {
        "colab": {
          "base_uri": "https://localhost:8080/"
        },
        "id": "CMqB18619uyG",
        "outputId": "7fb29d42-48cd-4145-a0c4-6bf2d8aeb8f4"
      },
      "outputs": [
        {
          "output_type": "execute_result",
          "data": {
            "text/plain": [
              "5"
            ]
          },
          "metadata": {},
          "execution_count": 2
        }
      ],
      "source": [
        "8 - 3"
      ]
    },
    {
      "cell_type": "code",
      "execution_count": null,
      "metadata": {
        "colab": {
          "base_uri": "https://localhost:8080/"
        },
        "id": "5cQWd-OA9uyG",
        "outputId": "d5ec8305-5035-4fd9-a49b-2bf6f34d9978"
      },
      "outputs": [
        {
          "output_type": "execute_result",
          "data": {
            "text/plain": [
              "15"
            ]
          },
          "metadata": {},
          "execution_count": 3
        }
      ],
      "source": [
        "5 * 3"
      ]
    },
    {
      "cell_type": "code",
      "execution_count": null,
      "metadata": {
        "colab": {
          "base_uri": "https://localhost:8080/"
        },
        "id": "FfraDICm9uyH",
        "outputId": "a4187f0d-142a-4ecd-8fcb-b04be48cdc22"
      },
      "outputs": [
        {
          "output_type": "execute_result",
          "data": {
            "text/plain": [
              "343"
            ]
          },
          "metadata": {},
          "execution_count": 4
        }
      ],
      "source": [
        "7 ** 3"
      ]
    },
    {
      "cell_type": "markdown",
      "metadata": {
        "id": "brUKsuI99uyH"
      },
      "source": [
        "**`-`** は**引き算**、**`*`** は**掛け算**、**`**`** は**べき乗**を表しています。\n",
        "\n",
        "式を適当に書き換えてから、Shiftを押しながらEnterを押すと、\n",
        "書き換えた後の式が評価されて、セルの下の値はその結果で置き換わります。\n",
        "たとえば、上の `2` を `100` に書き換えて、7の100乗を求めてみてください。"
      ]
    },
    {
      "cell_type": "markdown",
      "metadata": {
        "id": "PCYJbotC9uyH"
      },
      "source": [
        "割り算はどうなるでしょうか。"
      ]
    },
    {
      "cell_type": "code",
      "execution_count": null,
      "metadata": {
        "colab": {
          "base_uri": "https://localhost:8080/"
        },
        "id": "0v18y9_S9uyH",
        "outputId": "2eb594a6-78d1-48a0-8d65-a0edbceb08d9"
      },
      "outputs": [
        {
          "output_type": "execute_result",
          "data": {
            "text/plain": [
              "3"
            ]
          },
          "metadata": {},
          "execution_count": 5
        }
      ],
      "source": [
        "7 // 2"
      ]
    },
    {
      "cell_type": "code",
      "execution_count": null,
      "metadata": {
        "colab": {
          "base_uri": "https://localhost:8080/"
        },
        "id": "AbDQnK4n9uyH",
        "outputId": "c1f09884-e07b-42a8-8429-3aa96c8ad2be"
      },
      "outputs": [
        {
          "output_type": "execute_result",
          "data": {
            "text/plain": [
              "3.5"
            ]
          },
          "metadata": {},
          "execution_count": 6
        }
      ],
      "source": [
        "7 / 2"
      ]
    },
    {
      "cell_type": "markdown",
      "metadata": {
        "id": "w_EtffJL9uyI"
      },
      "source": [
        "Pythonでは、**割り算**（**除算**）は **`/`** で表され、**整数除算**は **`//`** で表されます。\n",
        "`//` は小数部を切り捨てた整数値（**商**）を返します。\n",
        "\n",
        "整数同士の `//` の結果は整数になります。"
      ]
    },
    {
      "cell_type": "code",
      "execution_count": null,
      "metadata": {
        "colab": {
          "base_uri": "https://localhost:8080/"
        },
        "id": "Pc4LpRAM9uyI",
        "outputId": "4a4e91a6-8c3b-451b-ddd4-2d0a4b5a4b65"
      },
      "outputs": [
        {
          "output_type": "execute_result",
          "data": {
            "text/plain": [
              "7.0"
            ]
          },
          "metadata": {},
          "execution_count": 7
        }
      ],
      "source": [
        "7 / 1"
      ]
    },
    {
      "cell_type": "code",
      "execution_count": null,
      "metadata": {
        "colab": {
          "base_uri": "https://localhost:8080/"
        },
        "id": "SqEeoNKs9uyI",
        "outputId": "9ab216a4-5f63-48e8-d09e-1f5a22f285fd"
      },
      "outputs": [
        {
          "output_type": "execute_result",
          "data": {
            "text/plain": [
              "7"
            ]
          },
          "metadata": {},
          "execution_count": 8
        }
      ],
      "source": [
        "7 // 1"
      ]
    },
    {
      "cell_type": "markdown",
      "metadata": {
        "id": "w4pBG-gx9uyI"
      },
      "source": [
        "整数除算の**余り**（**剰余**）を求めたいときは、別の演算子 **`%`** を用います。\n",
        "\n",
        "整数同士の `%` の結果は整数になります。"
      ]
    },
    {
      "cell_type": "code",
      "execution_count": null,
      "metadata": {
        "colab": {
          "base_uri": "https://localhost:8080/"
        },
        "id": "XerkEEam9uyI",
        "outputId": "d789bdb8-4f21-4fd5-a69d-95a055bcf23f"
      },
      "outputs": [
        {
          "output_type": "execute_result",
          "data": {
            "text/plain": [
              "1"
            ]
          },
          "metadata": {},
          "execution_count": 10
        }
      ],
      "source": [
        "7 % 2"
      ]
    },
    {
      "cell_type": "markdown",
      "metadata": {
        "id": "_gPRylUH9uyI"
      },
      "source": [
        "## コメント\n",
        "Pythonでは一般に、コードの中に **`#`** が出現すると、それ以降、その行の終わりまでが**コメント**になります。\n",
        "コメントは行頭からも、行の途中からでも始めることができます。\n",
        "\n",
        "プログラムの実行時には、コメントは無視されます。"
      ]
    },
    {
      "cell_type": "code",
      "execution_count": null,
      "metadata": {
        "id": "WENsV3nj9uyI"
      },
      "outputs": [],
      "source": [
        "# このように行頭に '#' をおけば、行全体をコメントとすることができます。\n",
        "\n",
        "# 次のようにコード行に続けて直前のコードについての説明をコメントとして書くこともできます。\n",
        "2**10  # 2の10乗を計算します"
      ]
    },
    {
      "cell_type": "code",
      "execution_count": null,
      "metadata": {
        "id": "JZzZAZik9uyI"
      },
      "outputs": [],
      "source": [
        "# 次のようにコード行自体をコメントとすることで、その行を無視させる（コメントアウトする）こともよく行われます。\n",
        "# 2**10  # 2の10乗を計算します この行が「コメントアウト」された\n",
        "2**12  # 実は計算したいのは2の12乗でした"
      ]
    },
    {
      "cell_type": "markdown",
      "metadata": {
        "id": "oGBCiiMi9uyI"
      },
      "source": [
        "## 整数と実数\n",
        "Pythonでは、**整数**と小数点のある数（**実数**）は、数学的に同じ数を表す場合でも、\n",
        "コンピュータの中で異なる形式で記憶されますので、表示は異なります。\n",
        "（実数は**浮動小数点数**ともいいます。）"
      ]
    },
    {
      "cell_type": "code",
      "execution_count": null,
      "metadata": {
        "colab": {
          "base_uri": "https://localhost:8080/"
        },
        "id": "vQaoyhTm9uyI",
        "outputId": "1c9d8038-6799-4a99-cbcb-1c21b1711861"
      },
      "outputs": [
        {
          "output_type": "execute_result",
          "data": {
            "text/plain": [
              "7.0"
            ]
          },
          "metadata": {},
          "execution_count": 11
        }
      ],
      "source": [
        "7 / 1"
      ]
    },
    {
      "cell_type": "code",
      "execution_count": null,
      "metadata": {
        "colab": {
          "base_uri": "https://localhost:8080/"
        },
        "id": "4GuqRZsk9uyI",
        "outputId": "502f8228-a396-4dd8-871b-f08f351a4acb"
      },
      "outputs": [
        {
          "output_type": "execute_result",
          "data": {
            "text/plain": [
              "7"
            ]
          },
          "metadata": {},
          "execution_count": 12
        }
      ],
      "source": [
        "7 // 1"
      ]
    },
    {
      "cell_type": "markdown",
      "metadata": {
        "id": "ZMXmkesI9uyI"
      },
      "source": [
        "しかし、以下のように、比較を行うと両者は等しいものとして扱われます。\n",
        "値同士が等しいかどうかを調べる `==` という演算子については、後で紹介します。"
      ]
    },
    {
      "cell_type": "code",
      "execution_count": null,
      "metadata": {
        "colab": {
          "base_uri": "https://localhost:8080/"
        },
        "id": "_X0TL7ph9uyI",
        "outputId": "7252b46b-66ef-41da-9ae0-5536ce0b6fef"
      },
      "outputs": [
        {
          "output_type": "execute_result",
          "data": {
            "text/plain": [
              "True"
            ]
          },
          "metadata": {},
          "execution_count": 13
        }
      ],
      "source": [
        "7 / 1 == 7 // 1"
      ]
    },
    {
      "cell_type": "markdown",
      "metadata": {
        "id": "bm4LDAB29uyJ"
      },
      "source": [
        "`+` と `-` と `*` と `//` と `%` と `**` では、2つの数が整数ならば結果も整数になります。\n",
        "2つの数が実数であったり、整数と実数が混ざっていたら、結果は実数になります。"
      ]
    },
    {
      "cell_type": "code",
      "execution_count": null,
      "metadata": {
        "colab": {
          "base_uri": "https://localhost:8080/"
        },
        "id": "Lhcc0i1E9uyJ",
        "outputId": "9527d7f0-9921-4bb2-a9ac-8833efa0e1bb"
      },
      "outputs": [
        {
          "output_type": "execute_result",
          "data": {
            "text/plain": [
              "8"
            ]
          },
          "metadata": {},
          "execution_count": 14
        }
      ],
      "source": [
        "3 + 5"
      ]
    },
    {
      "cell_type": "code",
      "execution_count": null,
      "metadata": {
        "colab": {
          "base_uri": "https://localhost:8080/"
        },
        "id": "XxMH-i3-9uyJ",
        "outputId": "541fb08d-0dd0-4d4c-f8fe-aff02e775e3f"
      },
      "outputs": [
        {
          "output_type": "execute_result",
          "data": {
            "text/plain": [
              "8.0"
            ]
          },
          "metadata": {},
          "execution_count": 15
        }
      ],
      "source": [
        "3 + 5.0"
      ]
    },
    {
      "cell_type": "markdown",
      "metadata": {
        "id": "FOBOHXsi9uyJ"
      },
      "source": [
        "`/` の結果は必ず実数となります。"
      ]
    },
    {
      "cell_type": "code",
      "execution_count": null,
      "metadata": {
        "colab": {
          "base_uri": "https://localhost:8080/"
        },
        "id": "eHzVRKts9uyJ",
        "outputId": "e3f70554-49c0-48cf-b671-627279eb8679"
      },
      "outputs": [
        {
          "output_type": "execute_result",
          "data": {
            "text/plain": [
              "7.0"
            ]
          },
          "metadata": {},
          "execution_count": 16
        }
      ],
      "source": [
        "7 / 1"
      ]
    },
    {
      "cell_type": "markdown",
      "metadata": {
        "id": "EbUrSRmh9uyJ"
      },
      "source": [
        "ここで、自分で色々と式を入力してみてください。\n",
        "以下に、いくつかセルを用意しておきます。\n",
        "足りなければ、Insertメニューを使ってセルを追加することができます。"
      ]
    },
    {
      "cell_type": "code",
      "execution_count": null,
      "metadata": {
        "colab": {
          "base_uri": "https://localhost:8080/"
        },
        "id": "7m8QG5uW9uyJ",
        "outputId": "15e9ab57-601b-4324-c4fb-67f503a4e5f0"
      },
      "outputs": [
        {
          "output_type": "execute_result",
          "data": {
            "text/plain": [
              "9.0"
            ]
          },
          "metadata": {},
          "execution_count": 17
        }
      ],
      "source": [
        "6 + 3.0"
      ]
    },
    {
      "cell_type": "code",
      "execution_count": null,
      "metadata": {
        "colab": {
          "base_uri": "https://localhost:8080/"
        },
        "id": "QQ9p62fN9uyJ",
        "outputId": "b268e1ac-3a2f-4b5f-cdc6-0517cb7008be"
      },
      "outputs": [
        {
          "output_type": "execute_result",
          "data": {
            "text/plain": [
              "2"
            ]
          },
          "metadata": {},
          "execution_count": 18
        }
      ],
      "source": [
        "7 // 3"
      ]
    },
    {
      "cell_type": "code",
      "execution_count": null,
      "metadata": {
        "id": "55SKvYym9uyJ"
      },
      "outputs": [],
      "source": []
    },
    {
      "cell_type": "markdown",
      "metadata": {
        "id": "-ZlaD_Oy9uyJ"
      },
      "source": [
        "### 実数のべき表示"
      ]
    },
    {
      "cell_type": "code",
      "execution_count": null,
      "metadata": {
        "colab": {
          "base_uri": "https://localhost:8080/"
        },
        "id": "EUudm6O39uyJ",
        "outputId": "7333e3dc-f190-4fb0-902e-95280653e668"
      },
      "outputs": [
        {
          "output_type": "execute_result",
          "data": {
            "text/plain": [
              "1.0715086071862673e+301"
            ]
          },
          "metadata": {},
          "execution_count": 19
        }
      ],
      "source": [
        "2.0 ** 1000"
      ]
    },
    {
      "cell_type": "markdown",
      "metadata": {
        "id": "OrWAZYrd9uyJ"
      },
      "source": [
        "非常に大きな実数は、10のべきとともに表示（**べき表示**）されます。\n",
        "`e+301` は10の301乗を意味します。"
      ]
    },
    {
      "cell_type": "code",
      "execution_count": null,
      "metadata": {
        "colab": {
          "base_uri": "https://localhost:8080/"
        },
        "id": "rartD-jc9uyJ",
        "outputId": "a384107b-9684-456c-d1aa-240ee4b6b80d"
      },
      "outputs": [
        {
          "output_type": "execute_result",
          "data": {
            "text/plain": [
              "9.332636185032189e-302"
            ]
          },
          "metadata": {},
          "execution_count": 20
        }
      ],
      "source": [
        "2.0 ** -1000"
      ]
    },
    {
      "cell_type": "markdown",
      "metadata": {
        "id": "oUzs08DB9uyJ"
      },
      "source": [
        "非常に小さな実数も、10のべきとともに表示されます。\n",
        "`e-302` は10の-302乗を意味します。"
      ]
    },
    {
      "cell_type": "markdown",
      "metadata": {
        "id": "tRYO-rps9uyJ"
      },
      "source": [
        "### いくらでも大きくなる整数"
      ]
    },
    {
      "cell_type": "code",
      "execution_count": null,
      "metadata": {
        "colab": {
          "base_uri": "https://localhost:8080/"
        },
        "id": "KDQhj-2c9uyM",
        "outputId": "792b4efe-3509-47d3-fabc-03103e833e94"
      },
      "outputs": [
        {
          "output_type": "execute_result",
          "data": {
            "text/plain": [
              "10715086071862673209484250490600018105614048117055336074437503883703510511249361224931983788156958581275946729175531468251871452856923140435984577574698574803934567774824230985421074605062371141877954182153046474983581941267398767559165543946077062914571196477686542167660429831652624386837205668069376"
            ]
          },
          "metadata": {},
          "execution_count": 21
        }
      ],
      "source": [
        "2 ** 1000"
      ]
    },
    {
      "cell_type": "markdown",
      "metadata": {
        "id": "R9fYkS0h9uyM"
      },
      "source": [
        "このように、Pythonでは整数はいくらでも大きくなります。\n",
        "もちろん、コンピュータのメモリに納まる限りにおいてですが。"
      ]
    },
    {
      "cell_type": "code",
      "execution_count": null,
      "metadata": {
        "colab": {
          "base_uri": "https://localhost:8080/"
        },
        "id": "l0ojEfe59uyM",
        "outputId": "2c8ff329-91f9-4635-cc62-20c444c337b5"
      },
      "outputs": [
        {
          "output_type": "execute_result",
          "data": {
            "text/plain": [
              "65536"
            ]
          },
          "metadata": {},
          "execution_count": 23
        }
      ],
      "source": [
        "2 ** 2 ** 2 ** 2"
      ]
    },
    {
      "cell_type": "markdown",
      "metadata": {
        "id": "HPDxoqBi9uyM"
      },
      "source": [
        "### 整数と実数の間の変換\n",
        "\n",
        "実数を整数に変換するには、**`int`** という関数を用います。\n",
        "（関数に関する一般的な説明は1-2を参照してください。）\n",
        "`int(x)` は、実数 `x` を（`0` の方向に）切り下げた結果を返します。"
      ]
    },
    {
      "cell_type": "code",
      "execution_count": null,
      "metadata": {
        "colab": {
          "base_uri": "https://localhost:8080/"
        },
        "id": "ydkAAvXW9uyM",
        "outputId": "6f6f5a72-bd75-487a-be07-22ae098b5c2e"
      },
      "outputs": [
        {
          "output_type": "execute_result",
          "data": {
            "text/plain": [
              "2"
            ]
          },
          "metadata": {},
          "execution_count": 24
        }
      ],
      "source": [
        "int(2.9)"
      ]
    },
    {
      "cell_type": "code",
      "execution_count": null,
      "metadata": {
        "colab": {
          "base_uri": "https://localhost:8080/"
        },
        "id": "DwVUCbzp9uyM",
        "outputId": "b9b1dd4e-be1e-425f-8157-3c8834a862de"
      },
      "outputs": [
        {
          "output_type": "execute_result",
          "data": {
            "text/plain": [
              "-2"
            ]
          },
          "metadata": {},
          "execution_count": 25
        }
      ],
      "source": [
        "int(-2.9)"
      ]
    },
    {
      "cell_type": "markdown",
      "metadata": {
        "id": "FKSylgX19uyN"
      },
      "source": [
        "逆に、整数を実数に変換するには、**`float`** という関数を用います。\n",
        "`float(i)` は、整数 `i` を実数に変換した結果を返します。\n",
        "たとえば `i+0.0` としても、`i` を実数に変換できます。"
      ]
    },
    {
      "cell_type": "code",
      "execution_count": null,
      "metadata": {
        "colab": {
          "base_uri": "https://localhost:8080/"
        },
        "id": "e8TB-ENI9uyN",
        "outputId": "32c5a782-f56b-41bc-eb44-ae751cd590d6"
      },
      "outputs": [
        {
          "output_type": "execute_result",
          "data": {
            "text/plain": [
              "2.0"
            ]
          },
          "metadata": {},
          "execution_count": 26
        }
      ],
      "source": [
        "float(2)"
      ]
    },
    {
      "cell_type": "code",
      "execution_count": null,
      "metadata": {
        "colab": {
          "base_uri": "https://localhost:8080/"
        },
        "id": "vMRqEWRg9uyN",
        "outputId": "3486f14d-615b-4d16-83c9-e3c6433517da"
      },
      "outputs": [
        {
          "output_type": "execute_result",
          "data": {
            "text/plain": [
              "2.0"
            ]
          },
          "metadata": {},
          "execution_count": 27
        }
      ],
      "source": [
        "2+0.0"
      ]
    },
    {
      "cell_type": "markdown",
      "metadata": {
        "id": "o1vNNtK49uyN"
      },
      "source": [
        "### 数値誤差\n",
        "\n",
        "浮動小数点数には、**数値誤差**が不可避です。\n",
        "これは、有限のビット数で、無限に小さくなり得る小数刻みを表現しようとするためです。\n",
        "（参照：[Wikipedia - 浮動小数点数](https://ja.wikipedia.org/wiki/%E6%B5%AE%E5%8B%95%E5%B0%8F%E6%95%B0%E7%82%B9%E6%95%B0#%E3%82%A8%E3%83%A9%E3%83%BC%EF%BC%88%E8%AA%A4%E5%B7%AE%EF%BC%89)）\n",
        "\n",
        "Pythonでは、整数は無限桁で表現されるため、整数演算には誤差が生じません。\n",
        "しかし、整数を実数に変換したときには、一般に誤差が生じます。"
      ]
    },
    {
      "cell_type": "code",
      "execution_count": null,
      "metadata": {
        "colab": {
          "base_uri": "https://localhost:8080/"
        },
        "id": "5UX0R1OM9uyN",
        "outputId": "dbea25e1-92ef-494d-c10f-22ec80ce0da8"
      },
      "outputs": [
        {
          "output_type": "execute_result",
          "data": {
            "text/plain": [
              "1000000000000000000000000000000000000000000000000000000000000"
            ]
          },
          "metadata": {},
          "execution_count": 28
        }
      ],
      "source": [
        "10**60"
      ]
    },
    {
      "cell_type": "code",
      "execution_count": null,
      "metadata": {
        "colab": {
          "base_uri": "https://localhost:8080/"
        },
        "id": "fzM-6kDY9uyN",
        "outputId": "12fb56ea-18fe-4881-b144-55f091a11e3f"
      },
      "outputs": [
        {
          "output_type": "execute_result",
          "data": {
            "text/plain": [
              "1e+60"
            ]
          },
          "metadata": {},
          "execution_count": 29
        }
      ],
      "source": [
        "float(10**60)"
      ]
    },
    {
      "cell_type": "code",
      "execution_count": null,
      "metadata": {
        "colab": {
          "base_uri": "https://localhost:8080/"
        },
        "id": "lyoEalsW9uyN",
        "outputId": "a845000e-893a-47af-846e-8e0387b56d09"
      },
      "outputs": [
        {
          "output_type": "execute_result",
          "data": {
            "text/plain": [
              "999999999999999949387135297074018866963645011013410073083904"
            ]
          },
          "metadata": {},
          "execution_count": 30
        }
      ],
      "source": [
        "int(float(10**60))"
      ]
    },
    {
      "cell_type": "markdown",
      "metadata": {
        "id": "450Koy2v9uyN"
      },
      "source": [
        "数え上げのような離散的な値を扱う時には、実数を経由せずに、整数のみで演算するようにしましょう。"
      ]
    },
    {
      "cell_type": "markdown",
      "metadata": {
        "id": "HxUZ5ETW9uyN"
      },
      "source": [
        "## 演算子の優先順位と括弧\n",
        "掛け算や割り算は足し算や引き算よりも先に評価されます。\n",
        "すなわち、掛け算や割り算の方が足し算や引き算よりも**優先順位**が高いと定義されています。\n",
        "\n",
        "**括弧**を使って式の評価順序を指定することができます。\n",
        "\n",
        "なお、数式 $a(b-c)$、$(a-b)(c-d)$ は、それぞれ $a$ と $b-c$、$a-b$ と $c-d$ の積を意味しますが、\n",
        "コードでは、`a*(b-c)` や `(a-b)*(c-d)` のように積の演算子である `*` を明記する必要があることに注意してください。\n",
        "\n",
        "また、数や演算子の間には、自由に空白を入れることができます。（後でもう一度説明します。）"
      ]
    },
    {
      "cell_type": "code",
      "execution_count": null,
      "metadata": {
        "colab": {
          "base_uri": "https://localhost:8080/"
        },
        "id": "5wLsFFyb9uyN",
        "outputId": "7307776d-2e52-458e-bafb-540c138a169d"
      },
      "outputs": [
        {
          "output_type": "execute_result",
          "data": {
            "text/plain": [
              "1"
            ]
          },
          "metadata": {},
          "execution_count": 31
        }
      ],
      "source": [
        "7 - 2 * 3"
      ]
    },
    {
      "cell_type": "code",
      "execution_count": null,
      "metadata": {
        "colab": {
          "base_uri": "https://localhost:8080/"
        },
        "id": "Vvm7itW09uyN",
        "outputId": "92df4edc-a99e-479b-9f65-e713c59dfb10"
      },
      "outputs": [
        {
          "output_type": "execute_result",
          "data": {
            "text/plain": [
              "15"
            ]
          },
          "metadata": {},
          "execution_count": 32
        }
      ],
      "source": [
        "(7 - 2) * 3"
      ]
    },
    {
      "cell_type": "code",
      "execution_count": null,
      "metadata": {
        "colab": {
          "base_uri": "https://localhost:8080/"
        },
        "id": "oMVNg3yu9uyN",
        "outputId": "d11ca060-a878-4a55-eed8-ef9870ffa746"
      },
      "outputs": [
        {
          "output_type": "execute_result",
          "data": {
            "text/plain": [
              "2"
            ]
          },
          "metadata": {},
          "execution_count": 33
        }
      ],
      "source": [
        "17 - 17//3*3"
      ]
    },
    {
      "cell_type": "code",
      "execution_count": null,
      "metadata": {
        "colab": {
          "base_uri": "https://localhost:8080/"
        },
        "id": "rNY2Olzy9uyN",
        "outputId": "3d956a98-d5e4-4e3d-eee7-aa1976f4a449"
      },
      "outputs": [
        {
          "output_type": "execute_result",
          "data": {
            "text/plain": [
              "9354238358105289311446368256"
            ]
          },
          "metadata": {},
          "execution_count": 34
        }
      ],
      "source": [
        "56 ** 4 ** 2"
      ]
    },
    {
      "cell_type": "code",
      "execution_count": null,
      "metadata": {
        "colab": {
          "base_uri": "https://localhost:8080/"
        },
        "id": "0_EZ95329uyN",
        "outputId": "a597f978-4028-4549-ecd9-28464d1f7587"
      },
      "outputs": [
        {
          "output_type": "execute_result",
          "data": {
            "text/plain": [
              "9354238358105289311446368256"
            ]
          },
          "metadata": {},
          "execution_count": 35
        }
      ],
      "source": [
        "56 ** 16"
      ]
    },
    {
      "cell_type": "markdown",
      "metadata": {
        "id": "RBLJREW39uyN"
      },
      "source": [
        "上の例では、`4**2` が先に評価されて、`56**16` が計算されます。\n",
        "つまり、`x**y**z` = `x**(y**z)` が成り立ちます。\n",
        "このことをもって、`**` は右に結合するといいます。"
      ]
    },
    {
      "cell_type": "code",
      "execution_count": null,
      "metadata": {
        "colab": {
          "base_uri": "https://localhost:8080/"
        },
        "id": "GclMgSt-9uyN",
        "outputId": "0743a637-6462-44ae-93b5-2aca5c6d31ab"
      },
      "outputs": [
        {
          "output_type": "execute_result",
          "data": {
            "text/plain": [
              "1.0"
            ]
          },
          "metadata": {},
          "execution_count": 36
        }
      ],
      "source": [
        "16/8/2"
      ]
    },
    {
      "cell_type": "code",
      "execution_count": null,
      "metadata": {
        "colab": {
          "base_uri": "https://localhost:8080/"
        },
        "id": "05Te0HHO9uyN",
        "outputId": "f990be55-3626-48fa-b263-faa1f7220db8"
      },
      "outputs": [
        {
          "output_type": "execute_result",
          "data": {
            "text/plain": [
              "1.0"
            ]
          },
          "metadata": {},
          "execution_count": 37
        }
      ],
      "source": [
        "(16/8)/2"
      ]
    },
    {
      "cell_type": "markdown",
      "metadata": {
        "id": "LVbZ6oOg9uyN"
      },
      "source": [
        "上の例では、`16/8` が先に評価されて、`2/2` が計算されます。\n",
        "つまり、`x/y/z` = `(x/y)/z` が成り立ちます。\n",
        "このことをもって、`/` は左に結合するといいます。"
      ]
    },
    {
      "cell_type": "markdown",
      "metadata": {
        "id": "09eDTDOz9uyN"
      },
      "source": [
        "`*` と `/` をまぜても左に結合します。"
      ]
    },
    {
      "cell_type": "code",
      "execution_count": null,
      "metadata": {
        "colab": {
          "base_uri": "https://localhost:8080/"
        },
        "id": "-NGlArUj9uyO",
        "outputId": "18fe90f0-e850-4a24-933b-1f2c4952547c"
      },
      "outputs": [
        {
          "output_type": "execute_result",
          "data": {
            "text/plain": [
              "15.0"
            ]
          },
          "metadata": {},
          "execution_count": 38
        }
      ],
      "source": [
        "10/2*3"
      ]
    },
    {
      "cell_type": "markdown",
      "metadata": {
        "id": "qtpkVYJH9uyO"
      },
      "source": [
        "以上のように、演算子によって式の評価の順番がかわりますので注意してください。\n",
        "\n",
        "ではまた、自分で色々と式を入力してみてください。\n",
        "以下に、いくつかセルを用意しておきます。"
      ]
    },
    {
      "cell_type": "code",
      "execution_count": null,
      "metadata": {
        "colab": {
          "base_uri": "https://localhost:8080/"
        },
        "id": "o6y8Qt5M9uyO",
        "outputId": "2893ac81-0b2e-41e0-8593-dfe4cbfd5196"
      },
      "outputs": [
        {
          "output_type": "execute_result",
          "data": {
            "text/plain": [
              "41"
            ]
          },
          "metadata": {},
          "execution_count": 39
        }
      ],
      "source": [
        "16 + 5 ** 2"
      ]
    },
    {
      "cell_type": "code",
      "execution_count": null,
      "metadata": {
        "colab": {
          "base_uri": "https://localhost:8080/"
        },
        "id": "hA9F3Gp79uyO",
        "outputId": "7edd41e8-cad4-43f8-8bc5-21378901e737"
      },
      "outputs": [
        {
          "output_type": "execute_result",
          "data": {
            "text/plain": [
              "10460353203"
            ]
          },
          "metadata": {},
          "execution_count": 40
        }
      ],
      "source": [
        "(35 - 8) ** 7"
      ]
    },
    {
      "cell_type": "code",
      "execution_count": null,
      "metadata": {
        "colab": {
          "base_uri": "https://localhost:8080/"
        },
        "id": "JBuwIg9M9uyO",
        "outputId": "135c97b4-4796-4ded-8925-13b8278fe061"
      },
      "outputs": [
        {
          "output_type": "execute_result",
          "data": {
            "text/plain": [
              "2592.0"
            ]
          },
          "metadata": {},
          "execution_count": 41
        }
      ],
      "source": [
        "6 ** 5 / 3"
      ]
    },
    {
      "cell_type": "markdown",
      "metadata": {
        "id": "O6AaUyOV9uyO"
      },
      "source": [
        "### 単項の `+` と `-`"
      ]
    },
    {
      "cell_type": "markdown",
      "metadata": {
        "id": "NQaJif869uyO"
      },
      "source": [
        "**`+`** と **`-`** は、単項の演算子（**単項演算子**）としても使えます。\n",
        "（これらの演算子の後に1つだけ数が書かれます。\n",
        "前と後の両方に数が書かれる演算子は**2項演算子**と言います。）"
      ]
    },
    {
      "cell_type": "code",
      "execution_count": null,
      "metadata": {
        "colab": {
          "base_uri": "https://localhost:8080/"
        },
        "id": "AZpRwEMy9uyO",
        "outputId": "bee4a52d-cc5e-45ac-b7df-cf5a174d8f45"
      },
      "outputs": [
        {
          "output_type": "execute_result",
          "data": {
            "text/plain": [
              "-3"
            ]
          },
          "metadata": {},
          "execution_count": 42
        }
      ],
      "source": [
        "-3"
      ]
    },
    {
      "cell_type": "code",
      "execution_count": null,
      "metadata": {
        "colab": {
          "base_uri": "https://localhost:8080/"
        },
        "id": "EjD1jVsa9uyO",
        "outputId": "32b2bc65-f8e4-4d7a-eb3e-ae9b3c523e31"
      },
      "outputs": [
        {
          "output_type": "execute_result",
          "data": {
            "text/plain": [
              "3"
            ]
          },
          "metadata": {},
          "execution_count": 43
        }
      ],
      "source": [
        "+3"
      ]
    },
    {
      "cell_type": "markdown",
      "metadata": {
        "id": "NWsJNjo-9uyO"
      },
      "source": [
        "## 算術演算子のまとめ\n",
        "\n",
        "算術演算子を、評価の優先順位にしたがって、すなわち結合力の強い順にまとめておきましょう。\n",
        "\n",
        "まず、2項のべき演算子 `**` が最も強く結合します。\n",
        "`**` は右の方から計算され、このことを「右に結合する」と表します。\n",
        "\n",
        "次に、単項の `+` と `-` が強く結合します。\n",
        "なお、 `**` の右側に単項の `+` や `-` がある場合は、`+` と `-` がより強く結合します。\n",
        "例えば、 `-10 ** 2` では `**` がより強く結合し `-100` となり、 `10 ** -2` では `-` がより強く結合し `0.01` となります。\n",
        "\n",
        "その次に、2項の `*` と `/` と `//` と `%` が強く結合します。これらは左に結合します。\n",
        "\n",
        "最後に、2項の `+` と `-` は最も弱く結合します。これらも左に結合します。"
      ]
    },
    {
      "cell_type": "markdown",
      "metadata": {
        "id": "OajThj9O9uyO"
      },
      "source": [
        "## 空白\n",
        "既に `7 - 2 * 3` のような例が出てきましたが、\n",
        "演算子と数の間や、演算子と変数（後述）の間には、空白を入れることができます。\n",
        "ここで**空白**とは、**半角の空白**のことで、英数字と同様に1バイトの文字コードに含まれているものです。\n",
        "\n",
        "複数の文字から成る演算子、たとえば `**` や `//` の間に空白を入れることはできません。\n",
        "エラーになることでしょう。"
      ]
    },
    {
      "cell_type": "code",
      "execution_count": null,
      "metadata": {
        "colab": {
          "base_uri": "https://localhost:8080/"
        },
        "id": "SGKGuzM69uyO",
        "outputId": "0206305e-590f-4c50-d561-4088559dce7a"
      },
      "outputs": [
        {
          "output_type": "execute_result",
          "data": {
            "text/plain": [
              "49"
            ]
          },
          "metadata": {},
          "execution_count": 44
        }
      ],
      "source": [
        "7 **2"
      ]
    },
    {
      "cell_type": "code",
      "execution_count": null,
      "metadata": {
        "tags": [
          "raises-exception"
        ],
        "colab": {
          "base_uri": "https://localhost:8080/",
          "height": 110
        },
        "id": "1xBaeBS-9uyO",
        "outputId": "23e2232a-5025-4f06-d1c3-7cd400032c15"
      },
      "outputs": [
        {
          "output_type": "error",
          "ename": "SyntaxError",
          "evalue": "invalid syntax (ipython-input-925474765.py, line 1)",
          "traceback": [
            "\u001b[0;36m  File \u001b[0;32m\"/tmp/ipython-input-925474765.py\"\u001b[0;36m, line \u001b[0;32m1\u001b[0m\n\u001b[0;31m    7* *2\u001b[0m\n\u001b[0m       ^\u001b[0m\n\u001b[0;31mSyntaxError\u001b[0m\u001b[0;31m:\u001b[0m invalid syntax\n"
          ]
        }
      ],
      "source": [
        "7* *2"
      ]
    },
    {
      "cell_type": "markdown",
      "metadata": {
        "id": "baTux1Om9uyO"
      },
      "source": [
        "### 全角の空白\n",
        "日本語文字コードである***全角の空白***は、空白とはみなされませんので注意してください。"
      ]
    },
    {
      "cell_type": "code",
      "execution_count": null,
      "metadata": {
        "tags": [
          "raises-exception"
        ],
        "colab": {
          "base_uri": "https://localhost:8080/",
          "height": 110
        },
        "id": "gAKzuv8q9uyO",
        "outputId": "8c11f4d2-e74a-4c61-86c9-402484a4bfc3"
      },
      "outputs": [
        {
          "output_type": "error",
          "ename": "SyntaxError",
          "evalue": "invalid non-printable character U+3000 (ipython-input-511804230.py, line 1)",
          "traceback": [
            "\u001b[0;36m  File \u001b[0;32m\"/tmp/ipython-input-511804230.py\"\u001b[0;36m, line \u001b[0;32m1\u001b[0m\n\u001b[0;31m    7　**2\u001b[0m\n\u001b[0m     ^\u001b[0m\n\u001b[0;31mSyntaxError\u001b[0m\u001b[0;31m:\u001b[0m invalid non-printable character U+3000\n"
          ]
        }
      ],
      "source": [
        "7　**2"
      ]
    },
    {
      "cell_type": "markdown",
      "metadata": {
        "id": "68Di7FUB9uyO"
      },
      "source": [
        "## エラー\n",
        "色々と試していると、**エラー**が起こることもあったでしょう。\n",
        "以下は典型的なエラーです。"
      ]
    },
    {
      "cell_type": "code",
      "execution_count": null,
      "metadata": {
        "tags": [
          "raises-exception"
        ],
        "colab": {
          "base_uri": "https://localhost:8080/",
          "height": 146
        },
        "id": "nSoVi6lW9uyO",
        "outputId": "bf173672-f682-4176-be81-4dc7b44259fc"
      },
      "outputs": [
        {
          "output_type": "error",
          "ename": "ZeroDivisionError",
          "evalue": "division by zero",
          "traceback": [
            "\u001b[0;31m---------------------------------------------------------------------------\u001b[0m",
            "\u001b[0;31mZeroDivisionError\u001b[0m                         Traceback (most recent call last)",
            "\u001b[0;32m/tmp/ipython-input-530406163.py\u001b[0m in \u001b[0;36m<cell line: 0>\u001b[0;34m()\u001b[0m\n\u001b[0;32m----> 1\u001b[0;31m \u001b[0;36m10\u001b[0m\u001b[0;34m/\u001b[0m\u001b[0;36m0\u001b[0m\u001b[0;34m\u001b[0m\u001b[0;34m\u001b[0m\u001b[0m\n\u001b[0m",
            "\u001b[0;31mZeroDivisionError\u001b[0m: division by zero"
          ]
        }
      ],
      "source": [
        "10/0"
      ]
    },
    {
      "cell_type": "markdown",
      "metadata": {
        "id": "TeqKUFIi9uyO"
      },
      "source": [
        "このエラーは、ゼロによる割り算を行ったためです。\n",
        "**実行時エラー**の典型的なものです。\n",
        "\n",
        "エラーが起こった場合は、修正して評価し直すことができます。\n",
        "上の例で、0 をたとえば 3 に書き換えて評価し直してみてください。"
      ]
    },
    {
      "cell_type": "code",
      "execution_count": null,
      "metadata": {
        "tags": [
          "raises-exception"
        ],
        "colab": {
          "base_uri": "https://localhost:8080/"
        },
        "id": "49mFFr4W9uyO",
        "outputId": "a75a9da1-83dc-4f81-d45a-4e0cf7bb518b"
      },
      "outputs": [
        {
          "output_type": "execute_result",
          "data": {
            "text/plain": [
              "3.3333333333333335"
            ]
          },
          "metadata": {},
          "execution_count": 48
        }
      ],
      "source": [
        "10/3"
      ]
    },
    {
      "cell_type": "markdown",
      "metadata": {
        "id": "-QbMvbvQ9uyP"
      },
      "source": [
        "こちらのエラーは**構文エラー**です。\n",
        "つまり、入力がPythonの構文に違反しているため実行できなかったのです。"
      ]
    },
    {
      "cell_type": "markdown",
      "metadata": {
        "id": "vqNFBhCY9uyP"
      },
      "source": [
        "## 数学関数（モジュールのインポート）"
      ]
    },
    {
      "cell_type": "code",
      "execution_count": null,
      "metadata": {
        "id": "UemqlN6w9uyP"
      },
      "outputs": [],
      "source": [
        "import math"
      ]
    },
    {
      "cell_type": "code",
      "execution_count": null,
      "metadata": {
        "id": "YgQPOk_J9uyP"
      },
      "outputs": [],
      "source": [
        "math.sqrt(2)"
      ]
    },
    {
      "cell_type": "markdown",
      "metadata": {
        "id": "DsRVxSgY9uyP"
      },
      "source": [
        "数学関係の各種の関数は、**モジュール**（**ライブラリ**）として提供されています。\n",
        "これらの関数を使いたいときは、上のように、**`import`** で始まる\n",
        "`import math` というおまじないを一度唱えます。\n",
        "そうしますと、**`math`** というライブラリが読み込まれて（**インポート**されて）、\n",
        "`math.関数名` という形で関数を用いることができます。\n",
        "上の例では、平方根を計算する **`math.sqrt`** という関数が用いられています。"
      ]
    },
    {
      "cell_type": "markdown",
      "metadata": {
        "id": "tSMzbkbk9uyP"
      },
      "source": [
        "もう少し例をあげておきましょう。sinとcosは **`math.sin`** と **`math.cos`** で求まります。"
      ]
    },
    {
      "cell_type": "code",
      "execution_count": null,
      "metadata": {
        "id": "tIUPy4909uyP"
      },
      "outputs": [],
      "source": [
        "math.sin(0)"
      ]
    },
    {
      "cell_type": "code",
      "execution_count": null,
      "metadata": {
        "id": "ubZ0jD2b9uyP"
      },
      "outputs": [],
      "source": [
        "math.pi"
      ]
    },
    {
      "cell_type": "markdown",
      "metadata": {
        "id": "r1DzdSMD9uyP"
      },
      "source": [
        "**`math.pi`** は、円周率を値とする変数です。\n",
        "\n",
        "変数については後に説明されます。"
      ]
    },
    {
      "cell_type": "code",
      "execution_count": null,
      "metadata": {
        "colab": {
          "base_uri": "https://localhost:8080/",
          "height": 146
        },
        "id": "MPS9FtIt9uyP",
        "outputId": "6b128006-9b1c-4eee-b75b-84739b481c3b"
      },
      "outputs": [
        {
          "output_type": "error",
          "ename": "NameError",
          "evalue": "name 'math' is not defined",
          "traceback": [
            "\u001b[0;31m---------------------------------------------------------------------------\u001b[0m",
            "\u001b[0;31mNameError\u001b[0m                                 Traceback (most recent call last)",
            "\u001b[0;32m/tmp/ipython-input-3489297766.py\u001b[0m in \u001b[0;36m<cell line: 0>\u001b[0;34m()\u001b[0m\n\u001b[0;32m----> 1\u001b[0;31m \u001b[0mmath\u001b[0m\u001b[0;34m.\u001b[0m\u001b[0msin\u001b[0m\u001b[0;34m(\u001b[0m\u001b[0mmath\u001b[0m\u001b[0;34m.\u001b[0m\u001b[0mpi\u001b[0m\u001b[0;34m)\u001b[0m\u001b[0;34m\u001b[0m\u001b[0;34m\u001b[0m\u001b[0m\n\u001b[0m",
            "\u001b[0;31mNameError\u001b[0m: name 'math' is not defined"
          ]
        }
      ],
      "source": [
        "math.sin(math.pi)"
      ]
    },
    {
      "cell_type": "markdown",
      "metadata": {
        "id": "GmfzkJzv9uyP"
      },
      "source": [
        "この結果は本当は 0 にならなければならないのですが、\n",
        "数値誤差のためにこのようになっています。"
      ]
    },
    {
      "cell_type": "code",
      "execution_count": null,
      "metadata": {
        "colab": {
          "base_uri": "https://localhost:8080/",
          "height": 146
        },
        "id": "qYVZ1PT69uyP",
        "outputId": "0caca7a3-360c-4431-c519-f41e916b8c6b"
      },
      "outputs": [
        {
          "output_type": "error",
          "ename": "NameError",
          "evalue": "name 'math' is not defined",
          "traceback": [
            "\u001b[0;31m---------------------------------------------------------------------------\u001b[0m",
            "\u001b[0;31mNameError\u001b[0m                                 Traceback (most recent call last)",
            "\u001b[0;32m/tmp/ipython-input-1876921456.py\u001b[0m in \u001b[0;36m<cell line: 0>\u001b[0;34m()\u001b[0m\n\u001b[0;32m----> 1\u001b[0;31m \u001b[0mmath\u001b[0m\u001b[0;34m.\u001b[0m\u001b[0msin\u001b[0m\u001b[0;34m(\u001b[0m\u001b[0mmath\u001b[0m\u001b[0;34m.\u001b[0m\u001b[0mpi\u001b[0m\u001b[0;34m/\u001b[0m\u001b[0;36m2\u001b[0m\u001b[0;34m)\u001b[0m\u001b[0;34m\u001b[0m\u001b[0;34m\u001b[0m\u001b[0m\n\u001b[0m",
            "\u001b[0;31mNameError\u001b[0m: name 'math' is not defined"
          ]
        }
      ],
      "source": [
        "math.sin(math.pi/2)"
      ]
    },
    {
      "cell_type": "code",
      "execution_count": null,
      "metadata": {
        "id": "eEn7DBbb9uyP"
      },
      "outputs": [],
      "source": [
        "math.sin(math.pi/4) * 2"
      ]
    },
    {
      "cell_type": "markdown",
      "metadata": {
        "id": "gap1Ml-j9uyP"
      },
      "source": [
        "## 練習"
      ]
    },
    {
      "cell_type": "markdown",
      "metadata": {
        "id": "bu70JxBk9uyP"
      },
      "source": [
        "黄金比を求めてください。黄金比とは、5 の平方根に 1 を加えて 2 で割ったものです。約 1.618 になるはずです。"
      ]
    },
    {
      "cell_type": "code",
      "execution_count": null,
      "metadata": {
        "colab": {
          "base_uri": "https://localhost:8080/"
        },
        "id": "le5Y9Wy99uyP",
        "outputId": "d8ebdee0-c1d7-423e-a149-89bc8609ccfb"
      },
      "outputs": [
        {
          "output_type": "execute_result",
          "data": {
            "text/plain": [
              "1.618033988749895"
            ]
          },
          "metadata": {},
          "execution_count": 52
        }
      ],
      "source": [
        "(5 ** 0.5 + 1)/2"
      ]
    },
    {
      "cell_type": "code",
      "source": [],
      "metadata": {
        "id": "zHW_54lC_vTc"
      },
      "execution_count": null,
      "outputs": []
    }
  ],
  "metadata": {
    "kernelspec": {
      "display_name": "Python 3 (ipykernel)",
      "language": "python",
      "name": "python3"
    },
    "language_info": {
      "codemirror_mode": {
        "name": "ipython",
        "version": 3
      },
      "file_extension": ".py",
      "mimetype": "text/x-python",
      "name": "python",
      "nbconvert_exporter": "python",
      "pygments_lexer": "ipython3",
      "version": "3.12.4"
    },
    "colab": {
      "provenance": [],
      "include_colab_link": true
    }
  },
  "nbformat": 4,
  "nbformat_minor": 0
}
