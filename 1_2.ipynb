{
  "cells": [
    {
      "cell_type": "markdown",
      "metadata": {
        "id": "view-in-github",
        "colab_type": "text"
      },
      "source": [
        "<a href=\"https://colab.research.google.com/github/prime29haruno/github-notes/blob/main/1_2.ipynb\" target=\"_parent\"><img src=\"https://colab.research.google.com/assets/colab-badge.svg\" alt=\"Open In Colab\"/></a>"
      ]
    },
    {
      "cell_type": "markdown",
      "metadata": {
        "id": "SzwFJz7FBhp5"
      },
      "source": [
        "# 1-2. 変数と関数の基礎\n",
        "変数と関数の基礎について説明します。\n",
        "\n",
        "参考\n",
        "\n",
        "- https://docs.python.org/ja/3/tutorial/introduction.html#first-steps-towards-programming\n",
        "- https://docs.python.org/ja/3/tutorial/controlflow.html#defining-functions\n",
        "- https://docs.python.org/ja/3/library/functions.html#print"
      ]
    },
    {
      "cell_type": "markdown",
      "metadata": {
        "id": "6hHRZlSGBhp6"
      },
      "source": [
        "## 変数\n",
        "プログラミング言語における**変数**とは、値に名前を付ける仕組みであり、名前はその値を指し示すことになります。"
      ]
    },
    {
      "cell_type": "code",
      "execution_count": null,
      "metadata": {
        "id": "87PGeHcCBhp6"
      },
      "outputs": [],
      "source": [
        "h = 188.0"
      ]
    },
    {
      "cell_type": "markdown",
      "metadata": {
        "id": "4sc0sJ7iBhp7"
      },
      "source": [
        "以上のように **`=`** を用いる構文によって、`188.0` という値に `h` という名前が付きます。これを**変数定義**と呼びます。\n",
        "\n",
        "定義された変数は、式の中で使うことができます。`h` という変数自体も式なので、`h` という式を評価することができ、変数が指し示す値が返ります。"
      ]
    },
    {
      "cell_type": "code",
      "execution_count": null,
      "metadata": {
        "id": "8ZxwRb_NBhp7"
      },
      "outputs": [],
      "source": [
        "h"
      ]
    },
    {
      "cell_type": "markdown",
      "metadata": {
        "id": "XPUpk1zHBhp7"
      },
      "source": [
        "異なる変数は、いくらでも導入できます。たとえば、以下では `w` を変数定義します。"
      ]
    },
    {
      "cell_type": "code",
      "execution_count": null,
      "metadata": {
        "id": "CbA-pTPABhp7"
      },
      "outputs": [],
      "source": [
        "w = 104.0"
      ]
    },
    {
      "cell_type": "markdown",
      "metadata": {
        "id": "8drDN3tWBhp8"
      },
      "source": [
        "ここで、`h` を身長 (cm)、`w` を体重 (kg) の意味と考えると、次の式によってBMI（ボディマス指数）を計算できます。"
      ]
    },
    {
      "cell_type": "code",
      "execution_count": null,
      "metadata": {
        "colab": {
          "base_uri": "https://localhost:8080/"
        },
        "id": "KfhlWEfnBhp8",
        "outputId": "095e28e0-d6fd-45f3-dff0-cf7025621866"
      },
      "outputs": [
        {
          "output_type": "execute_result",
          "data": {
            "text/plain": [
              "19.75916616318791"
            ]
          },
          "metadata": {},
          "execution_count": 1
        }
      ],
      "source": [
        "h = 153.9\n",
        "w = 46.8\n",
        "w / (h/100.0) ** 2"
      ]
    },
    {
      "cell_type": "markdown",
      "metadata": {
        "id": "JBLDqpAUBhp8"
      },
      "source": [
        "なお、演算子 `**` の方が `/` よりも先に評価されることに注意してください。"
      ]
    },
    {
      "cell_type": "markdown",
      "metadata": {
        "id": "Pr2xWSESBhp8"
      },
      "source": [
        "変数という名前の通り、変数が指し示す値を変えることもできます。"
      ]
    },
    {
      "cell_type": "code",
      "execution_count": null,
      "metadata": {
        "id": "cFgM5cU3Bhp8"
      },
      "outputs": [],
      "source": [
        "w = 104.0-10"
      ]
    },
    {
      "cell_type": "markdown",
      "metadata": {
        "id": "PwHD71gbBhp8"
      },
      "source": [
        "このように変数を再定義すれば、元々 `w` が指し示していた値 `104.0` を忘れて、新たな値 `94.0` を指し示すようになります。\n",
        "この後で、前と同じBMIの式を評価してみると、`w` の値の変化に応じて、BMIの計算結果は変わります。"
      ]
    },
    {
      "cell_type": "code",
      "execution_count": null,
      "metadata": {
        "colab": {
          "base_uri": "https://localhost:8080/"
        },
        "id": "gN7McpI-Bhp9",
        "outputId": "5de389e3-2701-44ff-c84c-698379312fce"
      },
      "outputs": [
        {
          "output_type": "execute_result",
          "data": {
            "text/plain": [
              "15.537122111224681"
            ]
          },
          "metadata": {},
          "execution_count": 2
        }
      ],
      "source": [
        "h = 153.9\n",
        "w = 46.8 - 10\n",
        "w / (h/100.0) ** 2"
      ]
    },
    {
      "cell_type": "markdown",
      "metadata": {
        "id": "881rEV8nBhp9"
      },
      "source": [
        "なお、未定義の変数（たとえば `BMI`）を式の中で用いると、次のようにエラーが生じます。\n",
        "\n",
        "```\n",
        "---------------------------------------------------------------------------\n",
        "NameError                                 Traceback (most recent call last)\n",
        "<ipython-input-1-b910749d4383> in <module>\n",
        "----> 1 BMI  # 未定義の変数\n",
        "\n",
        "NameError: name 'BMI' is not defined\n",
        "```\n",
        "\n",
        "次のセルの行頭にある `#` を削除して実行してみましょう。"
      ]
    },
    {
      "cell_type": "code",
      "execution_count": null,
      "metadata": {
        "colab": {
          "base_uri": "https://localhost:8080/",
          "height": 146
        },
        "id": "3seMUnvVBhp9",
        "outputId": "e8d9386e-b71b-4d16-f792-1a17ba321464"
      },
      "outputs": [
        {
          "output_type": "error",
          "ename": "NameError",
          "evalue": "name 'BMI' is not defined",
          "traceback": [
            "\u001b[0;31m---------------------------------------------------------------------------\u001b[0m",
            "\u001b[0;31mNameError\u001b[0m                                 Traceback (most recent call last)",
            "\u001b[0;32m/tmp/ipython-input-2570011175.py\u001b[0m in \u001b[0;36m<cell line: 0>\u001b[0;34m()\u001b[0m\n\u001b[0;32m----> 1\u001b[0;31m \u001b[0mBMI\u001b[0m  \u001b[0;31m# 未定義の変数\u001b[0m\u001b[0;34m\u001b[0m\u001b[0;34m\u001b[0m\u001b[0m\n\u001b[0m",
            "\u001b[0;31mNameError\u001b[0m: name 'BMI' is not defined"
          ]
        }
      ],
      "source": [
        " BMI  # 未定義の変数"
      ]
    },
    {
      "cell_type": "markdown",
      "metadata": {
        "id": "yLeFto_EBhp9"
      },
      "source": [
        "以降では、単純のため、変数が指し示す値を、変数の値として説明していきます。"
      ]
    },
    {
      "cell_type": "markdown",
      "metadata": {
        "id": "itS-WKb3Bhp9"
      },
      "source": [
        "### 代入文\n",
        "変数定義に用いた **`=`** による構文を、Pythonでは**代入文** (**assignment statement**) と呼びます。\n",
        "そして、代入文を実行することを**代入** (**assignment**) と言います。\n",
        "代入文は、`=` の左辺に右辺の式の評価結果の値を割り当てる文です。\n",
        "上記の例のように、左辺が変数の場合には、代入文は変数定義と解釈されます。\n",
        "\n",
        "代入文は、右辺を評価した後に左辺に割り当てるという順番に従います。右辺に出現する変数が左辺に出て来てもかまいません。"
      ]
    },
    {
      "cell_type": "code",
      "execution_count": null,
      "metadata": {
        "id": "orVww5vNBhp9"
      },
      "outputs": [],
      "source": [
        "w = w-10"
      ]
    },
    {
      "cell_type": "markdown",
      "metadata": {
        "id": "WAplD7gwBhp9"
      },
      "source": [
        "上の代入文は、`w` の値を `10` 減らす操作となります。`=` は数学的な等号ではないことに注意してください。\n",
        "\n",
        "もう一度BMIを計算してみると、`w` の値が減ったことで、先と結果が変わります。"
      ]
    },
    {
      "cell_type": "code",
      "execution_count": null,
      "metadata": {
        "colab": {
          "base_uri": "https://localhost:8080/"
        },
        "id": "Hv3BEsfjBhp9",
        "outputId": "25f3a67f-5655-4fe7-f56e-2f3e05f47407"
      },
      "outputs": [
        {
          "output_type": "execute_result",
          "data": {
            "text/plain": [
              "15.537122111224681"
            ]
          },
          "metadata": {},
          "execution_count": 4
        }
      ],
      "source": [
        "h = 153.9\n",
        "w = 46.8\n",
        "w = w - 10\n",
        "w / (h/100.0) ** 2"
      ]
    },
    {
      "cell_type": "markdown",
      "metadata": {
        "id": "hI7knuydBhp9"
      },
      "source": [
        "***注意***： 数学における代入は、substitution（置換）であり、プログラミング言語における代入 (assignment) とは異なります。代入という単語よりも、assignment（割り当て）という単語で概念を覚えましょう。"
      ]
    },
    {
      "cell_type": "markdown",
      "metadata": {
        "id": "pgSTN9LKBhp9"
      },
      "source": [
        "### 累積代入文\n",
        "上の例のように変数の値を減らす操作は、次のような**累算代入文** (**augmented assignment statement**) を使って簡潔に記述することができます。"
      ]
    },
    {
      "cell_type": "code",
      "execution_count": null,
      "metadata": {
        "id": "tb6sOIifBhp9"
      },
      "outputs": [],
      "source": [
        "w -= 10"
      ]
    },
    {
      "cell_type": "markdown",
      "metadata": {
        "id": "U2vRQruNBhp9"
      },
      "source": [
        "ここで、**`-=`** という演算子は、`-` と `=` を結合させた演算子で、`w = w - 10` という代入文と同じ意味になります。\n",
        "これは代入文と2項演算が複合したものであり、`-` に限らず、他の2項演算についても同様に複合した累算代入文が利用できます。たとえば、変数の値を増やすには **`+=`** という演算子を用いることができます。"
      ]
    },
    {
      "cell_type": "code",
      "execution_count": null,
      "metadata": {
        "id": "kE-xBaSxBhp9"
      },
      "outputs": [],
      "source": [
        "w += 10"
      ]
    },
    {
      "cell_type": "markdown",
      "metadata": {
        "id": "6vygRgwIBhp9"
      },
      "source": [
        "`=` も含めて、これらの演算子は**代入演算子**と呼ばれています。代入演算子によって変数の値がどのように変わるか、確かめてください。"
      ]
    },
    {
      "cell_type": "code",
      "execution_count": null,
      "metadata": {
        "id": "k_KNOliXBhp9"
      },
      "outputs": [],
      "source": []
    },
    {
      "cell_type": "markdown",
      "metadata": {
        "id": "7RwHN7ezBhp9"
      },
      "source": [
        "## 関数の定義と返値\n",
        "前述のように、変数の値が変わるたびにBMIの式を入力するのは面倒です。以下では、身長 `height` と体重 `weight` をもらって、BMIを計算する**関数** `bmi` を定義してみましょう。関数を定義すると、BMIの式の再入力を省けて便利です。\n",
        "\n",
        "次のような形式で、**関数定義**を記述できます。\n",
        "\n",
        "関数定義など、複数行のコードセルには、**行番号**を振るのがよいかもしれません。行番号を振るかどうかは、コマンドモードでエルの文字（大文字でも小文字でもよいです）を入力することによって、スイッチできます。行番号があるかないかは、コードの実行には影響しません。"
      ]
    },
    {
      "cell_type": "code",
      "execution_count": null,
      "metadata": {
        "id": "lUthb5nXBhp-"
      },
      "outputs": [],
      "source": [
        "def bmi(height, weight):\n",
        "    return weight / (height/100.0) ** 2"
      ]
    },
    {
      "cell_type": "markdown",
      "metadata": {
        "id": "-sx2uTwGBhp-"
      },
      "source": [
        "Python では、**関数定義**は、上のような形をしています。\n",
        "最初の行は以下のように **`def`** で始まります。\n",
        "\n",
        "------\n",
        "```Python\n",
        "    def 関数名(引数, ...):\n",
        "```\n",
        "------\n",
        "**引数**（ひきすう）とは、関数が受け取る値を指し示す変数のことです。**仮引数**（かりひきすう）ともいいます。"
      ]
    },
    {
      "cell_type": "markdown",
      "metadata": {
        "id": "xXNG7-r2Bhp-"
      },
      "source": [
        "`:` 以降は関数定義の本体であり、関数の処理を記述する部分として以下の構文が続きます。\n",
        "\n",
        "------\n",
        "```Python\n",
        "    return 式\n",
        "```\n",
        "------   \n",
        "\n",
        "この構文は **`return`** で始まり、**return文**と呼ばれます。return文は、`return` に続く式の評価結果を、関数の呼び出し元に返して（これを**返値**と言います）、関数を終了するという意味を持ちます。この関数を、入力となる引数とともに呼び出すと、`return` の後の式の評価結果を返値として返します。\n",
        "\n",
        "\n",
        "ここで、Pythonでは、\n",
        "`return` の前に空白が入ることに注意してください。\n",
        "このような行頭の空白を**インデント**と呼びます。\n",
        "Pythonでは、インデントの量によって、\n",
        "構文の**入れ子**を制御するようになっています。このことについては、\n",
        "より複雑な構文が出てきたときに説明しましょう。\n",
        "\n",
        "\n",
        "上記では、`def` の後に続く `bmi` が関数名です。それに続く括弧の中に書かれた `height` と `weight` は、**引数**です。また、`return` の後にBMIの計算式を記述しているので、関数の呼び出し元にはBMIの計算結果が返値として返ります。\n",
        "\n",
        "\n",
        "では、定義した関数 `bmi` を呼び出してみましょう。"
      ]
    },
    {
      "cell_type": "code",
      "execution_count": null,
      "metadata": {
        "colab": {
          "base_uri": "https://localhost:8080/"
        },
        "id": "sGolEhRHBhp-",
        "outputId": "07d37618-471a-4605-af42-38e290d16e3a"
      },
      "outputs": [
        {
          "output_type": "execute_result",
          "data": {
            "text/plain": [
              "29.425079221367138"
            ]
          },
          "metadata": {},
          "execution_count": 6
        }
      ],
      "source": [
        "def bmi(height, weight):\n",
        "  return weight / (height / 100.0) ** 2\n",
        "\n",
        "bmi(188.0,104.0)"
      ]
    },
    {
      "cell_type": "markdown",
      "metadata": {
        "id": "LruBuo1ZBhp-"
      },
      "source": [
        "第1引数を身長（cm）、第2引数を体重（kg）としたときのBMIが計算されていることがわかります。\n",
        "\n",
        "関数呼び出しは演算式の一種なので、引数の位置には任意の式を記述できますし、\n",
        "関数呼び出し自体も式の中に記述できます。"
      ]
    },
    {
      "cell_type": "code",
      "execution_count": null,
      "metadata": {
        "id": "Q1tyR0XaBhp-"
      },
      "outputs": [],
      "source": [
        "1.1*bmi(174.0, 119.0 * 0.454)"
      ]
    },
    {
      "cell_type": "markdown",
      "metadata": {
        "id": "XDn-m-oCBhp-"
      },
      "source": [
        "もう1つ関数を定義してみましょう。"
      ]
    },
    {
      "cell_type": "code",
      "execution_count": null,
      "metadata": {
        "id": "uyCKUsUbBhp-"
      },
      "outputs": [],
      "source": [
        "def felt_air_temperature(temperature, humidity):\n",
        "    return temperature - 1 / 2.3 * (temperature - 10) * (0.8 - humidity / 100)"
      ]
    },
    {
      "cell_type": "markdown",
      "metadata": {
        "id": "whDdhC-oBhp-"
      },
      "source": [
        "この関数は、温度と湿度を入力として、体感温度を返します。\n",
        "このように、関数名や変数名には `_` (アンダースコア）を含めることができます。\n",
        "アンダースコアで始めることもできます。\n",
        "\n",
        "数字も関数名や変数名に含めることができますが、\n",
        "名前の最初に来てはいけません。"
      ]
    },
    {
      "cell_type": "code",
      "execution_count": null,
      "metadata": {
        "colab": {
          "base_uri": "https://localhost:8080/"
        },
        "id": "H-0zEIh-Bhp-",
        "outputId": "394506b0-150b-46f3-f82b-7b197077676e"
      },
      "outputs": [
        {
          "output_type": "execute_result",
          "data": {
            "text/plain": [
              "25.652173913043477"
            ]
          },
          "metadata": {},
          "execution_count": 8
        }
      ],
      "source": [
        "def felt_air_temperature(temperature, humidity):\n",
        "  return temperature - 1 / 2.3 * (temperature - 10) * (0.8 - humidity / 100)\n",
        "\n",
        "felt_air_temperature(28, 50)"
      ]
    },
    {
      "cell_type": "markdown",
      "metadata": {
        "id": "AQp1g1zhBhqB"
      },
      "source": [
        "なお、`return` の後に式を書かないと、何も返されなかったことを表現するために、「何もない」ことを表す **`None`** という特別な値が返ります。\n",
        "（`None` という値は色々なところで現れることでしょう。）\n",
        "\n",
        "return文に到達せずに関数定義本体の最後まで行ってしまったときも、`None` という値が返ります。"
      ]
    },
    {
      "cell_type": "markdown",
      "metadata": {
        "id": "jYkqptuIBhqB"
      },
      "source": [
        "### 予約語\n",
        "Pythonでの `def` や `return` は、関数定義やreturn文の始まりを記述するための特別な記号であり、それ以外の用途に用いることができません。\n",
        "このように構文上で役割が予約されている語は、**予約語**と呼ばれます。\n",
        "Codeセルの構文ハイライトで（太字緑色などで）強調されるものが予約語だと覚えておけば大体問題ありません。"
      ]
    },
    {
      "cell_type": "markdown",
      "metadata": {
        "id": "BNmJCxwWBhqB"
      },
      "source": [
        "### 練習 `ft_to_cm`\n",
        "\n",
        "`f` フィート `i` インチをセンチメートルに変換する関数 `ft_to_cm(f,i)` を定義してください。\n",
        "ただし、1 フィート = 12 インチ = 30.48 cm としてよい。"
      ]
    },
    {
      "cell_type": "code",
      "execution_count": null,
      "metadata": {
        "colab": {
          "base_uri": "https://localhost:8080/"
        },
        "id": "FN9xsMk9BhqB",
        "outputId": "4e802663-fc72-49ae-fd47-35c999b954bf"
      },
      "outputs": [
        {
          "output_type": "execute_result",
          "data": {
            "text/plain": [
              "68.58"
            ]
          },
          "metadata": {},
          "execution_count": 9
        }
      ],
      "source": [
        "def ft_to_cm(f, i):\n",
        "  return f * 30.48 + i/12 * 30.48\n",
        "\n",
        "ft_to_cm(2, 3)"
      ]
    },
    {
      "cell_type": "markdown",
      "metadata": {
        "id": "q_pt3wk-BhqB"
      },
      "source": [
        "定義ができたら、次のセルを実行して、エラーがでないことを確認してください。"
      ]
    },
    {
      "cell_type": "code",
      "execution_count": null,
      "metadata": {
        "tags": [
          "raises-exception"
        ],
        "id": "PCRy4JgmBhqC"
      },
      "outputs": [],
      "source": [
        "def ft_to_cm(f, i):\n",
        "  return (f + i/12) * 30.48\n",
        "\n",
        "assert round(ft_to_cm(5, 2) - 157.48, 6) == 0\n",
        "assert round(ft_to_cm(6, 5) - 195.58, 6) == 0"
      ]
    },
    {
      "cell_type": "markdown",
      "metadata": {
        "id": "WvWusC4IBhqC"
      },
      "source": [
        "### 練習 `quadratic`\n",
        "\n",
        "二次関数 $f(x) = ax^2+bx+c$ の値を求める `quadratic(a,b,c,x)` を定義してください。"
      ]
    },
    {
      "cell_type": "code",
      "execution_count": null,
      "metadata": {
        "colab": {
          "base_uri": "https://localhost:8080/"
        },
        "id": "8QBnM2z_BhqC",
        "outputId": "3c879aa5-7612-4665-ac6c-8bc81077861c"
      },
      "outputs": [
        {
          "output_type": "execute_result",
          "data": {
            "text/plain": [
              "11"
            ]
          },
          "metadata": {},
          "execution_count": 12
        }
      ],
      "source": [
        "def quadratic(a, b, c, x):\n",
        "  return a * (x ** 2) + b * x + c\n",
        "\n",
        "quadratic(1, 2, 3, 2)"
      ]
    },
    {
      "cell_type": "markdown",
      "metadata": {
        "id": "0TYYc8wlBhqC"
      },
      "source": [
        "定義ができたら、次のセルを実行して、エラーがでないことを確認してください。"
      ]
    },
    {
      "cell_type": "code",
      "execution_count": null,
      "metadata": {
        "id": "epOD1wTJBhqC"
      },
      "outputs": [],
      "source": [
        "def quadratic(a, b, c, x):\n",
        "  return a * (x ** 2) + b * x + c\n",
        "\n",
        "assert quadratic(1, 2, 1, 3) == 16\n",
        "assert quadratic(1, -5, -2, 7) == 12"
      ]
    },
    {
      "cell_type": "markdown",
      "metadata": {
        "id": "2lpcCdNXBhqC"
      },
      "source": [
        "## ローカル変数\n",
        "次の関数は、ヘロンの公式によって、\n",
        "与えられた三辺の長さに対して三角形の面積を返すものです。"
      ]
    },
    {
      "cell_type": "code",
      "execution_count": null,
      "metadata": {
        "id": "livxYy1FBhqC"
      },
      "outputs": [],
      "source": [
        "import math\n",
        "\n",
        "def heron(a,b,c):\n",
        "    s = 0.5*(a+b+c)\n",
        "    return math.sqrt(s * (s-a) * (s-b) * (s-c))"
      ]
    },
    {
      "cell_type": "markdown",
      "metadata": {
        "id": "BZgzGXByBhqC"
      },
      "source": [
        "`math.sqrt` を使うために `import math` を行っています。"
      ]
    },
    {
      "cell_type": "markdown",
      "metadata": {
        "id": "MrJN90uyBhqC"
      },
      "source": [
        "次の式を評価してみましょう。"
      ]
    },
    {
      "cell_type": "code",
      "execution_count": null,
      "metadata": {
        "colab": {
          "base_uri": "https://localhost:8080/"
        },
        "id": "cAOT0gikBhqC",
        "outputId": "a2972f4b-ccb3-43fb-d87b-24313410edf8"
      },
      "outputs": [
        {
          "output_type": "execute_result",
          "data": {
            "text/plain": [
              "6.0"
            ]
          },
          "metadata": {},
          "execution_count": 13
        }
      ],
      "source": [
        "import math\n",
        "\n",
        "def heron(a, b, c):\n",
        "  s = 0.5 * (a + b + c)\n",
        "  return math.sqrt(s * (s - a) * (s - b) * (s - c))\n",
        "\n",
        "heron(3,4,5)"
      ]
    },
    {
      "cell_type": "markdown",
      "metadata": {
        "id": "8_Vp3ic6BhqC"
      },
      "source": [
        "この関数の中では、まず、3辺の長さを足して 2 で割った（0.5 を掛けた）値を求めています。\n",
        "そして、その値を `s` という変数に代入しています。\n",
        "この `s` という変数は、この関数の中で代入されているので、この関数の中だけで利用可能な変数となります。\n",
        "そのような変数を**ローカル変数**と呼びます。\n",
        "\n",
        "そして、`s` を使った式が計算されてreturn文で返されます。\n",
        "ここで、関数定義のひとまとまりの本体であることを表すために、`s` への代入文もreturn文も、同じ深さでインデントされていることに注意してください。"
      ]
    },
    {
      "cell_type": "markdown",
      "metadata": {
        "id": "MvxdokZDBhqC"
      },
      "source": [
        "Pythonでは、関数の中で定義された変数は、その関数のローカル変数となります。関数の引数もローカル変数です。関数の外で同じ名前の変数を使っても、それは関数のローカル変数とは「別もの」と考えられます。"
      ]
    },
    {
      "cell_type": "markdown",
      "metadata": {
        "id": "Kig2Ek4ABhqC"
      },
      "source": [
        "`heron` を呼び出した後で、関数の外で `s` の値を参照しても、以下のように、`s` が未定義という扱いになります。"
      ]
    },
    {
      "cell_type": "code",
      "execution_count": null,
      "metadata": {
        "tags": [
          "raises-exception"
        ],
        "id": "uRX56KyVBhqC"
      },
      "outputs": [],
      "source": [
        "s"
      ]
    },
    {
      "cell_type": "markdown",
      "metadata": {
        "id": "JDfLQmQOBhqC"
      },
      "source": [
        "以下では、`heron` の中では、`s` というローカル変数の値は 3 になりますが、関数の外では、`s` という変数は別もので、その値はずっと `100` です。"
      ]
    },
    {
      "cell_type": "code",
      "execution_count": null,
      "metadata": {
        "id": "fsNAOkItBhqC"
      },
      "outputs": [],
      "source": [
        "s = 100\n",
        "heron(3,4,5)"
      ]
    },
    {
      "cell_type": "code",
      "execution_count": null,
      "metadata": {
        "id": "WflxesSBBhqC"
      },
      "outputs": [],
      "source": [
        "s"
      ]
    },
    {
      "cell_type": "markdown",
      "metadata": {
        "id": "nv86zvkEBhqC"
      },
      "source": [
        "## `print`\n",
        "上の例で、ローカル変数は関数の返値を計算するのに使われますが、それが定義されている関数の外からは参照することができません。\n",
        "\n",
        "ローカル変数の値など、関数の実行途中の状況を確認するには、 **`print`** というPythonが最初から用意してくれている関数（**組み込み関数**）を用いることができます。この `print` を関数内から呼び出すことでローカル変数の値を確認できます。\n",
        "\n",
        "`print` は任意個の引数を取ることができ、コンマ `,` の区切りには空白文字が出力されます。引数を与えずに呼び出した場合には、改行のみを出力します。"
      ]
    },
    {
      "cell_type": "code",
      "execution_count": null,
      "metadata": {
        "colab": {
          "base_uri": "https://localhost:8080/"
        },
        "id": "Bn1eZ9C_BhqD",
        "outputId": "c7bc149e-b13a-4f81-d117-7f3a7f4dd3df"
      },
      "outputs": [
        {
          "output_type": "stream",
          "name": "stdout",
          "text": [
            "The value of s is 1.5\n"
          ]
        },
        {
          "output_type": "execute_result",
          "data": {
            "text/plain": [
              "0.4330127018922193"
            ]
          },
          "metadata": {},
          "execution_count": 15
        }
      ],
      "source": [
        "def heron(a,b,c):\n",
        "    s = 0.5*(a+b+c)\n",
        "    print('The value of s is', s)\n",
        "    return math.sqrt(s * (s-a) * (s-b) * (s-c))\n",
        "\n",
        "heron(1,1,1)"
      ]
    },
    {
      "cell_type": "code",
      "execution_count": null,
      "metadata": {
        "id": "ZdHCa5ujBhqD"
      },
      "outputs": [],
      "source": [
        "heron(1,1,1)"
      ]
    },
    {
      "cell_type": "markdown",
      "metadata": {
        "id": "GCxLT4IFBhqD"
      },
      "source": [
        "このように `print` 関数を用いて変数の値を観察することは、プログラムの誤り（**バグ**）を見つけ、修正（**デバッグ**）する最も基本的な方法です。これは1-4でも改めて説明します。\n",
        "\n",
        "なお、以降の説明では、 `print` 関数を呼び出して値を出力することを「**印字**する」と表現します。"
      ]
    },
    {
      "cell_type": "markdown",
      "metadata": {
        "id": "UPPLNpA0BhqD"
      },
      "source": [
        "## `print` と `return`\n",
        "関数が値を返すことを期待されている場合は、必ず `return` を使ってください。\n",
        "\n",
        "関数内で値を印字しても、関数の返値として利用することはできません。\n",
        "\n",
        "たとえば `heron` を以下のように定義すると、`heron(1,1,1) * 2` のような計算ができなくなります。\n",
        "\n",
        "---\n",
        "```Python\n",
        "def heron(a,b,c):\n",
        "    s = 0.5*(a+b+c)\n",
        "    print('The value of s is', s)\n",
        "    print(math.sqrt(s * (s-a) * (s-b) * (s-c)))\n",
        "```\n",
        "---\n",
        "\n",
        "なお、\n",
        "\n",
        "```Python\n",
        "    return print(math.sqrt(s * (s-a) * (s-b) * (s-c)))\n",
        "```\n",
        "\n",
        "のように書いても駄目です。`print` 関数は `None` という値を返しますので、これでは関数は常に `None` という値を返してしまいます。"
      ]
    },
    {
      "cell_type": "markdown",
      "metadata": {
        "id": "8WC1pW5eBhqD"
      },
      "source": [
        "## コメントと空行\n",
        "**コメント**については既に説明しましたが、\n",
        "関数定義にはコメントを付加して、後から読んでもわかるようにしましょう。\n",
        "\n",
        "コメントだけの行は**空行**（空白のみから成る行）と同じに扱われます。\n",
        "\n",
        "関数定義の中に空行を自由に入れることができますので、\n",
        "長い関数定義には、区切りとなるところに空行を入れるのがよいでしょう。"
      ]
    },
    {
      "cell_type": "code",
      "execution_count": null,
      "metadata": {
        "id": "3Wihnm9bBhqD"
      },
      "outputs": [],
      "source": [
        "# heronの公式により三角形の面積を返す\n",
        "def heron(a,b,c): # a,b,c は三辺の長さ\n",
        "\n",
        "    # 辺の合計の半分をsに置く\n",
        "    s = 0.5*(a+b+c)\n",
        "    print('The value of s is', s)\n",
        "\n",
        "    return math.sqrt(s * (s-a) * (s-b) * (s-c))"
      ]
    },
    {
      "cell_type": "markdown",
      "metadata": {
        "id": "ohHutE19BhqD"
      },
      "source": [
        "## 関数の参照の書き方\n",
        "\n",
        "関数は、\n",
        "\n",
        "　　関数 `heron` は、三角形の三辺の長さをもらって三角形の面積を返します。\n",
        "    \n",
        "というように、名前だけで参照することもありますが、\n",
        "\n",
        "　　`heron(a,b,c)` は、三角形の三辺の長さ `a`, `b`, `c` をもらって三角形の面積を返します。\n",
        "\n",
        "というように、引数を明示して参照することもあります。\n",
        "\n",
        "ときには、\n",
        "\n",
        "　　`heron()` は三角形の面積を返します。\n",
        "    \n",
        "のように、関数名に `()` を付けて参照することがあります。\n",
        "この記法は、`heron` が関数であることを明示しています。\n",
        "\n",
        "関数には引数がゼロ個のものがあるのですが、`heron()` と参照するとき、\n",
        "`heron` は必ずしも引数の数がゼロ個ではないことに注意してください。\n",
        "\n",
        "後に学習するメソッドという関数の親戚に対しても同様の記法が用いられます。"
      ]
    },
    {
      "cell_type": "markdown",
      "metadata": {
        "id": "Gjj8yGZOBhqD"
      },
      "source": [
        "### 練習 `qe_disc` `qe_solution1` `qe_solution1`\n",
        "\n",
        "二次方程式 $ax^2 + bx + c = 0$ に関して以下のような関数を定義してください。\n",
        "\n",
        "1. 判別式 $b^2 - 4ac$ を求める `qe_disc(a,b,c)`\n",
        "2. 解のうち、大きくない方を求める `qe_solution1(a,b,c)`\n",
        "3. 解のうち、小さくない方を求める `qe_solution2(a,b,c)`\n",
        "\n",
        "ただし、`qe_solution1` と `qe_solution2` は `qe_disc` を使って定義してください。\n",
        "二次方程式が実数解を持つと仮定してよいです。"
      ]
    },
    {
      "cell_type": "code",
      "execution_count": null,
      "metadata": {
        "id": "p3XdKZzKBhqD"
      },
      "outputs": [],
      "source": [
        "import math\n",
        "\n",
        "def qe_disc(a, b, c):\n",
        "    return b ** 2 - 4 * a * c\n",
        "\n",
        "def qe_solution1(a, b, c):\n",
        "    return (-b - (qe_disc(a, b, c)) ** 0.5) / 2 * a\n",
        "\n",
        "def qe_solution2(a, b, c):\n",
        "    return (-b + (qe_disc(a, b, c)) ** 0.5) / 2 * a"
      ]
    },
    {
      "cell_type": "markdown",
      "metadata": {
        "id": "Q2YDLluUBhqD"
      },
      "source": [
        "定義ができたら、次のセルを実行して、エラーがでないことを確認してください。"
      ]
    },
    {
      "cell_type": "code",
      "execution_count": null,
      "metadata": {
        "tags": [
          "raises-exception"
        ],
        "id": "bh7yvCIHBhqD"
      },
      "outputs": [],
      "source": [
        "import math\n",
        "\n",
        "def qe_disc(a, b, c):\n",
        "    return b ** 2 - 4 * a * c\n",
        "\n",
        "def qe_solution1(a, b, c):\n",
        "    return (-b - (qe_disc(a, b, c)) ** 0.5) / 2 * a\n",
        "\n",
        "def qe_solution2(a, b, c):\n",
        "    return (-b + (qe_disc(a, b, c)) ** 0.5) / 2 * a\n",
        "\n",
        "assert qe_disc(1, -2, 1) == 0\n",
        "assert qe_disc(1, -5, 6) == 1\n",
        "assert round(qe_solution1(1, -2, 1) - 1, 6) == 0\n",
        "assert round(qe_solution2(1, -2, 1) - 1, 6) == 0\n",
        "assert round(qe_solution1(1, -5, 6) - 2, 6) == 0\n",
        "assert round(qe_solution2(1, -5, 6) - 3, 6) == 0"
      ]
    },
    {
      "cell_type": "markdown",
      "metadata": {
        "id": "3vQYMyfkBhqD"
      },
      "source": [
        "## ▲グローバル変数\n",
        "\n",
        "Pythonでは、関数の中で代入が行われない変数は、グローバル変数とみなされます。\n",
        "\n",
        "**グローバル変数**とは、関数の外（**トップレベル**もしくは**モジュールレベル**と呼ばれます）で定義される変数のことです。\n",
        "\n",
        "グローバル変数は、関数の中から参照することができます。"
      ]
    },
    {
      "cell_type": "code",
      "execution_count": null,
      "metadata": {
        "id": "lvDSoZvpBhqD"
      },
      "outputs": [],
      "source": [
        "g = 9.8"
      ]
    },
    {
      "cell_type": "code",
      "execution_count": null,
      "metadata": {
        "id": "b4VUoZqeBhqD"
      },
      "outputs": [],
      "source": [
        "def force(m):\n",
        "    return m*g"
      ]
    },
    {
      "cell_type": "markdown",
      "metadata": {
        "id": "o_mQli9ZBhqD"
      },
      "source": [
        "以上のように `force` を定義すると、\n",
        "`force` の中で `g` というグローバル変数を参照することができます。"
      ]
    },
    {
      "cell_type": "code",
      "execution_count": null,
      "metadata": {
        "id": "tpB3gce8BhqD"
      },
      "outputs": [],
      "source": [
        "force(104)"
      ]
    },
    {
      "cell_type": "code",
      "execution_count": null,
      "metadata": {
        "id": "oQKsAXBLBhqD"
      },
      "outputs": [],
      "source": [
        "g = g/6"
      ]
    },
    {
      "cell_type": "markdown",
      "metadata": {
        "id": "IfvSgFMUBhqE"
      },
      "source": [
        "以上のように、`g` の値を変更してから `force` を実行すると、\n",
        "変更後の値が用いられます。"
      ]
    },
    {
      "cell_type": "code",
      "execution_count": null,
      "metadata": {
        "id": "RnBHW6rlBhqE"
      },
      "outputs": [],
      "source": [
        "force(104)"
      ]
    },
    {
      "cell_type": "markdown",
      "metadata": {
        "id": "CmIgz8FTBhqE"
      },
      "source": [
        "以下はより簡単な例です。"
      ]
    },
    {
      "cell_type": "code",
      "execution_count": null,
      "metadata": {
        "id": "Y-WrLfGjBhqE"
      },
      "outputs": [],
      "source": [
        "a = 10\n",
        "def foo():\n",
        "    return a\n",
        "def bar():\n",
        "    a = 3\n",
        "    return a"
      ]
    },
    {
      "cell_type": "code",
      "execution_count": null,
      "metadata": {
        "id": "YXm_RrweBhqE"
      },
      "outputs": [],
      "source": [
        "foo()"
      ]
    },
    {
      "cell_type": "code",
      "execution_count": null,
      "metadata": {
        "id": "-YktRdNfBhqE"
      },
      "outputs": [],
      "source": [
        "bar()"
      ]
    },
    {
      "cell_type": "code",
      "execution_count": null,
      "metadata": {
        "id": "Lfq_V7gyBhqE"
      },
      "outputs": [],
      "source": [
        "a"
      ]
    },
    {
      "cell_type": "code",
      "execution_count": null,
      "metadata": {
        "id": "OsRAwcwiBhqE"
      },
      "outputs": [],
      "source": [
        "a = 20"
      ]
    },
    {
      "cell_type": "code",
      "execution_count": null,
      "metadata": {
        "id": "7uowmLLMBhqE"
      },
      "outputs": [],
      "source": [
        "foo()"
      ]
    },
    {
      "cell_type": "markdown",
      "metadata": {
        "id": "dhyp09ekBhqE"
      },
      "source": [
        "`bar` の中では `a` への代入があるので、`a` はローカル変数になります。\n",
        "ローカル変数の `a` とグローバル変数の `a` は別ものと考えてください。\n",
        "ローカル変数 `a` への代入があっても、グローバル変数の `a` の値は変化しません。\n",
        "`foo` の中の `a` はグローバル変数です。"
      ]
    },
    {
      "cell_type": "code",
      "execution_count": null,
      "metadata": {
        "id": "RdTNtAW1BhqE"
      },
      "outputs": [],
      "source": [
        "def boo(a):\n",
        "    return a"
      ]
    },
    {
      "cell_type": "code",
      "execution_count": null,
      "metadata": {
        "id": "utdg3ECBBhqE"
      },
      "outputs": [],
      "source": [
        "boo(5)"
      ]
    },
    {
      "cell_type": "code",
      "execution_count": null,
      "metadata": {
        "id": "2qfEduDxBhqE"
      },
      "outputs": [],
      "source": [
        "a"
      ]
    },
    {
      "cell_type": "markdown",
      "metadata": {
        "id": "IxiLgIjpBhqE"
      },
      "source": [
        "関数の引数もローカル変数の一種と考えられ、グローバル変数とは別ものです。"
      ]
    },
    {
      "cell_type": "markdown",
      "metadata": {
        "id": "Bk1aB3OqBhqE"
      },
      "source": [
        "## 練習の解答"
      ]
    },
    {
      "cell_type": "code",
      "execution_count": null,
      "metadata": {
        "id": "NORM9OkFBhqE"
      },
      "outputs": [],
      "source": [
        "def ft_to_cm(f, i):\n",
        "    return 30.48*f + (30.48/12)*i"
      ]
    },
    {
      "cell_type": "code",
      "execution_count": null,
      "metadata": {
        "id": "oKgadAaOBhqE"
      },
      "outputs": [],
      "source": [
        "def quadratic(a, b, c, x):\n",
        "    return a*x*x + b*x + c"
      ]
    },
    {
      "cell_type": "code",
      "execution_count": null,
      "metadata": {
        "id": "LvzpTdtSBhqE"
      },
      "outputs": [],
      "source": [
        "import math\n",
        "\n",
        "def qe_disc(a, b, c):\n",
        "    return b*b - 4*a*c\n",
        "\n",
        "def qe_solution1(a, b, c):\n",
        "    return (-b - math.sqrt(qe_disc(a, b, c))) / (2*a)\n",
        "\n",
        "def qe_solution2(a, b, c):\n",
        "    return (-b + math.sqrt(qe_disc(a, b, c))) / (2*a)"
      ]
    }
  ],
  "metadata": {
    "kernelspec": {
      "display_name": "Python 3",
      "language": "python",
      "name": "python3"
    },
    "language_info": {
      "name": "python"
    },
    "colab": {
      "provenance": [],
      "include_colab_link": true
    }
  },
  "nbformat": 4,
  "nbformat_minor": 0
}